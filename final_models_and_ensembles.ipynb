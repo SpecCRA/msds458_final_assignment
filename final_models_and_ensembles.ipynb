{
 "cells": [
  {
   "cell_type": "markdown",
   "metadata": {},
   "source": [
    "# Setup"
   ]
  },
  {
   "cell_type": "code",
   "execution_count": 1,
   "metadata": {},
   "outputs": [],
   "source": [
    "# import packages\n",
    "import os\n",
    "import pandas as pd\n",
    "import numpy as np\n",
    "import tensorflow as tf\n",
    "import sklearn\n",
    "import sys\n",
    "import matplotlib\n",
    "from tensorflow import keras\n",
    "import datetime\n",
    "import matplotlib.pyplot as plt"
   ]
  },
  {
   "cell_type": "code",
   "execution_count": 2,
   "metadata": {},
   "outputs": [],
   "source": [
    "# import support libraries\n",
    "from tensorflow.keras.preprocessing.image import ImageDataGenerator, array_to_img, \\\n",
    "                                                    img_to_array, load_img\n",
    "                                                    \n",
    "from tensorflow.keras.utils import to_categorical\n",
    "from tensorflow.keras.models import Sequential\n",
    "from tensorflow.keras.layers import Dense, Flatten, Conv2D, MaxPooling2D, Dropout, \\\n",
    "                                        BatchNormalization, GlobalAveragePooling2D\n",
    "\n",
    "from tensorflow.keras import Model\n",
    "from tensorflow.keras.optimizers import RMSprop\n",
    "from tensorflow.keras.applications import ResNet50, InceptionV3, VGG16, Xception"
   ]
  },
  {
   "cell_type": "code",
   "execution_count": 3,
   "metadata": {},
   "outputs": [
    {
     "output_type": "stream",
     "name": "stdout",
     "text": "Version check:\nPython: 3.8.2 (default, Apr 27 2020, 15:53:34) \n[GCC 9.3.0]\npandas: 1.0.3\nNumPy: 1.18.3\nsklearn: 0.22.2.post1\nmatplotlib: 3.2.1\nTensorFlow: 2.2.0\nKeras: 2.3.0-tf\n"
    }
   ],
   "source": [
    "print('Version check:')\n",
    "print('Python: {}'.format(sys.version))\n",
    "print('pandas: {}'.format(pd.__version__))\n",
    "print('NumPy: {}'.format(np.__version__))\n",
    "print('sklearn: {}'.format(sklearn.__version__))\n",
    "print('matplotlib: {}'.format(matplotlib.__version__))\n",
    "print('TensorFlow: {}'.format(tf.__version__))\n",
    "print('Keras: {}'.format(keras.__version__))"
   ]
  },
  {
   "cell_type": "code",
   "execution_count": 4,
   "metadata": {},
   "outputs": [
    {
     "output_type": "stream",
     "name": "stdout",
     "text": "Num GPUs Available:  1\n"
    }
   ],
   "source": [
    "# Backend Settings\n",
    "\n",
    "# clear Keras session\n",
    "keras.backend.clear_session()\n",
    "\n",
    "# set seeds\n",
    "np.random.seed(18)\n",
    "tf.random.set_seed(18)\n",
    "\n",
    "print(\"Num GPUs Available: \", len(tf.config.experimental.list_physical_devices('XLA_GPU')))\n",
    "#tf.debugging.set_log_device_placement(True)"
   ]
  },
  {
   "cell_type": "markdown",
   "metadata": {},
   "source": [
    "# Global Functions"
   ]
  },
  {
   "cell_type": "code",
   "execution_count": 5,
   "metadata": {},
   "outputs": [],
   "source": [
    "class TrainRuntimeCallback(keras.callbacks.Callback):\n",
    "\n",
    "  def on_train_begin(self,logs={}):\n",
    "    self.start = datetime.datetime.now()\n",
    "\n",
    "  def on_train_end(self,logs={}):\n",
    "    self.process_time = (datetime.datetime.now() - self.start).total_seconds()\n",
    "\n",
    "class TestRuntimeCallback(keras.callbacks.Callback):\n",
    "\n",
    "  def on_test_begin(self,logs={}):\n",
    "    self.start = datetime.datetime.now()\n",
    "\n",
    "  def on_test_end(self,logs={}):\n",
    "    self.process_time = (datetime.datetime.now() - self.start).total_seconds()"
   ]
  },
  {
   "cell_type": "code",
   "execution_count": 6,
   "metadata": {},
   "outputs": [],
   "source": [
    "def train_model(model, optimizer, train_input, val_input, len_df, model_name):\n",
    "    data = dict()\n",
    "\n",
    "    # Compile model\n",
    "    model.compile(optimizer = optimizer,\n",
    "                    loss = 'categorical_crossentropy',\n",
    "                    metrics = ['accuracy'])\n",
    "\n",
    "    # Create a callback to record training time\n",
    "    train_rt = TrainRuntimeCallback()\n",
    "\n",
    "    # Model fitting parameters\n",
    "    history = model.fit(\n",
    "        train_input,\n",
    "        steps_per_epoch = len_df // batch_size,\n",
    "        #steps_per_epoch = 32,\n",
    "        epochs = 20,\n",
    "        callbacks = [train_rt],\n",
    "        validation_data=val_input,\n",
    "        validation_steps = (len_df // batch_size)\n",
    "        #validation_steps = 32\n",
    "    )\n",
    "\n",
    "    train_time = train_rt.process_time\n",
    "    #print(train_time)\n",
    "\n",
    "    history_dict = history.history\n",
    "\n",
    "    data['model'] = model_name\n",
    "    data['train_time'] = train_time\n",
    "    data['train_loss'] = history_dict['loss'][-1]\n",
    "    data['train_acc'] = history_dict['accuracy'][-1]\n",
    "    data['val_loss'] = history_dict['val_loss'][-1]\n",
    "    data['val_acc'] = history_dict['val_accuracy'][-1]\n",
    "\n",
    "    return data, history_dict"
   ]
  },
  {
   "cell_type": "code",
   "execution_count": 7,
   "metadata": {},
   "outputs": [],
   "source": [
    "def test_model(model, test_input, len_df):\n",
    "    \n",
    "    data = dict()\n",
    "\n",
    "    # Create test callback\n",
    "    test_rt = TestRuntimeCallback()\n",
    "\n",
    "    test_loss, test_acc = model.evaluate(\n",
    "        test_input,\n",
    "        steps = len_df // batch_size,\n",
    "        callbacks = [test_rt]\n",
    "    )\n",
    "    test_time = test_rt.process_time\n",
    "    data['test_time'] = test_time\n",
    "    data['test_loss'] = test_loss\n",
    "    data['test_acc'] = test_acc\n",
    "\n",
    "    return data"
   ]
  },
  {
   "cell_type": "code",
   "execution_count": 8,
   "metadata": {},
   "outputs": [],
   "source": [
    "def round_val(val):\n",
    "    return round(val, 3)"
   ]
  },
  {
   "cell_type": "code",
   "execution_count": 9,
   "metadata": {},
   "outputs": [],
   "source": [
    "def save_model_data(train_data, test_data):\n",
    "    data = dict()\n",
    "\n",
    "    data['model'] = train_data['model']\n",
    "    data['train_loss'] = round_val(train_data['train_loss'])\n",
    "    data['train_acc'] = round_val(train_data['train_acc'])\n",
    "    data['train_time'] = round_val(train_data['train_time'])\n",
    "    data['val_loss'] = round_val(train_data['val_loss'])\n",
    "    data['val_acc'] = round_val(train_data['val_acc'])\n",
    "    data['test_loss'] = round_val(test_data['test_loss'])\n",
    "    data['test_acc'] = round_val(test_data['test_acc'])\n",
    "    data['test_time'] = round_val(test_data['test_time'])\n",
    "\n",
    "    return data"
   ]
  },
  {
   "cell_type": "markdown",
   "metadata": {},
   "source": [
    "# Load and import data"
   ]
  },
  {
   "cell_type": "code",
   "execution_count": 10,
   "metadata": {},
   "outputs": [],
   "source": [
    "train_dir = 'data_files/train/'\n",
    "test_dir = 'data_files/test/'\n",
    "\n",
    "train_df = pd.read_csv('data_files/train.csv')\n",
    "test_df = pd.read_csv('data_files/test.csv')\n",
    "\n",
    "train_df = train_df.sort_values('filename')\n",
    "test_df = test_df.sort_values('filename')"
   ]
  },
  {
   "cell_type": "code",
   "execution_count": 11,
   "metadata": {},
   "outputs": [
    {
     "output_type": "execute_result",
     "data": {
      "text/plain": "       Unnamed: 0         id_code experiment  plate well  sirna  \\\n0               0  HEPG2-01_1_B03   HEPG2-01      1  B03    513   \n36515       36515  HEPG2-01_1_B03   HEPG2-01      1  B03    513   \n1               1  HEPG2-01_1_B04   HEPG2-01      1  B04    840   \n36516       36516  HEPG2-01_1_B04   HEPG2-01      1  B04    840   \n2               2  HEPG2-01_1_B05   HEPG2-01      1  B05   1020   \n\n                     filename  \n0      HEPG2-01_1_B03_s1.jpeg  \n36515  HEPG2-01_1_B03_s2.jpeg  \n1      HEPG2-01_1_B04_s1.jpeg  \n36516  HEPG2-01_1_B04_s2.jpeg  \n2      HEPG2-01_1_B05_s1.jpeg  ",
      "text/html": "<div>\n<style scoped>\n    .dataframe tbody tr th:only-of-type {\n        vertical-align: middle;\n    }\n\n    .dataframe tbody tr th {\n        vertical-align: top;\n    }\n\n    .dataframe thead th {\n        text-align: right;\n    }\n</style>\n<table border=\"1\" class=\"dataframe\">\n  <thead>\n    <tr style=\"text-align: right;\">\n      <th></th>\n      <th>Unnamed: 0</th>\n      <th>id_code</th>\n      <th>experiment</th>\n      <th>plate</th>\n      <th>well</th>\n      <th>sirna</th>\n      <th>filename</th>\n    </tr>\n  </thead>\n  <tbody>\n    <tr>\n      <th>0</th>\n      <td>0</td>\n      <td>HEPG2-01_1_B03</td>\n      <td>HEPG2-01</td>\n      <td>1</td>\n      <td>B03</td>\n      <td>513</td>\n      <td>HEPG2-01_1_B03_s1.jpeg</td>\n    </tr>\n    <tr>\n      <th>36515</th>\n      <td>36515</td>\n      <td>HEPG2-01_1_B03</td>\n      <td>HEPG2-01</td>\n      <td>1</td>\n      <td>B03</td>\n      <td>513</td>\n      <td>HEPG2-01_1_B03_s2.jpeg</td>\n    </tr>\n    <tr>\n      <th>1</th>\n      <td>1</td>\n      <td>HEPG2-01_1_B04</td>\n      <td>HEPG2-01</td>\n      <td>1</td>\n      <td>B04</td>\n      <td>840</td>\n      <td>HEPG2-01_1_B04_s1.jpeg</td>\n    </tr>\n    <tr>\n      <th>36516</th>\n      <td>36516</td>\n      <td>HEPG2-01_1_B04</td>\n      <td>HEPG2-01</td>\n      <td>1</td>\n      <td>B04</td>\n      <td>840</td>\n      <td>HEPG2-01_1_B04_s2.jpeg</td>\n    </tr>\n    <tr>\n      <th>2</th>\n      <td>2</td>\n      <td>HEPG2-01_1_B05</td>\n      <td>HEPG2-01</td>\n      <td>1</td>\n      <td>B05</td>\n      <td>1020</td>\n      <td>HEPG2-01_1_B05_s1.jpeg</td>\n    </tr>\n  </tbody>\n</table>\n</div>"
     },
     "metadata": {},
     "execution_count": 11
    }
   ],
   "source": [
    "train_df.head()"
   ]
  },
  {
   "cell_type": "code",
   "execution_count": 12,
   "metadata": {},
   "outputs": [
    {
     "output_type": "execute_result",
     "data": {
      "text/plain": "       Unnamed: 0         well_id experiment  plate well  \\\n0               0  HEPG2-08_1_B03   HEPG2-08      1  B03   \n19897       39794  HEPG2-08_1_B03   HEPG2-08      1  B03   \n1               2  HEPG2-08_1_B04   HEPG2-08      1  B04   \n19898       39796  HEPG2-08_1_B04   HEPG2-08      1  B04   \n2               4  HEPG2-08_1_B05   HEPG2-08      1  B05   \n\n                     filename  sirna_id  \n0      HEPG2-08_1_B03_s1.jpeg       855  \n19897  HEPG2-08_1_B03_s2.jpeg       855  \n1      HEPG2-08_1_B04_s1.jpeg       710  \n19898  HEPG2-08_1_B04_s2.jpeg       710  \n2      HEPG2-08_1_B05_s1.jpeg       836  ",
      "text/html": "<div>\n<style scoped>\n    .dataframe tbody tr th:only-of-type {\n        vertical-align: middle;\n    }\n\n    .dataframe tbody tr th {\n        vertical-align: top;\n    }\n\n    .dataframe thead th {\n        text-align: right;\n    }\n</style>\n<table border=\"1\" class=\"dataframe\">\n  <thead>\n    <tr style=\"text-align: right;\">\n      <th></th>\n      <th>Unnamed: 0</th>\n      <th>well_id</th>\n      <th>experiment</th>\n      <th>plate</th>\n      <th>well</th>\n      <th>filename</th>\n      <th>sirna_id</th>\n    </tr>\n  </thead>\n  <tbody>\n    <tr>\n      <th>0</th>\n      <td>0</td>\n      <td>HEPG2-08_1_B03</td>\n      <td>HEPG2-08</td>\n      <td>1</td>\n      <td>B03</td>\n      <td>HEPG2-08_1_B03_s1.jpeg</td>\n      <td>855</td>\n    </tr>\n    <tr>\n      <th>19897</th>\n      <td>39794</td>\n      <td>HEPG2-08_1_B03</td>\n      <td>HEPG2-08</td>\n      <td>1</td>\n      <td>B03</td>\n      <td>HEPG2-08_1_B03_s2.jpeg</td>\n      <td>855</td>\n    </tr>\n    <tr>\n      <th>1</th>\n      <td>2</td>\n      <td>HEPG2-08_1_B04</td>\n      <td>HEPG2-08</td>\n      <td>1</td>\n      <td>B04</td>\n      <td>HEPG2-08_1_B04_s1.jpeg</td>\n      <td>710</td>\n    </tr>\n    <tr>\n      <th>19898</th>\n      <td>39796</td>\n      <td>HEPG2-08_1_B04</td>\n      <td>HEPG2-08</td>\n      <td>1</td>\n      <td>B04</td>\n      <td>HEPG2-08_1_B04_s2.jpeg</td>\n      <td>710</td>\n    </tr>\n    <tr>\n      <th>2</th>\n      <td>4</td>\n      <td>HEPG2-08_1_B05</td>\n      <td>HEPG2-08</td>\n      <td>1</td>\n      <td>B05</td>\n      <td>HEPG2-08_1_B05_s1.jpeg</td>\n      <td>836</td>\n    </tr>\n  </tbody>\n</table>\n</div>"
     },
     "metadata": {},
     "execution_count": 12
    }
   ],
   "source": [
    "test_df.head()"
   ]
  },
  {
   "cell_type": "markdown",
   "metadata": {},
   "source": [
    "# Preprocessing"
   ]
  },
  {
   "cell_type": "markdown",
   "metadata": {},
   "source": [
    "## Select one cell line at a time"
   ]
  },
  {
   "cell_type": "code",
   "execution_count": 13,
   "metadata": {},
   "outputs": [
    {
     "output_type": "execute_result",
     "data": {
      "text/plain": "            site_id         well_id cell_type dataset experiment  plate well  \\\n0  HEPG2-08_1_B02_1  HEPG2-08_1_B02     HEPG2    test   HEPG2-08      1  B02   \n1  HEPG2-08_1_B02_2  HEPG2-08_1_B02     HEPG2    test   HEPG2-08      1  B02   \n2  HEPG2-08_1_B03_1  HEPG2-08_1_B03     HEPG2    test   HEPG2-08      1  B03   \n3  HEPG2-08_1_B03_2  HEPG2-08_1_B03     HEPG2    test   HEPG2-08      1  B03   \n4  HEPG2-08_1_B04_1  HEPG2-08_1_B04     HEPG2    test   HEPG2-08      1  B04   \n\n   site         well_type   sirna  sirna_id  \n0     1  negative_control   EMPTY      1138  \n1     2  negative_control   EMPTY      1138  \n2     1         treatment  s21721       855  \n3     2         treatment  s21721       855  \n4     1         treatment  s20894       710  ",
      "text/html": "<div>\n<style scoped>\n    .dataframe tbody tr th:only-of-type {\n        vertical-align: middle;\n    }\n\n    .dataframe tbody tr th {\n        vertical-align: top;\n    }\n\n    .dataframe thead th {\n        text-align: right;\n    }\n</style>\n<table border=\"1\" class=\"dataframe\">\n  <thead>\n    <tr style=\"text-align: right;\">\n      <th></th>\n      <th>site_id</th>\n      <th>well_id</th>\n      <th>cell_type</th>\n      <th>dataset</th>\n      <th>experiment</th>\n      <th>plate</th>\n      <th>well</th>\n      <th>site</th>\n      <th>well_type</th>\n      <th>sirna</th>\n      <th>sirna_id</th>\n    </tr>\n  </thead>\n  <tbody>\n    <tr>\n      <th>0</th>\n      <td>HEPG2-08_1_B02_1</td>\n      <td>HEPG2-08_1_B02</td>\n      <td>HEPG2</td>\n      <td>test</td>\n      <td>HEPG2-08</td>\n      <td>1</td>\n      <td>B02</td>\n      <td>1</td>\n      <td>negative_control</td>\n      <td>EMPTY</td>\n      <td>1138</td>\n    </tr>\n    <tr>\n      <th>1</th>\n      <td>HEPG2-08_1_B02_2</td>\n      <td>HEPG2-08_1_B02</td>\n      <td>HEPG2</td>\n      <td>test</td>\n      <td>HEPG2-08</td>\n      <td>1</td>\n      <td>B02</td>\n      <td>2</td>\n      <td>negative_control</td>\n      <td>EMPTY</td>\n      <td>1138</td>\n    </tr>\n    <tr>\n      <th>2</th>\n      <td>HEPG2-08_1_B03_1</td>\n      <td>HEPG2-08_1_B03</td>\n      <td>HEPG2</td>\n      <td>test</td>\n      <td>HEPG2-08</td>\n      <td>1</td>\n      <td>B03</td>\n      <td>1</td>\n      <td>treatment</td>\n      <td>s21721</td>\n      <td>855</td>\n    </tr>\n    <tr>\n      <th>3</th>\n      <td>HEPG2-08_1_B03_2</td>\n      <td>HEPG2-08_1_B03</td>\n      <td>HEPG2</td>\n      <td>test</td>\n      <td>HEPG2-08</td>\n      <td>1</td>\n      <td>B03</td>\n      <td>2</td>\n      <td>treatment</td>\n      <td>s21721</td>\n      <td>855</td>\n    </tr>\n    <tr>\n      <th>4</th>\n      <td>HEPG2-08_1_B04_1</td>\n      <td>HEPG2-08_1_B04</td>\n      <td>HEPG2</td>\n      <td>test</td>\n      <td>HEPG2-08</td>\n      <td>1</td>\n      <td>B04</td>\n      <td>1</td>\n      <td>treatment</td>\n      <td>s20894</td>\n      <td>710</td>\n    </tr>\n  </tbody>\n</table>\n</div>"
     },
     "metadata": {},
     "execution_count": 13
    }
   ],
   "source": [
    "df = pd.read_csv('rxrx1/rxrx1.csv')\n",
    "df.head()"
   ]
  },
  {
   "cell_type": "code",
   "execution_count": 14,
   "metadata": {},
   "outputs": [
    {
     "output_type": "execute_result",
     "data": {
      "text/plain": "['HEPG2', 'HUVEC', 'RPE', 'U2OS']"
     },
     "metadata": {},
     "execution_count": 14
    }
   ],
   "source": [
    "cell_types = list(df.cell_type.unique())\n",
    "cell_types"
   ]
  },
  {
   "cell_type": "code",
   "execution_count": 15,
   "metadata": {},
   "outputs": [
    {
     "output_type": "execute_result",
     "data": {
      "text/plain": "Index(['Unnamed: 0', 'id_code', 'experiment', 'plate', 'well', 'sirna',\n       'filename'],\n      dtype='object')"
     },
     "metadata": {},
     "execution_count": 15
    }
   ],
   "source": [
    "train_df.columns"
   ]
  },
  {
   "cell_type": "code",
   "execution_count": 16,
   "metadata": {},
   "outputs": [],
   "source": [
    "hpeg_train_df = train_df[train_df.experiment.str.contains(cell_types[0])]\n",
    "huvec_train_df = train_df[train_df.experiment.str.contains(cell_types[1])]\n",
    "rpe_train_df = train_df[train_df.experiment.str.contains(cell_types[2])]\n",
    "u2os_train_df = train_df[train_df.experiment.str.contains(cell_types[3])]\n",
    "\n",
    "hpeg_test_df = test_df[test_df.experiment.str.contains(cell_types[0])]\n",
    "huvec_test_df = test_df[test_df.experiment.str.contains(cell_types[1])]\n",
    "rpe_test_df = test_df[test_df.experiment.str.contains(cell_types[2])]\n",
    "u2os_test_df = test_df[test_df.experiment.str.contains(cell_types[3])]"
   ]
  },
  {
   "cell_type": "code",
   "execution_count": 17,
   "metadata": {},
   "outputs": [
    {
     "output_type": "execute_result",
     "data": {
      "text/plain": "(8858, 8858)"
     },
     "metadata": {},
     "execution_count": 17
    }
   ],
   "source": [
    "len(hpeg_test_df), len(hpeg_test_df)"
   ]
  },
  {
   "cell_type": "code",
   "execution_count": 18,
   "metadata": {},
   "outputs": [
    {
     "output_type": "execute_result",
     "data": {
      "text/plain": "(35376, 17692)"
     },
     "metadata": {},
     "execution_count": 18
    }
   ],
   "source": [
    "len(huvec_train_df), len(huvec_test_df)"
   ]
  },
  {
   "cell_type": "code",
   "execution_count": 19,
   "metadata": {},
   "outputs": [
    {
     "output_type": "execute_result",
     "data": {
      "text/plain": "(15506, 8834)"
     },
     "metadata": {},
     "execution_count": 19
    }
   ],
   "source": [
    "len(rpe_train_df), len(rpe_test_df)"
   ]
  },
  {
   "cell_type": "code",
   "execution_count": 20,
   "metadata": {},
   "outputs": [
    {
     "output_type": "execute_result",
     "data": {
      "text/plain": "(6648, 4410)"
     },
     "metadata": {},
     "execution_count": 20
    }
   ],
   "source": [
    "len(u2os_train_df), len(u2os_test_df)"
   ]
  },
  {
   "cell_type": "code",
   "execution_count": 21,
   "metadata": {},
   "outputs": [
    {
     "output_type": "execute_result",
     "data": {
      "text/plain": "1108"
     },
     "metadata": {},
     "execution_count": 21
    }
   ],
   "source": [
    "len(hpeg_test_df.sirna_id.unique())"
   ]
  },
  {
   "cell_type": "markdown",
   "metadata": {},
   "source": [
    "## Create validation dfs for each cell type"
   ]
  },
  {
   "cell_type": "code",
   "execution_count": 22,
   "metadata": {},
   "outputs": [
    {
     "output_type": "execute_result",
     "data": {
      "text/plain": "(7750, 17688, 7753, 3324)"
     },
     "metadata": {},
     "execution_count": 22
    }
   ],
   "source": [
    "hpeg_val_count = int(len(hpeg_train_df) * 0.5)\n",
    "huvec_val_count = int(len(huvec_train_df) * 0.5)\n",
    "rpe_val_count = int(len(rpe_train_df) * 0.5)\n",
    "u2os_val_count = int(len(u2os_train_df) * 0.5)\n",
    "\n",
    "hpeg_val_count, huvec_val_count, rpe_val_count, u2os_val_count"
   ]
  },
  {
   "cell_type": "code",
   "execution_count": 23,
   "metadata": {},
   "outputs": [],
   "source": [
    "def create_val_set(train_df, val_count):\n",
    "    cell_val_df = train_df.sample(val_count, random_state = 18)\n",
    "    cell_file_list = list(cell_val_df.filename)\n",
    "    cell_val_df = train_df[train_df.filename.isin(cell_file_list)]\n",
    "    cell_train_df = train_df[~train_df.filename.isin(cell_file_list)]\n",
    "\n",
    "    return cell_train_df, cell_val_df"
   ]
  },
  {
   "cell_type": "code",
   "execution_count": 24,
   "metadata": {},
   "outputs": [
    {
     "output_type": "execute_result",
     "data": {
      "text/plain": "(15500, 7750)"
     },
     "metadata": {},
     "execution_count": 24
    }
   ],
   "source": [
    "# HPEG2\n",
    "hpeg_val_df = hpeg_train_df.sample(hpeg_val_count, random_state = 18)\n",
    "hpeg_file_list = list(hpeg_val_df.filename)\n",
    "hpeg_val_df = hpeg_train_df[hpeg_train_df.filename.isin(hpeg_file_list)]\n",
    "hpeg_val_list = hpeg_train_df[~hpeg_train_df.filename.isin(hpeg_file_list)]\n",
    "\n",
    "len(hpeg_train_df), len(hpeg_val_df)\n"
   ]
  },
  {
   "cell_type": "code",
   "execution_count": 25,
   "metadata": {},
   "outputs": [],
   "source": [
    "huvec_train_df, huvec_val_df = create_val_set(huvec_train_df, huvec_val_count)\n",
    "rpe_train_df, rpe_val_df = create_val_set(rpe_train_df, rpe_val_count)\n",
    "u2os_train_df, u2os_val_df = create_val_set(u2os_train_df, u2os_val_count)"
   ]
  },
  {
   "cell_type": "code",
   "execution_count": 26,
   "metadata": {},
   "outputs": [
    {
     "output_type": "execute_result",
     "data": {
      "text/plain": "(17688, 17688)"
     },
     "metadata": {},
     "execution_count": 26
    }
   ],
   "source": [
    "len(huvec_train_df), len(huvec_val_df)"
   ]
  },
  {
   "cell_type": "code",
   "execution_count": 27,
   "metadata": {},
   "outputs": [
    {
     "output_type": "execute_result",
     "data": {
      "text/plain": "(7753, 7753)"
     },
     "metadata": {},
     "execution_count": 27
    }
   ],
   "source": [
    "len(rpe_train_df), len(rpe_val_df)"
   ]
  },
  {
   "cell_type": "code",
   "execution_count": 28,
   "metadata": {},
   "outputs": [
    {
     "output_type": "execute_result",
     "data": {
      "text/plain": "(3324, 3324)"
     },
     "metadata": {},
     "execution_count": 28
    }
   ],
   "source": [
    "len(u2os_train_df), len(u2os_val_df)"
   ]
  },
  {
   "cell_type": "markdown",
   "metadata": {},
   "source": [
    "## Check if each train and validation set has all labels"
   ]
  },
  {
   "cell_type": "code",
   "execution_count": 29,
   "metadata": {},
   "outputs": [
    {
     "output_type": "execute_result",
     "data": {
      "text/plain": "(1108, 1108)"
     },
     "metadata": {},
     "execution_count": 29
    }
   ],
   "source": [
    "len(hpeg_train_df.sirna.unique()), len(hpeg_val_df.sirna.unique())"
   ]
  },
  {
   "cell_type": "code",
   "execution_count": 30,
   "metadata": {},
   "outputs": [
    {
     "output_type": "execute_result",
     "data": {
      "text/plain": "(1108, 1108)"
     },
     "metadata": {},
     "execution_count": 30
    }
   ],
   "source": [
    "len(huvec_train_df.sirna.unique()), len(huvec_val_df.sirna.unique())"
   ]
  },
  {
   "cell_type": "code",
   "execution_count": 31,
   "metadata": {},
   "outputs": [
    {
     "output_type": "execute_result",
     "data": {
      "text/plain": "(1108, 1108)"
     },
     "metadata": {},
     "execution_count": 31
    }
   ],
   "source": [
    "len(rpe_train_df.sirna.unique()), len(rpe_val_df.sirna.unique())"
   ]
  },
  {
   "cell_type": "code",
   "execution_count": 32,
   "metadata": {},
   "outputs": [
    {
     "output_type": "execute_result",
     "data": {
      "text/plain": "(1088, 1090)"
     },
     "metadata": {},
     "execution_count": 32
    }
   ],
   "source": [
    "len(u2os_train_df.sirna.unique()), len(u2os_val_df.sirna.unique()) # skip this cell line"
   ]
  },
  {
   "cell_type": "markdown",
   "metadata": {},
   "source": [
    "## Change labels to strings"
   ]
  },
  {
   "cell_type": "code",
   "execution_count": 33,
   "metadata": {},
   "outputs": [],
   "source": [
    "# HPEG2\n",
    "hpeg_train_df.sirna = hpeg_train_df.sirna.apply(lambda x: str(x))\n",
    "hpeg_val_df.sirna = hpeg_val_df.sirna.apply(lambda x: str(x))\n",
    "hpeg_test_df.sirna_id = hpeg_test_df.sirna_id.apply(lambda x: str(x))\n",
    "\n",
    "# huvec\n",
    "huvec_train_df.sirna = huvec_train_df.sirna.apply(lambda x: str(x))\n",
    "huvec_val_df.sirna = huvec_val_df.sirna.apply(lambda x: str(x))\n",
    "huvec_test_df.sirna_id = huvec_test_df.sirna_id.apply(lambda x: str(x))\n",
    "\n",
    "# RPE\n",
    "rpe_train_df.sirna = rpe_train_df.sirna.apply(lambda x: str(x))\n",
    "rpe_val_df.sirna = rpe_val_df.sirna.apply(lambda x: str(x))\n",
    "rpe_test_df.sirna_id = rpe_test_df.sirna_id.apply(lambda x: str(x))\n",
    "\n",
    "# U2OS\n",
    "u2os_train_df.sirna = u2os_train_df.sirna.apply(lambda x: str(x))\n",
    "u2os_val_df.sirna = u2os_val_df.sirna.apply(lambda x: str(x))\n",
    "u2os_test_df.sirna_id = u2os_test_df.sirna_id.apply(lambda x: str(x))"
   ]
  },
  {
   "cell_type": "markdown",
   "metadata": {},
   "source": [
    "## Settings"
   ]
  },
  {
   "cell_type": "code",
   "execution_count": 34,
   "metadata": {},
   "outputs": [],
   "source": [
    "# Settings\n",
    "batch_size = 32\n",
    "img_height = 224\n",
    "img_width = 224\n",
    "num_outputs = 1108\n",
    "epochs = 20"
   ]
  },
  {
   "cell_type": "markdown",
   "metadata": {},
   "source": [
    "# Train and test models"
   ]
  },
  {
   "cell_type": "code",
   "execution_count": 35,
   "metadata": {},
   "outputs": [],
   "source": [
    "results = list()"
   ]
  },
  {
   "cell_type": "markdown",
   "metadata": {},
   "source": [
    "## HPEG2"
   ]
  },
  {
   "cell_type": "markdown",
   "metadata": {},
   "source": [
    "### Image Augmentation Settings"
   ]
  },
  {
   "cell_type": "code",
   "execution_count": 36,
   "metadata": {},
   "outputs": [
    {
     "output_type": "stream",
     "name": "stdout",
     "text": "Found 15500 validated image filenames belonging to 1108 classes.\nFound 7750 validated image filenames belonging to 1108 classes.\nFound 8858 validated image filenames belonging to 1108 classes.\n"
    }
   ],
   "source": [
    "# Add some rotation and adjustments to images\n",
    "\n",
    "train_datagen = ImageDataGenerator(\n",
    "    rescale = 1./255,\n",
    "    #validation_split = 0.2, # set validation set to 0.2\n",
    "    #featurewise_center= True,\n",
    "    #featurewise_std_normalization=True,\n",
    "    horizontal_flip=True,\n",
    "    vertical_flip=True,\n",
    "    rotation_range=90,\n",
    "    #height_shift_range=[-0.08, 0.08],\n",
    "    width_shift_range=[-0.08,0.08],\n",
    "    #brightness_range=[0.75, 1.1],\n",
    ")\n",
    "\n",
    "test_datagen = ImageDataGenerator(\n",
    "    rescale = 1./255\n",
    ")\n",
    "\n",
    "train_generator  = train_datagen.flow_from_dataframe(\n",
    "    dataframe = hpeg_train_df,\n",
    "    directory = train_dir,\n",
    "    target_size = (img_height, img_width),\n",
    "    subset='training',\n",
    "    x_col='filename',\n",
    "    y_col='sirna',\n",
    "    class_mode='categorical',\n",
    "    color_mode='rgb',\n",
    "    shuffle = True,\n",
    "    batch_size = batch_size\n",
    ")\n",
    "\n",
    "val_generator = test_datagen.flow_from_dataframe(\n",
    "    dataframe = hpeg_val_df,\n",
    "    directory = train_dir,\n",
    "    target_size = (img_height, img_width),\n",
    "    #subset = 'validation',\n",
    "    x_col = 'filename',\n",
    "    y_col = 'sirna',\n",
    "    class_mode = 'categorical',\n",
    "    color_mode = 'rgb',\n",
    "    shuffle = False,\n",
    "    batch_size = batch_size\n",
    ")\n",
    "\n",
    "test_dir = '/home/specc/Documents/school_files/458_deep_learning/458_final_project/data_files/test/'\n",
    "\n",
    "test_generator = test_datagen.flow_from_dataframe(\n",
    "    dataframe = hpeg_test_df,\n",
    "    directory = test_dir,\n",
    "    target_size = (224, 224),\n",
    "    x_col='filename',\n",
    "    y_col='sirna_id',\n",
    "    mode='categorical',\n",
    "    color_mode='rgb'\n",
    ")"
   ]
  },
  {
   "cell_type": "markdown",
   "metadata": {},
   "source": [
    "### InceptionV3 with GlobalAveragePooling"
   ]
  },
  {
   "cell_type": "code",
   "execution_count": 37,
   "metadata": {},
   "outputs": [
    {
     "output_type": "stream",
     "name": "stdout",
     "text": "1108\n"
    }
   ],
   "source": [
    "num_outputs = len(hpeg_train_df.sirna.unique())\n",
    "print(num_outputs)"
   ]
  },
  {
   "cell_type": "code",
   "execution_count": 38,
   "metadata": {},
   "outputs": [
    {
     "output_type": "execute_result",
     "data": {
      "text/plain": "1108"
     },
     "metadata": {},
     "execution_count": 38
    }
   ],
   "source": [
    "len(hpeg_val_df.sirna.unique())"
   ]
  },
  {
   "cell_type": "code",
   "execution_count": 39,
   "metadata": {},
   "outputs": [],
   "source": [
    "base_model = InceptionV3(include_top=False,\n",
    "                    weights = 'imagenet',\n",
    "                    input_shape=(img_height, img_width, 3))\n",
    "\n",
    "pooling = GlobalAveragePooling2D()\n",
    "flat = Flatten()\n",
    "output = Dense(num_outputs, activation='softmax')\n",
    "\n",
    "model = Sequential([\n",
    "    base_model,\n",
    "    pooling,\n",
    "    flat,\n",
    "    output\n",
    "])\n",
    "\n",
    "model_name = 'HPEG - InceptionV3 w GlobalAvgPooling & width shift'\n",
    "\n",
    "for layer in base_model.layers:\n",
    "    layer.trainable = False"
   ]
  },
  {
   "cell_type": "code",
   "execution_count": 40,
   "metadata": {},
   "outputs": [
    {
     "output_type": "stream",
     "name": "stdout",
     "text": "Epoch 1/20\n484/484 [==============================] - 652s 1s/step - loss: 10.8935 - accuracy: 0.0037 - val_loss: 9.8256 - val_accuracy: 0.0113\nEpoch 2/20\n484/484 [==============================] - 650s 1s/step - loss: 10.8587 - accuracy: 0.0113 - val_loss: 9.4760 - val_accuracy: 0.0209\nEpoch 3/20\n484/484 [==============================] - 651s 1s/step - loss: 10.8421 - accuracy: 0.0173 - val_loss: 9.5076 - val_accuracy: 0.0266\nEpoch 4/20\n484/484 [==============================] - 653s 1s/step - loss: 10.8471 - accuracy: 0.0215 - val_loss: 9.3151 - val_accuracy: 0.0358\nEpoch 5/20\n484/484 [==============================] - 654s 1s/step - loss: 10.8529 - accuracy: 0.0245 - val_loss: 9.4011 - val_accuracy: 0.0367\nEpoch 6/20\n484/484 [==============================] - 653s 1s/step - loss: 10.8176 - accuracy: 0.0299 - val_loss: 9.4087 - val_accuracy: 0.0456\nEpoch 7/20\n484/484 [==============================] - 652s 1s/step - loss: 10.8492 - accuracy: 0.0326 - val_loss: 9.4121 - val_accuracy: 0.0470\nEpoch 8/20\n484/484 [==============================] - 656s 1s/step - loss: 10.8902 - accuracy: 0.0358 - val_loss: 9.5773 - val_accuracy: 0.0475\nEpoch 9/20\n484/484 [==============================] - 654s 1s/step - loss: 10.8462 - accuracy: 0.0378 - val_loss: 9.5684 - val_accuracy: 0.0513\nEpoch 10/20\n484/484 [==============================] - 651s 1s/step - loss: 10.9418 - accuracy: 0.0405 - val_loss: 9.8210 - val_accuracy: 0.0555\nEpoch 11/20\n484/484 [==============================] - 656s 1s/step - loss: 10.8874 - accuracy: 0.0409 - val_loss: 9.6237 - val_accuracy: 0.0596\nEpoch 12/20\n484/484 [==============================] - 655s 1s/step - loss: 10.9465 - accuracy: 0.0429 - val_loss: 9.8009 - val_accuracy: 0.0538\nEpoch 13/20\n484/484 [==============================] - 654s 1s/step - loss: 10.9084 - accuracy: 0.0471 - val_loss: 9.6436 - val_accuracy: 0.0610\nEpoch 14/20\n484/484 [==============================] - 651s 1s/step - loss: 10.9568 - accuracy: 0.0482 - val_loss: 9.8914 - val_accuracy: 0.0619\nEpoch 15/20\n484/484 [==============================] - 651s 1s/step - loss: 10.9101 - accuracy: 0.0504 - val_loss: 9.6069 - val_accuracy: 0.0674\nEpoch 16/20\n484/484 [==============================] - 653s 1s/step - loss: 10.9155 - accuracy: 0.0510 - val_loss: 9.4687 - val_accuracy: 0.0695\nEpoch 17/20\n484/484 [==============================] - 649s 1s/step - loss: 10.9903 - accuracy: 0.0521 - val_loss: 9.7445 - val_accuracy: 0.0728\nEpoch 18/20\n484/484 [==============================] - 650s 1s/step - loss: 10.9789 - accuracy: 0.0551 - val_loss: 10.0316 - val_accuracy: 0.0615\nEpoch 19/20\n484/484 [==============================] - 645s 1s/step - loss: 11.0370 - accuracy: 0.0555 - val_loss: 10.0175 - val_accuracy: 0.0689\nEpoch 20/20\n484/484 [==============================] - 644s 1s/step - loss: 11.0719 - accuracy: 0.0565 - val_loss: 9.9578 - val_accuracy: 0.0685\n"
    }
   ],
   "source": [
    "opt = RMSprop(learning_rate = 0.0005, momentum = 0.9)\n",
    "\n",
    "train_data, history_dict = train_model(model, opt, train_generator, \n",
    "                                            val_generator, len(hpeg_train_df), model_name)"
   ]
  },
  {
   "cell_type": "code",
   "execution_count": 41,
   "metadata": {},
   "outputs": [
    {
     "output_type": "stream",
     "name": "stdout",
     "text": "484/484 [==============================] - 317s 656ms/step - loss: 15.2280 - accuracy: 0.0162\n"
    }
   ],
   "source": [
    "test_data = test_model(model, test_generator, len(hpeg_train_df))\n",
    "results.append(save_model_data(train_data, test_data))"
   ]
  },
  {
   "cell_type": "markdown",
   "metadata": {},
   "source": [
    "## HUVEC"
   ]
  },
  {
   "cell_type": "code",
   "execution_count": 42,
   "metadata": {},
   "outputs": [
    {
     "output_type": "stream",
     "name": "stdout",
     "text": "Found 17688 validated image filenames belonging to 1108 classes.\nFound 17688 validated image filenames belonging to 1108 classes.\nFound 17692 validated image filenames belonging to 1108 classes.\n"
    }
   ],
   "source": [
    "# Add some rotation and adjustments to images\n",
    "\n",
    "train_datagen = ImageDataGenerator(\n",
    "    rescale = 1./255,\n",
    "    #validation_split = 0.2, # set validation set to 0.2\n",
    "    #featurewise_center= True,\n",
    "    #featurewise_std_normalization=True,\n",
    "    horizontal_flip=True,\n",
    "    vertical_flip=True,\n",
    "    rotation_range=90,\n",
    "    #height_shift_range=[-0.08, 0.08],\n",
    "    width_shift_range=[-0.08,0.08],\n",
    "    #brightness_range=[0.75, 1.1]\n",
    ")\n",
    "\n",
    "test_datagen = ImageDataGenerator(\n",
    "    rescale = 1./255\n",
    ")\n",
    "\n",
    "train_generator  = train_datagen.flow_from_dataframe(\n",
    "    dataframe = huvec_train_df,\n",
    "    directory = train_dir,\n",
    "    target_size = (img_height, img_width),\n",
    "    subset='training',\n",
    "    x_col='filename',\n",
    "    y_col='sirna',\n",
    "    class_mode='categorical',\n",
    "    color_mode='rgb',\n",
    "    shuffle = True,\n",
    "    batch_size = batch_size\n",
    ")\n",
    "\n",
    "val_generator = test_datagen.flow_from_dataframe(\n",
    "    dataframe = huvec_val_df,\n",
    "    directory = train_dir,\n",
    "    target_size = (img_height, img_width),\n",
    "    #subset = 'validation',\n",
    "    x_col = 'filename',\n",
    "    y_col = 'sirna',\n",
    "    class_mode = 'categorical',\n",
    "    color_mode = 'rgb',\n",
    "    shuffle = False,\n",
    "    batch_size = batch_size\n",
    ")\n",
    "\n",
    "test_dir = '/home/specc/Documents/school_files/458_deep_learning/458_final_project/data_files/test/'\n",
    "\n",
    "test_generator = test_datagen.flow_from_dataframe(\n",
    "    dataframe = huvec_test_df,\n",
    "    directory = test_dir,\n",
    "    target_size = (224, 224),\n",
    "    x_col='filename',\n",
    "    y_col='sirna_id',\n",
    "    mode='categorical',\n",
    "    color_mode='rgb'\n",
    ")"
   ]
  },
  {
   "cell_type": "code",
   "execution_count": 43,
   "metadata": {},
   "outputs": [],
   "source": [
    "base_model = InceptionV3(include_top=False,\n",
    "                    weights = 'imagenet',\n",
    "                    input_shape=(img_height, img_width, 3))\n",
    "\n",
    "pooling = GlobalAveragePooling2D()\n",
    "flat = Flatten()\n",
    "output = Dense(num_outputs, activation='softmax')\n",
    "\n",
    "model = Sequential([\n",
    "    base_model,\n",
    "    pooling,\n",
    "    flat,\n",
    "    output\n",
    "])\n",
    "\n",
    "model_name = 'HUVEC - InceptionV3 w GlobalAvgPooling & width shift'\n",
    "\n",
    "for layer in base_model.layers:\n",
    "    layer.trainable = False"
   ]
  },
  {
   "cell_type": "code",
   "execution_count": 44,
   "metadata": {},
   "outputs": [
    {
     "output_type": "stream",
     "name": "stdout",
     "text": "Epoch 1/20\n552/552 [==============================] - 726s 1s/step - loss: 9.9740 - accuracy: 0.0087 - val_loss: 10.7341 - val_accuracy: 0.0125\nEpoch 2/20\n552/552 [==============================] - 721s 1s/step - loss: 9.9078 - accuracy: 0.0218 - val_loss: 11.0243 - val_accuracy: 0.0145\nEpoch 3/20\n552/552 [==============================] - 722s 1s/step - loss: 10.0599 - accuracy: 0.0288 - val_loss: 11.3417 - val_accuracy: 0.0187\nEpoch 4/20\n552/552 [==============================] - 721s 1s/step - loss: 10.0917 - accuracy: 0.0359 - val_loss: 11.5358 - val_accuracy: 0.0211\nEpoch 5/20\n552/552 [==============================] - 721s 1s/step - loss: 10.1780 - accuracy: 0.0399 - val_loss: 11.3201 - val_accuracy: 0.0267\nEpoch 6/20\n552/552 [==============================] - 722s 1s/step - loss: 10.1826 - accuracy: 0.0434 - val_loss: 12.0448 - val_accuracy: 0.0222\nEpoch 7/20\n552/552 [==============================] - 723s 1s/step - loss: 10.2422 - accuracy: 0.0450 - val_loss: 11.9675 - val_accuracy: 0.0238\nEpoch 8/20\n552/552 [==============================] - 723s 1s/step - loss: 10.2192 - accuracy: 0.0526 - val_loss: 11.7852 - val_accuracy: 0.0262\nEpoch 9/20\n552/552 [==============================] - 721s 1s/step - loss: 10.2631 - accuracy: 0.0556 - val_loss: 12.4507 - val_accuracy: 0.0260\nEpoch 10/20\n552/552 [==============================] - 721s 1s/step - loss: 10.3142 - accuracy: 0.0568 - val_loss: 12.2417 - val_accuracy: 0.0237\nEpoch 11/20\n552/552 [==============================] - 721s 1s/step - loss: 10.3616 - accuracy: 0.0562 - val_loss: 12.7033 - val_accuracy: 0.0250\nEpoch 12/20\n552/552 [==============================] - 721s 1s/step - loss: 10.3030 - accuracy: 0.0609 - val_loss: 12.8624 - val_accuracy: 0.0269\nEpoch 13/20\n552/552 [==============================] - 723s 1s/step - loss: 10.4594 - accuracy: 0.0612 - val_loss: 12.7490 - val_accuracy: 0.0260\nEpoch 14/20\n552/552 [==============================] - 723s 1s/step - loss: 10.3417 - accuracy: 0.0646 - val_loss: 13.0786 - val_accuracy: 0.0262\nEpoch 15/20\n552/552 [==============================] - 722s 1s/step - loss: 10.4823 - accuracy: 0.0662 - val_loss: 13.1933 - val_accuracy: 0.0265\nEpoch 16/20\n552/552 [==============================] - 721s 1s/step - loss: 10.5046 - accuracy: 0.0672 - val_loss: 13.4860 - val_accuracy: 0.0259\nEpoch 17/20\n552/552 [==============================] - 721s 1s/step - loss: 10.4802 - accuracy: 0.0699 - val_loss: 13.5031 - val_accuracy: 0.0284\nEpoch 18/20\n552/552 [==============================] - 720s 1s/step - loss: 10.5600 - accuracy: 0.0675 - val_loss: 13.2904 - val_accuracy: 0.0293\nEpoch 19/20\n552/552 [==============================] - 722s 1s/step - loss: 10.5293 - accuracy: 0.0709 - val_loss: 13.8174 - val_accuracy: 0.0277\nEpoch 20/20\n552/552 [==============================] - 736s 1s/step - loss: 10.5759 - accuracy: 0.0742 - val_loss: 13.8732 - val_accuracy: 0.0267\n"
    }
   ],
   "source": [
    "opt = RMSprop(learning_rate = 0.0005, momentum = 0.9)\n",
    "\n",
    "train_data, history_dict = train_model(model, opt, train_generator, \n",
    "                                            val_generator, len(huvec_train_df), model_name)"
   ]
  },
  {
   "cell_type": "code",
   "execution_count": 45,
   "metadata": {},
   "outputs": [
    {
     "output_type": "stream",
     "name": "stdout",
     "text": "552/552 [==============================] - 358s 649ms/step - loss: 13.8875 - accuracy: 0.0236\n"
    }
   ],
   "source": [
    "test_data = test_model(model, test_generator, len(huvec_test_df))\n",
    "results.append(save_model_data(train_data, test_data))"
   ]
  },
  {
   "cell_type": "code",
   "execution_count": 47,
   "metadata": {},
   "outputs": [
    {
     "output_type": "execute_result",
     "data": {
      "text/plain": "                                               model  train_loss  train_acc  \\\n0  HPEG - InceptionV3 w GlobalAvgPooling & width ...      11.072      0.057   \n1  HUVEC - InceptionV3 w GlobalAvgPooling & width...      10.576      0.074   \n\n   train_time  val_loss  val_acc  test_loss  test_acc  test_time  \n0   13051.280     9.958    0.068     15.228     0.016    318.123  \n1   14464.989    13.873    0.027     13.888     0.024    359.096  ",
      "text/html": "<div>\n<style scoped>\n    .dataframe tbody tr th:only-of-type {\n        vertical-align: middle;\n    }\n\n    .dataframe tbody tr th {\n        vertical-align: top;\n    }\n\n    .dataframe thead th {\n        text-align: right;\n    }\n</style>\n<table border=\"1\" class=\"dataframe\">\n  <thead>\n    <tr style=\"text-align: right;\">\n      <th></th>\n      <th>model</th>\n      <th>train_loss</th>\n      <th>train_acc</th>\n      <th>train_time</th>\n      <th>val_loss</th>\n      <th>val_acc</th>\n      <th>test_loss</th>\n      <th>test_acc</th>\n      <th>test_time</th>\n    </tr>\n  </thead>\n  <tbody>\n    <tr>\n      <th>0</th>\n      <td>HPEG - InceptionV3 w GlobalAvgPooling &amp; width ...</td>\n      <td>11.072</td>\n      <td>0.057</td>\n      <td>13051.280</td>\n      <td>9.958</td>\n      <td>0.068</td>\n      <td>15.228</td>\n      <td>0.016</td>\n      <td>318.123</td>\n    </tr>\n    <tr>\n      <th>1</th>\n      <td>HUVEC - InceptionV3 w GlobalAvgPooling &amp; width...</td>\n      <td>10.576</td>\n      <td>0.074</td>\n      <td>14464.989</td>\n      <td>13.873</td>\n      <td>0.027</td>\n      <td>13.888</td>\n      <td>0.024</td>\n      <td>359.096</td>\n    </tr>\n  </tbody>\n</table>\n</div>"
     },
     "metadata": {},
     "execution_count": 47
    }
   ],
   "source": [
    "pd.DataFrame(results)"
   ]
  }
 ],
 "metadata": {
  "language_info": {
   "codemirror_mode": {
    "name": "ipython",
    "version": 3
   },
   "file_extension": ".py",
   "mimetype": "text/x-python",
   "name": "python",
   "nbconvert_exporter": "python",
   "pygments_lexer": "ipython3",
   "version": "3.8.2-final"
  },
  "orig_nbformat": 2,
  "kernelspec": {
   "name": "python38264bit0c31753cb4904f759510df829f98c315",
   "display_name": "Python 3.8.2 64-bit"
  }
 },
 "nbformat": 4,
 "nbformat_minor": 2
}