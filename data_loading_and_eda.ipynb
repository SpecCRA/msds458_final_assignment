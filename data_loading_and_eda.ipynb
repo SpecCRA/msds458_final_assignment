{
 "cells": [
  {
   "cell_type": "markdown",
   "metadata": {},
   "source": [
    "# Setup"
   ]
  },
  {
   "cell_type": "markdown",
   "metadata": {},
   "source": [
    "## Import packages"
   ]
  },
  {
   "cell_type": "code",
   "execution_count": 77,
   "metadata": {},
   "outputs": [],
   "source": [
    "import pandas as pd\n",
    "import numpy as np\n",
    "import json \n",
    "import sys\n",
    "import os\n",
    "import PIL\n",
    "import tensorflow as tf"
   ]
  },
  {
   "cell_type": "markdown",
   "metadata": {},
   "source": [
    "### Supporting packages"
   ]
  },
  {
   "cell_type": "code",
   "execution_count": 76,
   "metadata": {},
   "outputs": [],
   "source": [
    "#from PIL import Image\n",
    "from tensorflow.keras.preprocessing.image import ImageDataGenerator, array_to_img, \\\n",
    "                                                    img_to_array, load_img\n",
    "from IPython.display import display, Image\n",
    "from glob import glob"
   ]
  },
  {
   "cell_type": "markdown",
   "metadata": {},
   "source": [
    "## Version check"
   ]
  },
  {
   "cell_type": "code",
   "execution_count": 4,
   "metadata": {},
   "outputs": [
    {
     "output_type": "stream",
     "name": "stdout",
     "text": "Python: 3.8.2 (default, Apr 27 2020, 15:53:34) \n[GCC 9.3.0]\npandas: 1.0.3\nNumPy: 1.18.3\nPIL. 7.0.0\n"
    }
   ],
   "source": [
    "print('Python: {}'.format(sys.version))\n",
    "print('pandas: {}'.format(pd.__version__))\n",
    "print('NumPy: {}'.format(np.__version__))\n",
    "print('PIL. {}'.format(PIL.__version__))"
   ]
  },
  {
   "cell_type": "markdown",
   "metadata": {},
   "source": [
    "# Import and check data"
   ]
  },
  {
   "cell_type": "code",
   "execution_count": 5,
   "metadata": {},
   "outputs": [
    {
     "output_type": "execute_result",
     "data": {
      "text/plain": "            site_id         well_id cell_type dataset experiment  plate well  \\\n0  HEPG2-08_1_B02_1  HEPG2-08_1_B02     HEPG2    test   HEPG2-08      1  B02   \n1  HEPG2-08_1_B02_2  HEPG2-08_1_B02     HEPG2    test   HEPG2-08      1  B02   \n2  HEPG2-08_1_B03_1  HEPG2-08_1_B03     HEPG2    test   HEPG2-08      1  B03   \n3  HEPG2-08_1_B03_2  HEPG2-08_1_B03     HEPG2    test   HEPG2-08      1  B03   \n4  HEPG2-08_1_B04_1  HEPG2-08_1_B04     HEPG2    test   HEPG2-08      1  B04   \n5  HEPG2-08_1_B04_2  HEPG2-08_1_B04     HEPG2    test   HEPG2-08      1  B04   \n6  HEPG2-08_1_B05_1  HEPG2-08_1_B05     HEPG2    test   HEPG2-08      1  B05   \n7  HEPG2-08_1_B05_2  HEPG2-08_1_B05     HEPG2    test   HEPG2-08      1  B05   \n8  HEPG2-08_1_B06_1  HEPG2-08_1_B06     HEPG2    test   HEPG2-08      1  B06   \n9  HEPG2-08_1_B06_2  HEPG2-08_1_B06     HEPG2    test   HEPG2-08      1  B06   \n\n   site         well_type   sirna  sirna_id  \n0     1  negative_control   EMPTY      1138  \n1     2  negative_control   EMPTY      1138  \n2     1         treatment  s21721       855  \n3     2         treatment  s21721       855  \n4     1         treatment  s20894       710  \n5     2         treatment  s20894       710  \n6     1         treatment  s19827       836  \n7     2         treatment  s19827       836  \n8     1         treatment  s19792       249  \n9     2         treatment  s19792       249  ",
      "text/html": "<div>\n<style scoped>\n    .dataframe tbody tr th:only-of-type {\n        vertical-align: middle;\n    }\n\n    .dataframe tbody tr th {\n        vertical-align: top;\n    }\n\n    .dataframe thead th {\n        text-align: right;\n    }\n</style>\n<table border=\"1\" class=\"dataframe\">\n  <thead>\n    <tr style=\"text-align: right;\">\n      <th></th>\n      <th>site_id</th>\n      <th>well_id</th>\n      <th>cell_type</th>\n      <th>dataset</th>\n      <th>experiment</th>\n      <th>plate</th>\n      <th>well</th>\n      <th>site</th>\n      <th>well_type</th>\n      <th>sirna</th>\n      <th>sirna_id</th>\n    </tr>\n  </thead>\n  <tbody>\n    <tr>\n      <th>0</th>\n      <td>HEPG2-08_1_B02_1</td>\n      <td>HEPG2-08_1_B02</td>\n      <td>HEPG2</td>\n      <td>test</td>\n      <td>HEPG2-08</td>\n      <td>1</td>\n      <td>B02</td>\n      <td>1</td>\n      <td>negative_control</td>\n      <td>EMPTY</td>\n      <td>1138</td>\n    </tr>\n    <tr>\n      <th>1</th>\n      <td>HEPG2-08_1_B02_2</td>\n      <td>HEPG2-08_1_B02</td>\n      <td>HEPG2</td>\n      <td>test</td>\n      <td>HEPG2-08</td>\n      <td>1</td>\n      <td>B02</td>\n      <td>2</td>\n      <td>negative_control</td>\n      <td>EMPTY</td>\n      <td>1138</td>\n    </tr>\n    <tr>\n      <th>2</th>\n      <td>HEPG2-08_1_B03_1</td>\n      <td>HEPG2-08_1_B03</td>\n      <td>HEPG2</td>\n      <td>test</td>\n      <td>HEPG2-08</td>\n      <td>1</td>\n      <td>B03</td>\n      <td>1</td>\n      <td>treatment</td>\n      <td>s21721</td>\n      <td>855</td>\n    </tr>\n    <tr>\n      <th>3</th>\n      <td>HEPG2-08_1_B03_2</td>\n      <td>HEPG2-08_1_B03</td>\n      <td>HEPG2</td>\n      <td>test</td>\n      <td>HEPG2-08</td>\n      <td>1</td>\n      <td>B03</td>\n      <td>2</td>\n      <td>treatment</td>\n      <td>s21721</td>\n      <td>855</td>\n    </tr>\n    <tr>\n      <th>4</th>\n      <td>HEPG2-08_1_B04_1</td>\n      <td>HEPG2-08_1_B04</td>\n      <td>HEPG2</td>\n      <td>test</td>\n      <td>HEPG2-08</td>\n      <td>1</td>\n      <td>B04</td>\n      <td>1</td>\n      <td>treatment</td>\n      <td>s20894</td>\n      <td>710</td>\n    </tr>\n    <tr>\n      <th>5</th>\n      <td>HEPG2-08_1_B04_2</td>\n      <td>HEPG2-08_1_B04</td>\n      <td>HEPG2</td>\n      <td>test</td>\n      <td>HEPG2-08</td>\n      <td>1</td>\n      <td>B04</td>\n      <td>2</td>\n      <td>treatment</td>\n      <td>s20894</td>\n      <td>710</td>\n    </tr>\n    <tr>\n      <th>6</th>\n      <td>HEPG2-08_1_B05_1</td>\n      <td>HEPG2-08_1_B05</td>\n      <td>HEPG2</td>\n      <td>test</td>\n      <td>HEPG2-08</td>\n      <td>1</td>\n      <td>B05</td>\n      <td>1</td>\n      <td>treatment</td>\n      <td>s19827</td>\n      <td>836</td>\n    </tr>\n    <tr>\n      <th>7</th>\n      <td>HEPG2-08_1_B05_2</td>\n      <td>HEPG2-08_1_B05</td>\n      <td>HEPG2</td>\n      <td>test</td>\n      <td>HEPG2-08</td>\n      <td>1</td>\n      <td>B05</td>\n      <td>2</td>\n      <td>treatment</td>\n      <td>s19827</td>\n      <td>836</td>\n    </tr>\n    <tr>\n      <th>8</th>\n      <td>HEPG2-08_1_B06_1</td>\n      <td>HEPG2-08_1_B06</td>\n      <td>HEPG2</td>\n      <td>test</td>\n      <td>HEPG2-08</td>\n      <td>1</td>\n      <td>B06</td>\n      <td>1</td>\n      <td>treatment</td>\n      <td>s19792</td>\n      <td>249</td>\n    </tr>\n    <tr>\n      <th>9</th>\n      <td>HEPG2-08_1_B06_2</td>\n      <td>HEPG2-08_1_B06</td>\n      <td>HEPG2</td>\n      <td>test</td>\n      <td>HEPG2-08</td>\n      <td>1</td>\n      <td>B06</td>\n      <td>2</td>\n      <td>treatment</td>\n      <td>s19792</td>\n      <td>249</td>\n    </tr>\n  </tbody>\n</table>\n</div>"
     },
     "metadata": {},
     "execution_count": 5
    }
   ],
   "source": [
    "full_metadata_path = 'rxrx1/rxrx1.csv'\n",
    "full_meta_df = pd.read_csv(full_metadata_path)\n",
    "full_meta_df.head(n=10)"
   ]
  },
  {
   "cell_type": "code",
   "execution_count": 6,
   "metadata": {},
   "outputs": [
    {
     "output_type": "execute_result",
     "data": {
      "text/plain": "                site_id        well_id cell_type dataset experiment  plate  \\\n125500  U2OS-03_4_O19_1  U2OS-03_4_O19      U2OS   train    U2OS-03      4   \n125501  U2OS-03_4_O19_2  U2OS-03_4_O19      U2OS   train    U2OS-03      4   \n125502  U2OS-03_4_O20_1  U2OS-03_4_O20      U2OS   train    U2OS-03      4   \n125503  U2OS-03_4_O20_2  U2OS-03_4_O20      U2OS   train    U2OS-03      4   \n125504  U2OS-03_4_O21_1  U2OS-03_4_O21      U2OS   train    U2OS-03      4   \n125505  U2OS-03_4_O21_2  U2OS-03_4_O21      U2OS   train    U2OS-03      4   \n125506  U2OS-03_4_O22_1  U2OS-03_4_O22      U2OS   train    U2OS-03      4   \n125507  U2OS-03_4_O22_2  U2OS-03_4_O22      U2OS   train    U2OS-03      4   \n125508  U2OS-03_4_O23_1  U2OS-03_4_O23      U2OS   train    U2OS-03      4   \n125509  U2OS-03_4_O23_2  U2OS-03_4_O23      U2OS   train    U2OS-03      4   \n\n       well  site  well_type    sirna  sirna_id  \n125500  O19     1  treatment  s223106       103  \n125501  O19     2  treatment  s223106       103  \n125502  O20     1  treatment  s223144       202  \n125503  O20     2  treatment  s223144       202  \n125504  O21     1  treatment   s20367       824  \n125505  O21     2  treatment   s20367       824  \n125506  O22     1  treatment  s195079       328  \n125507  O22     2  treatment  s195079       328  \n125508  O23     1  treatment   s21454       509  \n125509  O23     2  treatment   s21454       509  ",
      "text/html": "<div>\n<style scoped>\n    .dataframe tbody tr th:only-of-type {\n        vertical-align: middle;\n    }\n\n    .dataframe tbody tr th {\n        vertical-align: top;\n    }\n\n    .dataframe thead th {\n        text-align: right;\n    }\n</style>\n<table border=\"1\" class=\"dataframe\">\n  <thead>\n    <tr style=\"text-align: right;\">\n      <th></th>\n      <th>site_id</th>\n      <th>well_id</th>\n      <th>cell_type</th>\n      <th>dataset</th>\n      <th>experiment</th>\n      <th>plate</th>\n      <th>well</th>\n      <th>site</th>\n      <th>well_type</th>\n      <th>sirna</th>\n      <th>sirna_id</th>\n    </tr>\n  </thead>\n  <tbody>\n    <tr>\n      <th>125500</th>\n      <td>U2OS-03_4_O19_1</td>\n      <td>U2OS-03_4_O19</td>\n      <td>U2OS</td>\n      <td>train</td>\n      <td>U2OS-03</td>\n      <td>4</td>\n      <td>O19</td>\n      <td>1</td>\n      <td>treatment</td>\n      <td>s223106</td>\n      <td>103</td>\n    </tr>\n    <tr>\n      <th>125501</th>\n      <td>U2OS-03_4_O19_2</td>\n      <td>U2OS-03_4_O19</td>\n      <td>U2OS</td>\n      <td>train</td>\n      <td>U2OS-03</td>\n      <td>4</td>\n      <td>O19</td>\n      <td>2</td>\n      <td>treatment</td>\n      <td>s223106</td>\n      <td>103</td>\n    </tr>\n    <tr>\n      <th>125502</th>\n      <td>U2OS-03_4_O20_1</td>\n      <td>U2OS-03_4_O20</td>\n      <td>U2OS</td>\n      <td>train</td>\n      <td>U2OS-03</td>\n      <td>4</td>\n      <td>O20</td>\n      <td>1</td>\n      <td>treatment</td>\n      <td>s223144</td>\n      <td>202</td>\n    </tr>\n    <tr>\n      <th>125503</th>\n      <td>U2OS-03_4_O20_2</td>\n      <td>U2OS-03_4_O20</td>\n      <td>U2OS</td>\n      <td>train</td>\n      <td>U2OS-03</td>\n      <td>4</td>\n      <td>O20</td>\n      <td>2</td>\n      <td>treatment</td>\n      <td>s223144</td>\n      <td>202</td>\n    </tr>\n    <tr>\n      <th>125504</th>\n      <td>U2OS-03_4_O21_1</td>\n      <td>U2OS-03_4_O21</td>\n      <td>U2OS</td>\n      <td>train</td>\n      <td>U2OS-03</td>\n      <td>4</td>\n      <td>O21</td>\n      <td>1</td>\n      <td>treatment</td>\n      <td>s20367</td>\n      <td>824</td>\n    </tr>\n    <tr>\n      <th>125505</th>\n      <td>U2OS-03_4_O21_2</td>\n      <td>U2OS-03_4_O21</td>\n      <td>U2OS</td>\n      <td>train</td>\n      <td>U2OS-03</td>\n      <td>4</td>\n      <td>O21</td>\n      <td>2</td>\n      <td>treatment</td>\n      <td>s20367</td>\n      <td>824</td>\n    </tr>\n    <tr>\n      <th>125506</th>\n      <td>U2OS-03_4_O22_1</td>\n      <td>U2OS-03_4_O22</td>\n      <td>U2OS</td>\n      <td>train</td>\n      <td>U2OS-03</td>\n      <td>4</td>\n      <td>O22</td>\n      <td>1</td>\n      <td>treatment</td>\n      <td>s195079</td>\n      <td>328</td>\n    </tr>\n    <tr>\n      <th>125507</th>\n      <td>U2OS-03_4_O22_2</td>\n      <td>U2OS-03_4_O22</td>\n      <td>U2OS</td>\n      <td>train</td>\n      <td>U2OS-03</td>\n      <td>4</td>\n      <td>O22</td>\n      <td>2</td>\n      <td>treatment</td>\n      <td>s195079</td>\n      <td>328</td>\n    </tr>\n    <tr>\n      <th>125508</th>\n      <td>U2OS-03_4_O23_1</td>\n      <td>U2OS-03_4_O23</td>\n      <td>U2OS</td>\n      <td>train</td>\n      <td>U2OS-03</td>\n      <td>4</td>\n      <td>O23</td>\n      <td>1</td>\n      <td>treatment</td>\n      <td>s21454</td>\n      <td>509</td>\n    </tr>\n    <tr>\n      <th>125509</th>\n      <td>U2OS-03_4_O23_2</td>\n      <td>U2OS-03_4_O23</td>\n      <td>U2OS</td>\n      <td>train</td>\n      <td>U2OS-03</td>\n      <td>4</td>\n      <td>O23</td>\n      <td>2</td>\n      <td>treatment</td>\n      <td>s21454</td>\n      <td>509</td>\n    </tr>\n  </tbody>\n</table>\n</div>"
     },
     "metadata": {},
     "execution_count": 6
    }
   ],
   "source": [
    "full_meta_df.tail(n=10)"
   ]
  },
  {
   "cell_type": "code",
   "execution_count": 7,
   "metadata": {},
   "outputs": [
    {
     "output_type": "execute_result",
     "data": {
      "text/plain": "1139"
     },
     "metadata": {},
     "execution_count": 7
    }
   ],
   "source": [
    "len(full_meta_df.sirna.unique())"
   ]
  },
  {
   "cell_type": "code",
   "execution_count": 8,
   "metadata": {},
   "outputs": [
    {
     "output_type": "execute_result",
     "data": {
      "text/plain": "                 site_id         well_id cell_type dataset experiment  plate  \\\n0       HEPG2-08_1_B02_1  HEPG2-08_1_B02     HEPG2    test   HEPG2-08      1   \n1       HEPG2-08_1_B02_2  HEPG2-08_1_B02     HEPG2    test   HEPG2-08      1   \n616     HEPG2-08_2_B02_1  HEPG2-08_2_B02     HEPG2    test   HEPG2-08      2   \n617     HEPG2-08_2_B02_2  HEPG2-08_2_B02     HEPG2    test   HEPG2-08      2   \n1232    HEPG2-08_3_B02_1  HEPG2-08_3_B02     HEPG2    test   HEPG2-08      3   \n...                  ...             ...       ...     ...        ...    ...   \n123663   U2OS-03_2_B02_2   U2OS-03_2_B02      U2OS   train    U2OS-03      2   \n124278   U2OS-03_3_B02_1   U2OS-03_3_B02      U2OS   train    U2OS-03      3   \n124279   U2OS-03_3_B02_2   U2OS-03_3_B02      U2OS   train    U2OS-03      3   \n124894   U2OS-03_4_B02_1   U2OS-03_4_B02      U2OS   train    U2OS-03      4   \n124895   U2OS-03_4_B02_2   U2OS-03_4_B02      U2OS   train    U2OS-03      4   \n\n       well  site         well_type  sirna  sirna_id  \n0       B02     1  negative_control  EMPTY      1138  \n1       B02     2  negative_control  EMPTY      1138  \n616     B02     1  negative_control  EMPTY      1138  \n617     B02     2  negative_control  EMPTY      1138  \n1232    B02     1  negative_control  EMPTY      1138  \n...     ...   ...               ...    ...       ...  \n123663  B02     2  negative_control  EMPTY      1138  \n124278  B02     1  negative_control  EMPTY      1138  \n124279  B02     2  negative_control  EMPTY      1138  \n124894  B02     1  negative_control  EMPTY      1138  \n124895  B02     2  negative_control  EMPTY      1138  \n\n[492 rows x 11 columns]",
      "text/html": "<div>\n<style scoped>\n    .dataframe tbody tr th:only-of-type {\n        vertical-align: middle;\n    }\n\n    .dataframe tbody tr th {\n        vertical-align: top;\n    }\n\n    .dataframe thead th {\n        text-align: right;\n    }\n</style>\n<table border=\"1\" class=\"dataframe\">\n  <thead>\n    <tr style=\"text-align: right;\">\n      <th></th>\n      <th>site_id</th>\n      <th>well_id</th>\n      <th>cell_type</th>\n      <th>dataset</th>\n      <th>experiment</th>\n      <th>plate</th>\n      <th>well</th>\n      <th>site</th>\n      <th>well_type</th>\n      <th>sirna</th>\n      <th>sirna_id</th>\n    </tr>\n  </thead>\n  <tbody>\n    <tr>\n      <th>0</th>\n      <td>HEPG2-08_1_B02_1</td>\n      <td>HEPG2-08_1_B02</td>\n      <td>HEPG2</td>\n      <td>test</td>\n      <td>HEPG2-08</td>\n      <td>1</td>\n      <td>B02</td>\n      <td>1</td>\n      <td>negative_control</td>\n      <td>EMPTY</td>\n      <td>1138</td>\n    </tr>\n    <tr>\n      <th>1</th>\n      <td>HEPG2-08_1_B02_2</td>\n      <td>HEPG2-08_1_B02</td>\n      <td>HEPG2</td>\n      <td>test</td>\n      <td>HEPG2-08</td>\n      <td>1</td>\n      <td>B02</td>\n      <td>2</td>\n      <td>negative_control</td>\n      <td>EMPTY</td>\n      <td>1138</td>\n    </tr>\n    <tr>\n      <th>616</th>\n      <td>HEPG2-08_2_B02_1</td>\n      <td>HEPG2-08_2_B02</td>\n      <td>HEPG2</td>\n      <td>test</td>\n      <td>HEPG2-08</td>\n      <td>2</td>\n      <td>B02</td>\n      <td>1</td>\n      <td>negative_control</td>\n      <td>EMPTY</td>\n      <td>1138</td>\n    </tr>\n    <tr>\n      <th>617</th>\n      <td>HEPG2-08_2_B02_2</td>\n      <td>HEPG2-08_2_B02</td>\n      <td>HEPG2</td>\n      <td>test</td>\n      <td>HEPG2-08</td>\n      <td>2</td>\n      <td>B02</td>\n      <td>2</td>\n      <td>negative_control</td>\n      <td>EMPTY</td>\n      <td>1138</td>\n    </tr>\n    <tr>\n      <th>1232</th>\n      <td>HEPG2-08_3_B02_1</td>\n      <td>HEPG2-08_3_B02</td>\n      <td>HEPG2</td>\n      <td>test</td>\n      <td>HEPG2-08</td>\n      <td>3</td>\n      <td>B02</td>\n      <td>1</td>\n      <td>negative_control</td>\n      <td>EMPTY</td>\n      <td>1138</td>\n    </tr>\n    <tr>\n      <th>...</th>\n      <td>...</td>\n      <td>...</td>\n      <td>...</td>\n      <td>...</td>\n      <td>...</td>\n      <td>...</td>\n      <td>...</td>\n      <td>...</td>\n      <td>...</td>\n      <td>...</td>\n      <td>...</td>\n    </tr>\n    <tr>\n      <th>123663</th>\n      <td>U2OS-03_2_B02_2</td>\n      <td>U2OS-03_2_B02</td>\n      <td>U2OS</td>\n      <td>train</td>\n      <td>U2OS-03</td>\n      <td>2</td>\n      <td>B02</td>\n      <td>2</td>\n      <td>negative_control</td>\n      <td>EMPTY</td>\n      <td>1138</td>\n    </tr>\n    <tr>\n      <th>124278</th>\n      <td>U2OS-03_3_B02_1</td>\n      <td>U2OS-03_3_B02</td>\n      <td>U2OS</td>\n      <td>train</td>\n      <td>U2OS-03</td>\n      <td>3</td>\n      <td>B02</td>\n      <td>1</td>\n      <td>negative_control</td>\n      <td>EMPTY</td>\n      <td>1138</td>\n    </tr>\n    <tr>\n      <th>124279</th>\n      <td>U2OS-03_3_B02_2</td>\n      <td>U2OS-03_3_B02</td>\n      <td>U2OS</td>\n      <td>train</td>\n      <td>U2OS-03</td>\n      <td>3</td>\n      <td>B02</td>\n      <td>2</td>\n      <td>negative_control</td>\n      <td>EMPTY</td>\n      <td>1138</td>\n    </tr>\n    <tr>\n      <th>124894</th>\n      <td>U2OS-03_4_B02_1</td>\n      <td>U2OS-03_4_B02</td>\n      <td>U2OS</td>\n      <td>train</td>\n      <td>U2OS-03</td>\n      <td>4</td>\n      <td>B02</td>\n      <td>1</td>\n      <td>negative_control</td>\n      <td>EMPTY</td>\n      <td>1138</td>\n    </tr>\n    <tr>\n      <th>124895</th>\n      <td>U2OS-03_4_B02_2</td>\n      <td>U2OS-03_4_B02</td>\n      <td>U2OS</td>\n      <td>train</td>\n      <td>U2OS-03</td>\n      <td>4</td>\n      <td>B02</td>\n      <td>2</td>\n      <td>negative_control</td>\n      <td>EMPTY</td>\n      <td>1138</td>\n    </tr>\n  </tbody>\n</table>\n<p>492 rows × 11 columns</p>\n</div>"
     },
     "metadata": {},
     "execution_count": 8
    }
   ],
   "source": [
    "full_meta_df[full_meta_df.sirna_id == 1138]"
   ]
  },
  {
   "cell_type": "code",
   "execution_count": 9,
   "metadata": {},
   "outputs": [
    {
     "output_type": "execute_result",
     "data": {
      "text/plain": "1139"
     },
     "metadata": {},
     "execution_count": 9
    }
   ],
   "source": [
    "len(full_meta_df.sirna_id.unique())"
   ]
  },
  {
   "cell_type": "code",
   "execution_count": 10,
   "metadata": {},
   "outputs": [
    {
     "output_type": "execute_result",
     "data": {
      "text/plain": "3"
     },
     "metadata": {},
     "execution_count": 10
    }
   ],
   "source": [
    "len(full_meta_df.well_type.unique())"
   ]
  },
  {
   "cell_type": "code",
   "execution_count": 11,
   "metadata": {},
   "outputs": [
    {
     "output_type": "execute_result",
     "data": {
      "text/plain": "array(['negative_control', 'treatment', 'positive_control'], dtype=object)"
     },
     "metadata": {},
     "execution_count": 11
    }
   ],
   "source": [
    "full_meta_df.well_type.unique()"
   ]
  },
  {
   "cell_type": "code",
   "execution_count": 12,
   "metadata": {},
   "outputs": [
    {
     "output_type": "execute_result",
     "data": {
      "text/plain": "          id_code experiment  plate well  sirna                filename\n0  HEPG2-01_1_B03   HEPG2-01      1  B03    513  HEPG2-01_1_B03_s1.jpeg\n1  HEPG2-01_1_B04   HEPG2-01      1  B04    840  HEPG2-01_1_B04_s1.jpeg\n2  HEPG2-01_1_B05   HEPG2-01      1  B05   1020  HEPG2-01_1_B05_s1.jpeg\n3  HEPG2-01_1_B06   HEPG2-01      1  B06    254  HEPG2-01_1_B06_s1.jpeg\n4  HEPG2-01_1_B07   HEPG2-01      1  B07    144  HEPG2-01_1_B07_s1.jpeg",
      "text/html": "<div>\n<style scoped>\n    .dataframe tbody tr th:only-of-type {\n        vertical-align: middle;\n    }\n\n    .dataframe tbody tr th {\n        vertical-align: top;\n    }\n\n    .dataframe thead th {\n        text-align: right;\n    }\n</style>\n<table border=\"1\" class=\"dataframe\">\n  <thead>\n    <tr style=\"text-align: right;\">\n      <th></th>\n      <th>id_code</th>\n      <th>experiment</th>\n      <th>plate</th>\n      <th>well</th>\n      <th>sirna</th>\n      <th>filename</th>\n    </tr>\n  </thead>\n  <tbody>\n    <tr>\n      <th>0</th>\n      <td>HEPG2-01_1_B03</td>\n      <td>HEPG2-01</td>\n      <td>1</td>\n      <td>B03</td>\n      <td>513</td>\n      <td>HEPG2-01_1_B03_s1.jpeg</td>\n    </tr>\n    <tr>\n      <th>1</th>\n      <td>HEPG2-01_1_B04</td>\n      <td>HEPG2-01</td>\n      <td>1</td>\n      <td>B04</td>\n      <td>840</td>\n      <td>HEPG2-01_1_B04_s1.jpeg</td>\n    </tr>\n    <tr>\n      <th>2</th>\n      <td>HEPG2-01_1_B05</td>\n      <td>HEPG2-01</td>\n      <td>1</td>\n      <td>B05</td>\n      <td>1020</td>\n      <td>HEPG2-01_1_B05_s1.jpeg</td>\n    </tr>\n    <tr>\n      <th>3</th>\n      <td>HEPG2-01_1_B06</td>\n      <td>HEPG2-01</td>\n      <td>1</td>\n      <td>B06</td>\n      <td>254</td>\n      <td>HEPG2-01_1_B06_s1.jpeg</td>\n    </tr>\n    <tr>\n      <th>4</th>\n      <td>HEPG2-01_1_B07</td>\n      <td>HEPG2-01</td>\n      <td>1</td>\n      <td>B07</td>\n      <td>144</td>\n      <td>HEPG2-01_1_B07_s1.jpeg</td>\n    </tr>\n  </tbody>\n</table>\n</div>"
     },
     "metadata": {},
     "execution_count": 12
    }
   ],
   "source": [
    "parsed_df = pd.read_csv('parsed_data_files/new_train.csv')\n",
    "parsed_df.head()"
   ]
  },
  {
   "cell_type": "code",
   "execution_count": 13,
   "metadata": {},
   "outputs": [
    {
     "output_type": "execute_result",
     "data": {
      "text/plain": "          id_code experiment  plate well                filename\n0  HEPG2-08_1_B03   HEPG2-08      1  B03  HEPG2-08_1_B03_s1.jpeg\n1  HEPG2-08_1_B04   HEPG2-08      1  B04  HEPG2-08_1_B04_s1.jpeg\n2  HEPG2-08_1_B05   HEPG2-08      1  B05  HEPG2-08_1_B05_s1.jpeg\n3  HEPG2-08_1_B06   HEPG2-08      1  B06  HEPG2-08_1_B06_s1.jpeg\n4  HEPG2-08_1_B07   HEPG2-08      1  B07  HEPG2-08_1_B07_s1.jpeg",
      "text/html": "<div>\n<style scoped>\n    .dataframe tbody tr th:only-of-type {\n        vertical-align: middle;\n    }\n\n    .dataframe tbody tr th {\n        vertical-align: top;\n    }\n\n    .dataframe thead th {\n        text-align: right;\n    }\n</style>\n<table border=\"1\" class=\"dataframe\">\n  <thead>\n    <tr style=\"text-align: right;\">\n      <th></th>\n      <th>id_code</th>\n      <th>experiment</th>\n      <th>plate</th>\n      <th>well</th>\n      <th>filename</th>\n    </tr>\n  </thead>\n  <tbody>\n    <tr>\n      <th>0</th>\n      <td>HEPG2-08_1_B03</td>\n      <td>HEPG2-08</td>\n      <td>1</td>\n      <td>B03</td>\n      <td>HEPG2-08_1_B03_s1.jpeg</td>\n    </tr>\n    <tr>\n      <th>1</th>\n      <td>HEPG2-08_1_B04</td>\n      <td>HEPG2-08</td>\n      <td>1</td>\n      <td>B04</td>\n      <td>HEPG2-08_1_B04_s1.jpeg</td>\n    </tr>\n    <tr>\n      <th>2</th>\n      <td>HEPG2-08_1_B05</td>\n      <td>HEPG2-08</td>\n      <td>1</td>\n      <td>B05</td>\n      <td>HEPG2-08_1_B05_s1.jpeg</td>\n    </tr>\n    <tr>\n      <th>3</th>\n      <td>HEPG2-08_1_B06</td>\n      <td>HEPG2-08</td>\n      <td>1</td>\n      <td>B06</td>\n      <td>HEPG2-08_1_B06_s1.jpeg</td>\n    </tr>\n    <tr>\n      <th>4</th>\n      <td>HEPG2-08_1_B07</td>\n      <td>HEPG2-08</td>\n      <td>1</td>\n      <td>B07</td>\n      <td>HEPG2-08_1_B07_s1.jpeg</td>\n    </tr>\n  </tbody>\n</table>\n</div>"
     },
     "metadata": {},
     "execution_count": 13
    }
   ],
   "source": [
    "parsed_test_df = pd.read_csv('parsed_data_files/new_test.csv')\n",
    "parsed_test_df.head()"
   ]
  },
  {
   "cell_type": "markdown",
   "metadata": {},
   "source": [
    "## Filter to keep treatment rows"
   ]
  },
  {
   "cell_type": "code",
   "execution_count": 14,
   "metadata": {},
   "outputs": [],
   "source": [
    "treatments_df = full_meta_df[full_meta_df.well_type == 'treatment'].copy()"
   ]
  },
  {
   "cell_type": "code",
   "execution_count": 15,
   "metadata": {},
   "outputs": [
    {
     "output_type": "execute_result",
     "data": {
      "text/plain": "112824"
     },
     "metadata": {},
     "execution_count": 15
    }
   ],
   "source": [
    "len(treatments_df)"
   ]
  },
  {
   "cell_type": "code",
   "execution_count": 16,
   "metadata": {},
   "outputs": [
    {
     "output_type": "execute_result",
     "data": {
      "text/plain": "1108"
     },
     "metadata": {},
     "execution_count": 16
    }
   ],
   "source": [
    "len(treatments_df.sirna_id.unique()) # check how many treatments total, should be 1108"
   ]
  },
  {
   "cell_type": "markdown",
   "metadata": {},
   "source": [
    "# EDA"
   ]
  },
  {
   "cell_type": "code",
   "execution_count": 17,
   "metadata": {},
   "outputs": [
    {
     "output_type": "execute_result",
     "data": {
      "text/plain": "100"
     },
     "metadata": {},
     "execution_count": 17
    }
   ],
   "source": [
    "len(treatments_df[treatments_df.sirna_id == 888])"
   ]
  },
  {
   "cell_type": "code",
   "execution_count": 18,
   "metadata": {},
   "outputs": [
    {
     "output_type": "execute_result",
     "data": {
      "text/plain": "102"
     },
     "metadata": {},
     "execution_count": 18
    }
   ],
   "source": [
    "len(treatments_df[treatments_df.sirna_id == 999])"
   ]
  },
  {
   "cell_type": "code",
   "execution_count": 19,
   "metadata": {},
   "outputs": [
    {
     "output_type": "execute_result",
     "data": {
      "text/plain": "102"
     },
     "metadata": {},
     "execution_count": 19
    }
   ],
   "source": [
    "len(treatments_df[treatments_df.sirna_id == 111])"
   ]
  },
  {
   "cell_type": "code",
   "execution_count": 20,
   "metadata": {},
   "outputs": [],
   "source": [
    "cell_types = list(treatments_df.cell_type.unique())"
   ]
  },
  {
   "cell_type": "code",
   "execution_count": 21,
   "metadata": {},
   "outputs": [
    {
     "output_type": "execute_result",
     "data": {
      "text/plain": "24358"
     },
     "metadata": {},
     "execution_count": 21
    }
   ],
   "source": [
    "len(treatments_df[treatments_df.cell_type == cell_types[0]])"
   ]
  },
  {
   "cell_type": "code",
   "execution_count": 22,
   "metadata": {},
   "outputs": [
    {
     "output_type": "execute_result",
     "data": {
      "text/plain": "            site_id         well_id cell_type dataset experiment  plate well  \\\n2  HEPG2-08_1_B03_1  HEPG2-08_1_B03     HEPG2    test   HEPG2-08      1  B03   \n3  HEPG2-08_1_B03_2  HEPG2-08_1_B03     HEPG2    test   HEPG2-08      1  B03   \n4  HEPG2-08_1_B04_1  HEPG2-08_1_B04     HEPG2    test   HEPG2-08      1  B04   \n5  HEPG2-08_1_B04_2  HEPG2-08_1_B04     HEPG2    test   HEPG2-08      1  B04   \n6  HEPG2-08_1_B05_1  HEPG2-08_1_B05     HEPG2    test   HEPG2-08      1  B05   \n\n   site  well_type   sirna  sirna_id  \n2     1  treatment  s21721       855  \n3     2  treatment  s21721       855  \n4     1  treatment  s20894       710  \n5     2  treatment  s20894       710  \n6     1  treatment  s19827       836  ",
      "text/html": "<div>\n<style scoped>\n    .dataframe tbody tr th:only-of-type {\n        vertical-align: middle;\n    }\n\n    .dataframe tbody tr th {\n        vertical-align: top;\n    }\n\n    .dataframe thead th {\n        text-align: right;\n    }\n</style>\n<table border=\"1\" class=\"dataframe\">\n  <thead>\n    <tr style=\"text-align: right;\">\n      <th></th>\n      <th>site_id</th>\n      <th>well_id</th>\n      <th>cell_type</th>\n      <th>dataset</th>\n      <th>experiment</th>\n      <th>plate</th>\n      <th>well</th>\n      <th>site</th>\n      <th>well_type</th>\n      <th>sirna</th>\n      <th>sirna_id</th>\n    </tr>\n  </thead>\n  <tbody>\n    <tr>\n      <th>2</th>\n      <td>HEPG2-08_1_B03_1</td>\n      <td>HEPG2-08_1_B03</td>\n      <td>HEPG2</td>\n      <td>test</td>\n      <td>HEPG2-08</td>\n      <td>1</td>\n      <td>B03</td>\n      <td>1</td>\n      <td>treatment</td>\n      <td>s21721</td>\n      <td>855</td>\n    </tr>\n    <tr>\n      <th>3</th>\n      <td>HEPG2-08_1_B03_2</td>\n      <td>HEPG2-08_1_B03</td>\n      <td>HEPG2</td>\n      <td>test</td>\n      <td>HEPG2-08</td>\n      <td>1</td>\n      <td>B03</td>\n      <td>2</td>\n      <td>treatment</td>\n      <td>s21721</td>\n      <td>855</td>\n    </tr>\n    <tr>\n      <th>4</th>\n      <td>HEPG2-08_1_B04_1</td>\n      <td>HEPG2-08_1_B04</td>\n      <td>HEPG2</td>\n      <td>test</td>\n      <td>HEPG2-08</td>\n      <td>1</td>\n      <td>B04</td>\n      <td>1</td>\n      <td>treatment</td>\n      <td>s20894</td>\n      <td>710</td>\n    </tr>\n    <tr>\n      <th>5</th>\n      <td>HEPG2-08_1_B04_2</td>\n      <td>HEPG2-08_1_B04</td>\n      <td>HEPG2</td>\n      <td>test</td>\n      <td>HEPG2-08</td>\n      <td>1</td>\n      <td>B04</td>\n      <td>2</td>\n      <td>treatment</td>\n      <td>s20894</td>\n      <td>710</td>\n    </tr>\n    <tr>\n      <th>6</th>\n      <td>HEPG2-08_1_B05_1</td>\n      <td>HEPG2-08_1_B05</td>\n      <td>HEPG2</td>\n      <td>test</td>\n      <td>HEPG2-08</td>\n      <td>1</td>\n      <td>B05</td>\n      <td>1</td>\n      <td>treatment</td>\n      <td>s19827</td>\n      <td>836</td>\n    </tr>\n  </tbody>\n</table>\n</div>"
     },
     "metadata": {},
     "execution_count": 22
    }
   ],
   "source": [
    "hepg2_df = treatments_df[treatments_df.cell_type == cell_types[0]]\n",
    "hepg2_df.head()"
   ]
  },
  {
   "cell_type": "code",
   "execution_count": 23,
   "metadata": {},
   "outputs": [
    {
     "output_type": "execute_result",
     "data": {
      "text/plain": "                site_id         well_id cell_type dataset experiment  plate  \\\n59072  HEPG2-07_1_B03_1  HEPG2-07_1_B03     HEPG2   train   HEPG2-07      1   \n59073  HEPG2-07_1_B03_2  HEPG2-07_1_B03     HEPG2   train   HEPG2-07      1   \n\n      well  site  well_type   sirna  sirna_id  \n59072  B03     1  treatment  s28299       239  \n59073  B03     2  treatment  s28299       239  ",
      "text/html": "<div>\n<style scoped>\n    .dataframe tbody tr th:only-of-type {\n        vertical-align: middle;\n    }\n\n    .dataframe tbody tr th {\n        vertical-align: top;\n    }\n\n    .dataframe thead th {\n        text-align: right;\n    }\n</style>\n<table border=\"1\" class=\"dataframe\">\n  <thead>\n    <tr style=\"text-align: right;\">\n      <th></th>\n      <th>site_id</th>\n      <th>well_id</th>\n      <th>cell_type</th>\n      <th>dataset</th>\n      <th>experiment</th>\n      <th>plate</th>\n      <th>well</th>\n      <th>site</th>\n      <th>well_type</th>\n      <th>sirna</th>\n      <th>sirna_id</th>\n    </tr>\n  </thead>\n  <tbody>\n    <tr>\n      <th>59072</th>\n      <td>HEPG2-07_1_B03_1</td>\n      <td>HEPG2-07_1_B03</td>\n      <td>HEPG2</td>\n      <td>train</td>\n      <td>HEPG2-07</td>\n      <td>1</td>\n      <td>B03</td>\n      <td>1</td>\n      <td>treatment</td>\n      <td>s28299</td>\n      <td>239</td>\n    </tr>\n    <tr>\n      <th>59073</th>\n      <td>HEPG2-07_1_B03_2</td>\n      <td>HEPG2-07_1_B03</td>\n      <td>HEPG2</td>\n      <td>train</td>\n      <td>HEPG2-07</td>\n      <td>1</td>\n      <td>B03</td>\n      <td>2</td>\n      <td>treatment</td>\n      <td>s28299</td>\n      <td>239</td>\n    </tr>\n  </tbody>\n</table>\n</div>"
     },
     "metadata": {},
     "execution_count": 23
    }
   ],
   "source": [
    "hepg2_df[(hepg2_df.well == 'B03') & (hepg2_df.experiment == 'HEPG2-07') & (hepg2_df.sirna_id == 239)]"
   ]
  },
  {
   "cell_type": "code",
   "execution_count": 24,
   "metadata": {},
   "outputs": [
    {
     "output_type": "execute_result",
     "data": {
      "text/plain": "              id_code experiment  plate well  sirna                filename\n6644   HEPG2-07_1_B03   HEPG2-07      1  B03    239  HEPG2-07_1_B03_s1.jpeg\n43159  HEPG2-07_1_B03   HEPG2-07      1  B03    239  HEPG2-07_1_B03_s2.jpeg",
      "text/html": "<div>\n<style scoped>\n    .dataframe tbody tr th:only-of-type {\n        vertical-align: middle;\n    }\n\n    .dataframe tbody tr th {\n        vertical-align: top;\n    }\n\n    .dataframe thead th {\n        text-align: right;\n    }\n</style>\n<table border=\"1\" class=\"dataframe\">\n  <thead>\n    <tr style=\"text-align: right;\">\n      <th></th>\n      <th>id_code</th>\n      <th>experiment</th>\n      <th>plate</th>\n      <th>well</th>\n      <th>sirna</th>\n      <th>filename</th>\n    </tr>\n  </thead>\n  <tbody>\n    <tr>\n      <th>6644</th>\n      <td>HEPG2-07_1_B03</td>\n      <td>HEPG2-07</td>\n      <td>1</td>\n      <td>B03</td>\n      <td>239</td>\n      <td>HEPG2-07_1_B03_s1.jpeg</td>\n    </tr>\n    <tr>\n      <th>43159</th>\n      <td>HEPG2-07_1_B03</td>\n      <td>HEPG2-07</td>\n      <td>1</td>\n      <td>B03</td>\n      <td>239</td>\n      <td>HEPG2-07_1_B03_s2.jpeg</td>\n    </tr>\n  </tbody>\n</table>\n</div>"
     },
     "metadata": {},
     "execution_count": 24
    }
   ],
   "source": [
    "parsed_df[(parsed_df.experiment == 'HEPG2-07') & (parsed_df.sirna == 239)]"
   ]
  },
  {
   "cell_type": "code",
   "execution_count": 25,
   "metadata": {},
   "outputs": [
    {
     "output_type": "execute_result",
     "data": {
      "text/plain": "33"
     },
     "metadata": {},
     "execution_count": 25
    }
   ],
   "source": [
    "len(parsed_df.experiment.unique())"
   ]
  },
  {
   "cell_type": "code",
   "execution_count": 26,
   "metadata": {},
   "outputs": [
    {
     "output_type": "execute_result",
     "data": {
      "text/plain": "73030"
     },
     "metadata": {},
     "execution_count": 26
    }
   ],
   "source": [
    "len(parsed_df)"
   ]
  },
  {
   "cell_type": "code",
   "execution_count": 27,
   "metadata": {},
   "outputs": [],
   "source": [
    "train_df = treatments_df[treatments_df.dataset == 'train'].copy()\n",
    "test_df = treatments_df[treatments_df.dataset == 'test'].copy()"
   ]
  },
  {
   "cell_type": "code",
   "execution_count": 28,
   "metadata": {},
   "outputs": [
    {
     "output_type": "execute_result",
     "data": {
      "text/plain": "39794"
     },
     "metadata": {},
     "execution_count": 28
    }
   ],
   "source": [
    "len(test_df)"
   ]
  },
  {
   "cell_type": "code",
   "execution_count": 29,
   "metadata": {},
   "outputs": [
    {
     "output_type": "execute_result",
     "data": {
      "text/plain": "73030"
     },
     "metadata": {},
     "execution_count": 29
    }
   ],
   "source": [
    "len(train_df)"
   ]
  },
  {
   "cell_type": "code",
   "execution_count": 30,
   "metadata": {},
   "outputs": [
    {
     "output_type": "execute_result",
     "data": {
      "text/plain": "39794"
     },
     "metadata": {},
     "execution_count": 30
    }
   ],
   "source": [
    "parsed_test_df = pd.read_csv('parsed_data_files/new_test.csv')\n",
    "len(parsed_test_df)"
   ]
  },
  {
   "cell_type": "code",
   "execution_count": 31,
   "metadata": {},
   "outputs": [
    {
     "output_type": "stream",
     "name": "stdout",
     "text": "/home/specc/Documents/school_files/458_deep_learning/458_final_project\n['parsed_data_files', '.vscode', 'data_loading_and_eda.ipynb', 'notes.md', '.git', 'README.md', 'data_files', 'rxrx1', '254482_535150_bundle_archive.zip', 'modeling_experiments.ipynb', 'rxrx1-utils', 'recursion-2019-load-resize-and-save-images.ipynb']\n"
    }
   ],
   "source": [
    "print(os.getcwd())\n",
    "print(os.listdir())"
   ]
  },
  {
   "cell_type": "code",
   "execution_count": 32,
   "metadata": {},
   "outputs": [
    {
     "output_type": "execute_result",
     "data": {
      "text/plain": "                site_id         well_id cell_type dataset experiment  plate  \\\n44288  HEPG2-01_1_B03_1  HEPG2-01_1_B03     HEPG2   train   HEPG2-01      1   \n44289  HEPG2-01_1_B03_2  HEPG2-01_1_B03     HEPG2   train   HEPG2-01      1   \n44290  HEPG2-01_1_B04_1  HEPG2-01_1_B04     HEPG2   train   HEPG2-01      1   \n44291  HEPG2-01_1_B04_2  HEPG2-01_1_B04     HEPG2   train   HEPG2-01      1   \n44292  HEPG2-01_1_B05_1  HEPG2-01_1_B05     HEPG2   train   HEPG2-01      1   \n\n      well  site  well_type   sirna  sirna_id  \n44288  B03     1  treatment  s28745       513  \n44289  B03     2  treatment  s28745       513  \n44290  B04     1  treatment  s28710       840  \n44291  B04     2  treatment  s28710       840  \n44292  B05     1  treatment  s28834      1020  ",
      "text/html": "<div>\n<style scoped>\n    .dataframe tbody tr th:only-of-type {\n        vertical-align: middle;\n    }\n\n    .dataframe tbody tr th {\n        vertical-align: top;\n    }\n\n    .dataframe thead th {\n        text-align: right;\n    }\n</style>\n<table border=\"1\" class=\"dataframe\">\n  <thead>\n    <tr style=\"text-align: right;\">\n      <th></th>\n      <th>site_id</th>\n      <th>well_id</th>\n      <th>cell_type</th>\n      <th>dataset</th>\n      <th>experiment</th>\n      <th>plate</th>\n      <th>well</th>\n      <th>site</th>\n      <th>well_type</th>\n      <th>sirna</th>\n      <th>sirna_id</th>\n    </tr>\n  </thead>\n  <tbody>\n    <tr>\n      <th>44288</th>\n      <td>HEPG2-01_1_B03_1</td>\n      <td>HEPG2-01_1_B03</td>\n      <td>HEPG2</td>\n      <td>train</td>\n      <td>HEPG2-01</td>\n      <td>1</td>\n      <td>B03</td>\n      <td>1</td>\n      <td>treatment</td>\n      <td>s28745</td>\n      <td>513</td>\n    </tr>\n    <tr>\n      <th>44289</th>\n      <td>HEPG2-01_1_B03_2</td>\n      <td>HEPG2-01_1_B03</td>\n      <td>HEPG2</td>\n      <td>train</td>\n      <td>HEPG2-01</td>\n      <td>1</td>\n      <td>B03</td>\n      <td>2</td>\n      <td>treatment</td>\n      <td>s28745</td>\n      <td>513</td>\n    </tr>\n    <tr>\n      <th>44290</th>\n      <td>HEPG2-01_1_B04_1</td>\n      <td>HEPG2-01_1_B04</td>\n      <td>HEPG2</td>\n      <td>train</td>\n      <td>HEPG2-01</td>\n      <td>1</td>\n      <td>B04</td>\n      <td>1</td>\n      <td>treatment</td>\n      <td>s28710</td>\n      <td>840</td>\n    </tr>\n    <tr>\n      <th>44291</th>\n      <td>HEPG2-01_1_B04_2</td>\n      <td>HEPG2-01_1_B04</td>\n      <td>HEPG2</td>\n      <td>train</td>\n      <td>HEPG2-01</td>\n      <td>1</td>\n      <td>B04</td>\n      <td>2</td>\n      <td>treatment</td>\n      <td>s28710</td>\n      <td>840</td>\n    </tr>\n    <tr>\n      <th>44292</th>\n      <td>HEPG2-01_1_B05_1</td>\n      <td>HEPG2-01_1_B05</td>\n      <td>HEPG2</td>\n      <td>train</td>\n      <td>HEPG2-01</td>\n      <td>1</td>\n      <td>B05</td>\n      <td>1</td>\n      <td>treatment</td>\n      <td>s28834</td>\n      <td>1020</td>\n    </tr>\n  </tbody>\n</table>\n</div>"
     },
     "metadata": {},
     "execution_count": 32
    }
   ],
   "source": [
    "train_df.head()"
   ]
  },
  {
   "cell_type": "code",
   "execution_count": 33,
   "metadata": {},
   "outputs": [
    {
     "output_type": "execute_result",
     "data": {
      "text/plain": "            site_id         well_id cell_type dataset experiment  plate well  \\\n2  HEPG2-08_1_B03_1  HEPG2-08_1_B03     HEPG2    test   HEPG2-08      1  B03   \n3  HEPG2-08_1_B03_2  HEPG2-08_1_B03     HEPG2    test   HEPG2-08      1  B03   \n4  HEPG2-08_1_B04_1  HEPG2-08_1_B04     HEPG2    test   HEPG2-08      1  B04   \n5  HEPG2-08_1_B04_2  HEPG2-08_1_B04     HEPG2    test   HEPG2-08      1  B04   \n6  HEPG2-08_1_B05_1  HEPG2-08_1_B05     HEPG2    test   HEPG2-08      1  B05   \n\n   site  well_type   sirna  sirna_id  \n2     1  treatment  s21721       855  \n3     2  treatment  s21721       855  \n4     1  treatment  s20894       710  \n5     2  treatment  s20894       710  \n6     1  treatment  s19827       836  ",
      "text/html": "<div>\n<style scoped>\n    .dataframe tbody tr th:only-of-type {\n        vertical-align: middle;\n    }\n\n    .dataframe tbody tr th {\n        vertical-align: top;\n    }\n\n    .dataframe thead th {\n        text-align: right;\n    }\n</style>\n<table border=\"1\" class=\"dataframe\">\n  <thead>\n    <tr style=\"text-align: right;\">\n      <th></th>\n      <th>site_id</th>\n      <th>well_id</th>\n      <th>cell_type</th>\n      <th>dataset</th>\n      <th>experiment</th>\n      <th>plate</th>\n      <th>well</th>\n      <th>site</th>\n      <th>well_type</th>\n      <th>sirna</th>\n      <th>sirna_id</th>\n    </tr>\n  </thead>\n  <tbody>\n    <tr>\n      <th>2</th>\n      <td>HEPG2-08_1_B03_1</td>\n      <td>HEPG2-08_1_B03</td>\n      <td>HEPG2</td>\n      <td>test</td>\n      <td>HEPG2-08</td>\n      <td>1</td>\n      <td>B03</td>\n      <td>1</td>\n      <td>treatment</td>\n      <td>s21721</td>\n      <td>855</td>\n    </tr>\n    <tr>\n      <th>3</th>\n      <td>HEPG2-08_1_B03_2</td>\n      <td>HEPG2-08_1_B03</td>\n      <td>HEPG2</td>\n      <td>test</td>\n      <td>HEPG2-08</td>\n      <td>1</td>\n      <td>B03</td>\n      <td>2</td>\n      <td>treatment</td>\n      <td>s21721</td>\n      <td>855</td>\n    </tr>\n    <tr>\n      <th>4</th>\n      <td>HEPG2-08_1_B04_1</td>\n      <td>HEPG2-08_1_B04</td>\n      <td>HEPG2</td>\n      <td>test</td>\n      <td>HEPG2-08</td>\n      <td>1</td>\n      <td>B04</td>\n      <td>1</td>\n      <td>treatment</td>\n      <td>s20894</td>\n      <td>710</td>\n    </tr>\n    <tr>\n      <th>5</th>\n      <td>HEPG2-08_1_B04_2</td>\n      <td>HEPG2-08_1_B04</td>\n      <td>HEPG2</td>\n      <td>test</td>\n      <td>HEPG2-08</td>\n      <td>1</td>\n      <td>B04</td>\n      <td>2</td>\n      <td>treatment</td>\n      <td>s20894</td>\n      <td>710</td>\n    </tr>\n    <tr>\n      <th>6</th>\n      <td>HEPG2-08_1_B05_1</td>\n      <td>HEPG2-08_1_B05</td>\n      <td>HEPG2</td>\n      <td>test</td>\n      <td>HEPG2-08</td>\n      <td>1</td>\n      <td>B05</td>\n      <td>1</td>\n      <td>treatment</td>\n      <td>s19827</td>\n      <td>836</td>\n    </tr>\n  </tbody>\n</table>\n</div>"
     },
     "metadata": {},
     "execution_count": 33
    }
   ],
   "source": [
    "test_df.head()"
   ]
  },
  {
   "cell_type": "code",
   "execution_count": 34,
   "metadata": {},
   "outputs": [
    {
     "output_type": "execute_result",
     "data": {
      "text/plain": "              id_code experiment  plate well  sirna                filename\n0      HEPG2-01_1_B03   HEPG2-01      1  B03    513  HEPG2-01_1_B03_s1.jpeg\n36515  HEPG2-01_1_B03   HEPG2-01      1  B03    513  HEPG2-01_1_B03_s2.jpeg",
      "text/html": "<div>\n<style scoped>\n    .dataframe tbody tr th:only-of-type {\n        vertical-align: middle;\n    }\n\n    .dataframe tbody tr th {\n        vertical-align: top;\n    }\n\n    .dataframe thead th {\n        text-align: right;\n    }\n</style>\n<table border=\"1\" class=\"dataframe\">\n  <thead>\n    <tr style=\"text-align: right;\">\n      <th></th>\n      <th>id_code</th>\n      <th>experiment</th>\n      <th>plate</th>\n      <th>well</th>\n      <th>sirna</th>\n      <th>filename</th>\n    </tr>\n  </thead>\n  <tbody>\n    <tr>\n      <th>0</th>\n      <td>HEPG2-01_1_B03</td>\n      <td>HEPG2-01</td>\n      <td>1</td>\n      <td>B03</td>\n      <td>513</td>\n      <td>HEPG2-01_1_B03_s1.jpeg</td>\n    </tr>\n    <tr>\n      <th>36515</th>\n      <td>HEPG2-01_1_B03</td>\n      <td>HEPG2-01</td>\n      <td>1</td>\n      <td>B03</td>\n      <td>513</td>\n      <td>HEPG2-01_1_B03_s2.jpeg</td>\n    </tr>\n  </tbody>\n</table>\n</div>"
     },
     "metadata": {},
     "execution_count": 34
    }
   ],
   "source": [
    "parsed_df[(parsed_df.sirna == 513) & (parsed_df.experiment == 'HEPG2-01')]"
   ]
  },
  {
   "cell_type": "code",
   "execution_count": 35,
   "metadata": {},
   "outputs": [
    {
     "output_type": "execute_result",
     "data": {
      "text/plain": "          id_code experiment  plate well                filename\n0  HEPG2-08_1_B03   HEPG2-08      1  B03  HEPG2-08_1_B03_s1.jpeg\n1  HEPG2-08_1_B04   HEPG2-08      1  B04  HEPG2-08_1_B04_s1.jpeg\n2  HEPG2-08_1_B05   HEPG2-08      1  B05  HEPG2-08_1_B05_s1.jpeg\n3  HEPG2-08_1_B06   HEPG2-08      1  B06  HEPG2-08_1_B06_s1.jpeg\n4  HEPG2-08_1_B07   HEPG2-08      1  B07  HEPG2-08_1_B07_s1.jpeg",
      "text/html": "<div>\n<style scoped>\n    .dataframe tbody tr th:only-of-type {\n        vertical-align: middle;\n    }\n\n    .dataframe tbody tr th {\n        vertical-align: top;\n    }\n\n    .dataframe thead th {\n        text-align: right;\n    }\n</style>\n<table border=\"1\" class=\"dataframe\">\n  <thead>\n    <tr style=\"text-align: right;\">\n      <th></th>\n      <th>id_code</th>\n      <th>experiment</th>\n      <th>plate</th>\n      <th>well</th>\n      <th>filename</th>\n    </tr>\n  </thead>\n  <tbody>\n    <tr>\n      <th>0</th>\n      <td>HEPG2-08_1_B03</td>\n      <td>HEPG2-08</td>\n      <td>1</td>\n      <td>B03</td>\n      <td>HEPG2-08_1_B03_s1.jpeg</td>\n    </tr>\n    <tr>\n      <th>1</th>\n      <td>HEPG2-08_1_B04</td>\n      <td>HEPG2-08</td>\n      <td>1</td>\n      <td>B04</td>\n      <td>HEPG2-08_1_B04_s1.jpeg</td>\n    </tr>\n    <tr>\n      <th>2</th>\n      <td>HEPG2-08_1_B05</td>\n      <td>HEPG2-08</td>\n      <td>1</td>\n      <td>B05</td>\n      <td>HEPG2-08_1_B05_s1.jpeg</td>\n    </tr>\n    <tr>\n      <th>3</th>\n      <td>HEPG2-08_1_B06</td>\n      <td>HEPG2-08</td>\n      <td>1</td>\n      <td>B06</td>\n      <td>HEPG2-08_1_B06_s1.jpeg</td>\n    </tr>\n    <tr>\n      <th>4</th>\n      <td>HEPG2-08_1_B07</td>\n      <td>HEPG2-08</td>\n      <td>1</td>\n      <td>B07</td>\n      <td>HEPG2-08_1_B07_s1.jpeg</td>\n    </tr>\n  </tbody>\n</table>\n</div>"
     },
     "metadata": {},
     "execution_count": 35
    }
   ],
   "source": [
    "parsed_test_df.head()"
   ]
  },
  {
   "cell_type": "code",
   "execution_count": 36,
   "metadata": {},
   "outputs": [
    {
     "output_type": "execute_result",
     "data": {
      "text/plain": "True"
     },
     "metadata": {},
     "execution_count": 36
    }
   ],
   "source": [
    "len(parsed_test_df) == len(test_df)"
   ]
  },
  {
   "cell_type": "code",
   "execution_count": 37,
   "metadata": {},
   "outputs": [
    {
     "output_type": "execute_result",
     "data": {
      "text/plain": "39794"
     },
     "metadata": {},
     "execution_count": 37
    }
   ],
   "source": [
    "len(parsed_test_df)"
   ]
  },
  {
   "cell_type": "code",
   "execution_count": 38,
   "metadata": {},
   "outputs": [
    {
     "output_type": "execute_result",
     "data": {
      "text/plain": "39794"
     },
     "metadata": {},
     "execution_count": 38
    }
   ],
   "source": [
    "len(test_df)"
   ]
  },
  {
   "cell_type": "code",
   "execution_count": 39,
   "metadata": {},
   "outputs": [],
   "source": [
    "parsed_test_df.rename(columns = {'id_code': 'well_id'}, inplace = True)"
   ]
  },
  {
   "cell_type": "code",
   "execution_count": 40,
   "metadata": {},
   "outputs": [],
   "source": [
    "parsed_test_df = parsed_test_df.merge(test_df, on = ['well_id', 'experiment', 'well', 'plate'], how = 'left')"
   ]
  },
  {
   "cell_type": "code",
   "execution_count": 41,
   "metadata": {},
   "outputs": [
    {
     "output_type": "execute_result",
     "data": {
      "text/plain": "Index(['well_id', 'experiment', 'plate', 'well', 'filename', 'site_id',\n       'cell_type', 'dataset', 'site', 'well_type', 'sirna', 'sirna_id'],\n      dtype='object')"
     },
     "metadata": {},
     "execution_count": 41
    }
   ],
   "source": [
    "parsed_test_df.columns"
   ]
  },
  {
   "cell_type": "code",
   "execution_count": 42,
   "metadata": {},
   "outputs": [
    {
     "output_type": "execute_result",
     "data": {
      "text/plain": "79588"
     },
     "metadata": {},
     "execution_count": 42
    }
   ],
   "source": [
    "len(parsed_test_df)"
   ]
  },
  {
   "cell_type": "code",
   "execution_count": 43,
   "metadata": {},
   "outputs": [],
   "source": [
    "parsed_test_df = parsed_test_df.drop(columns = ['site_id', 'dataset', 'well_type', 'site']).drop_duplicates()"
   ]
  },
  {
   "cell_type": "code",
   "execution_count": 44,
   "metadata": {},
   "outputs": [],
   "source": [
    "parsed_test_df['site'] = 0"
   ]
  },
  {
   "cell_type": "code",
   "execution_count": 45,
   "metadata": {},
   "outputs": [],
   "source": [
    "def assign_site(str_input):\n",
    "    if 's1' in str_input:\n",
    "        return 1\n",
    "    elif 's2' in str_input:\n",
    "        return 2"
   ]
  },
  {
   "cell_type": "code",
   "execution_count": 46,
   "metadata": {},
   "outputs": [
    {
     "output_type": "execute_result",
     "data": {
      "text/plain": "              well_id experiment  plate well                filename  \\\n0      HEPG2-08_1_B03   HEPG2-08      1  B03  HEPG2-08_1_B03_s1.jpeg   \n2      HEPG2-08_1_B04   HEPG2-08      1  B04  HEPG2-08_1_B04_s1.jpeg   \n4      HEPG2-08_1_B05   HEPG2-08      1  B05  HEPG2-08_1_B05_s1.jpeg   \n6      HEPG2-08_1_B06   HEPG2-08      1  B06  HEPG2-08_1_B06_s1.jpeg   \n8      HEPG2-08_1_B07   HEPG2-08      1  B07  HEPG2-08_1_B07_s1.jpeg   \n...               ...        ...    ...  ...                     ...   \n79578   U2OS-05_4_O19    U2OS-05      4  O19   U2OS-05_4_O19_s2.jpeg   \n79580   U2OS-05_4_O20    U2OS-05      4  O20   U2OS-05_4_O20_s2.jpeg   \n79582   U2OS-05_4_O21    U2OS-05      4  O21   U2OS-05_4_O21_s2.jpeg   \n79584   U2OS-05_4_O22    U2OS-05      4  O22   U2OS-05_4_O22_s2.jpeg   \n79586   U2OS-05_4_O23    U2OS-05      4  O23   U2OS-05_4_O23_s2.jpeg   \n\n      cell_type   sirna  sirna_id  site  \n0         HEPG2  s21721       855     0  \n2         HEPG2  s20894       710     0  \n4         HEPG2  s19827       836     0  \n6         HEPG2  s19792       249     0  \n8         HEPG2  s19935       878     0  \n...         ...     ...       ...   ...  \n79578      U2OS  s19163       643     0  \n79580      U2OS  s19139       777     0  \n79582      U2OS  s18196       375     0  \n79584      U2OS  s18694       394     0  \n79586      U2OS  s19103        65     0  \n\n[39794 rows x 9 columns]",
      "text/html": "<div>\n<style scoped>\n    .dataframe tbody tr th:only-of-type {\n        vertical-align: middle;\n    }\n\n    .dataframe tbody tr th {\n        vertical-align: top;\n    }\n\n    .dataframe thead th {\n        text-align: right;\n    }\n</style>\n<table border=\"1\" class=\"dataframe\">\n  <thead>\n    <tr style=\"text-align: right;\">\n      <th></th>\n      <th>well_id</th>\n      <th>experiment</th>\n      <th>plate</th>\n      <th>well</th>\n      <th>filename</th>\n      <th>cell_type</th>\n      <th>sirna</th>\n      <th>sirna_id</th>\n      <th>site</th>\n    </tr>\n  </thead>\n  <tbody>\n    <tr>\n      <th>0</th>\n      <td>HEPG2-08_1_B03</td>\n      <td>HEPG2-08</td>\n      <td>1</td>\n      <td>B03</td>\n      <td>HEPG2-08_1_B03_s1.jpeg</td>\n      <td>HEPG2</td>\n      <td>s21721</td>\n      <td>855</td>\n      <td>0</td>\n    </tr>\n    <tr>\n      <th>2</th>\n      <td>HEPG2-08_1_B04</td>\n      <td>HEPG2-08</td>\n      <td>1</td>\n      <td>B04</td>\n      <td>HEPG2-08_1_B04_s1.jpeg</td>\n      <td>HEPG2</td>\n      <td>s20894</td>\n      <td>710</td>\n      <td>0</td>\n    </tr>\n    <tr>\n      <th>4</th>\n      <td>HEPG2-08_1_B05</td>\n      <td>HEPG2-08</td>\n      <td>1</td>\n      <td>B05</td>\n      <td>HEPG2-08_1_B05_s1.jpeg</td>\n      <td>HEPG2</td>\n      <td>s19827</td>\n      <td>836</td>\n      <td>0</td>\n    </tr>\n    <tr>\n      <th>6</th>\n      <td>HEPG2-08_1_B06</td>\n      <td>HEPG2-08</td>\n      <td>1</td>\n      <td>B06</td>\n      <td>HEPG2-08_1_B06_s1.jpeg</td>\n      <td>HEPG2</td>\n      <td>s19792</td>\n      <td>249</td>\n      <td>0</td>\n    </tr>\n    <tr>\n      <th>8</th>\n      <td>HEPG2-08_1_B07</td>\n      <td>HEPG2-08</td>\n      <td>1</td>\n      <td>B07</td>\n      <td>HEPG2-08_1_B07_s1.jpeg</td>\n      <td>HEPG2</td>\n      <td>s19935</td>\n      <td>878</td>\n      <td>0</td>\n    </tr>\n    <tr>\n      <th>...</th>\n      <td>...</td>\n      <td>...</td>\n      <td>...</td>\n      <td>...</td>\n      <td>...</td>\n      <td>...</td>\n      <td>...</td>\n      <td>...</td>\n      <td>...</td>\n    </tr>\n    <tr>\n      <th>79578</th>\n      <td>U2OS-05_4_O19</td>\n      <td>U2OS-05</td>\n      <td>4</td>\n      <td>O19</td>\n      <td>U2OS-05_4_O19_s2.jpeg</td>\n      <td>U2OS</td>\n      <td>s19163</td>\n      <td>643</td>\n      <td>0</td>\n    </tr>\n    <tr>\n      <th>79580</th>\n      <td>U2OS-05_4_O20</td>\n      <td>U2OS-05</td>\n      <td>4</td>\n      <td>O20</td>\n      <td>U2OS-05_4_O20_s2.jpeg</td>\n      <td>U2OS</td>\n      <td>s19139</td>\n      <td>777</td>\n      <td>0</td>\n    </tr>\n    <tr>\n      <th>79582</th>\n      <td>U2OS-05_4_O21</td>\n      <td>U2OS-05</td>\n      <td>4</td>\n      <td>O21</td>\n      <td>U2OS-05_4_O21_s2.jpeg</td>\n      <td>U2OS</td>\n      <td>s18196</td>\n      <td>375</td>\n      <td>0</td>\n    </tr>\n    <tr>\n      <th>79584</th>\n      <td>U2OS-05_4_O22</td>\n      <td>U2OS-05</td>\n      <td>4</td>\n      <td>O22</td>\n      <td>U2OS-05_4_O22_s2.jpeg</td>\n      <td>U2OS</td>\n      <td>s18694</td>\n      <td>394</td>\n      <td>0</td>\n    </tr>\n    <tr>\n      <th>79586</th>\n      <td>U2OS-05_4_O23</td>\n      <td>U2OS-05</td>\n      <td>4</td>\n      <td>O23</td>\n      <td>U2OS-05_4_O23_s2.jpeg</td>\n      <td>U2OS</td>\n      <td>s19103</td>\n      <td>65</td>\n      <td>0</td>\n    </tr>\n  </tbody>\n</table>\n<p>39794 rows × 9 columns</p>\n</div>"
     },
     "metadata": {},
     "execution_count": 46
    }
   ],
   "source": [
    "parsed_test_df"
   ]
  },
  {
   "cell_type": "code",
   "execution_count": 47,
   "metadata": {},
   "outputs": [],
   "source": [
    "parsed_test_df['site'] = parsed_test_df.filename.apply(assign_site)"
   ]
  },
  {
   "cell_type": "code",
   "execution_count": 48,
   "metadata": {},
   "outputs": [
    {
     "output_type": "execute_result",
     "data": {
      "text/plain": "39794"
     },
     "metadata": {},
     "execution_count": 48
    }
   ],
   "source": [
    "len(parsed_test_df)"
   ]
  },
  {
   "cell_type": "code",
   "execution_count": 49,
   "metadata": {},
   "outputs": [
    {
     "output_type": "execute_result",
     "data": {
      "text/plain": "              well_id experiment  plate well                filename  \\\n0      HEPG2-08_1_B03   HEPG2-08      1  B03  HEPG2-08_1_B03_s1.jpeg   \n39794  HEPG2-08_1_B03   HEPG2-08      1  B03  HEPG2-08_1_B03_s2.jpeg   \n\n      cell_type   sirna  sirna_id  site  \n0         HEPG2  s21721       855     1  \n39794     HEPG2  s21721       855     2  ",
      "text/html": "<div>\n<style scoped>\n    .dataframe tbody tr th:only-of-type {\n        vertical-align: middle;\n    }\n\n    .dataframe tbody tr th {\n        vertical-align: top;\n    }\n\n    .dataframe thead th {\n        text-align: right;\n    }\n</style>\n<table border=\"1\" class=\"dataframe\">\n  <thead>\n    <tr style=\"text-align: right;\">\n      <th></th>\n      <th>well_id</th>\n      <th>experiment</th>\n      <th>plate</th>\n      <th>well</th>\n      <th>filename</th>\n      <th>cell_type</th>\n      <th>sirna</th>\n      <th>sirna_id</th>\n      <th>site</th>\n    </tr>\n  </thead>\n  <tbody>\n    <tr>\n      <th>0</th>\n      <td>HEPG2-08_1_B03</td>\n      <td>HEPG2-08</td>\n      <td>1</td>\n      <td>B03</td>\n      <td>HEPG2-08_1_B03_s1.jpeg</td>\n      <td>HEPG2</td>\n      <td>s21721</td>\n      <td>855</td>\n      <td>1</td>\n    </tr>\n    <tr>\n      <th>39794</th>\n      <td>HEPG2-08_1_B03</td>\n      <td>HEPG2-08</td>\n      <td>1</td>\n      <td>B03</td>\n      <td>HEPG2-08_1_B03_s2.jpeg</td>\n      <td>HEPG2</td>\n      <td>s21721</td>\n      <td>855</td>\n      <td>2</td>\n    </tr>\n  </tbody>\n</table>\n</div>"
     },
     "metadata": {},
     "execution_count": 49
    }
   ],
   "source": [
    "parsed_test_df[(parsed_test_df.sirna_id == 855) & (parsed_test_df.experiment == 'HEPG2-08')]"
   ]
  },
  {
   "cell_type": "code",
   "execution_count": 50,
   "metadata": {},
   "outputs": [],
   "source": [
    "parsed_test_df = parsed_test_df.drop(columns = ['cell_type', 'sirna', 'site'])"
   ]
  },
  {
   "cell_type": "code",
   "execution_count": 51,
   "metadata": {},
   "outputs": [
    {
     "output_type": "execute_result",
     "data": {
      "text/plain": "          id_code experiment  plate well  sirna                filename\n0  HEPG2-01_1_B03   HEPG2-01      1  B03    513  HEPG2-01_1_B03_s1.jpeg\n1  HEPG2-01_1_B04   HEPG2-01      1  B04    840  HEPG2-01_1_B04_s1.jpeg\n2  HEPG2-01_1_B05   HEPG2-01      1  B05   1020  HEPG2-01_1_B05_s1.jpeg\n3  HEPG2-01_1_B06   HEPG2-01      1  B06    254  HEPG2-01_1_B06_s1.jpeg\n4  HEPG2-01_1_B07   HEPG2-01      1  B07    144  HEPG2-01_1_B07_s1.jpeg",
      "text/html": "<div>\n<style scoped>\n    .dataframe tbody tr th:only-of-type {\n        vertical-align: middle;\n    }\n\n    .dataframe tbody tr th {\n        vertical-align: top;\n    }\n\n    .dataframe thead th {\n        text-align: right;\n    }\n</style>\n<table border=\"1\" class=\"dataframe\">\n  <thead>\n    <tr style=\"text-align: right;\">\n      <th></th>\n      <th>id_code</th>\n      <th>experiment</th>\n      <th>plate</th>\n      <th>well</th>\n      <th>sirna</th>\n      <th>filename</th>\n    </tr>\n  </thead>\n  <tbody>\n    <tr>\n      <th>0</th>\n      <td>HEPG2-01_1_B03</td>\n      <td>HEPG2-01</td>\n      <td>1</td>\n      <td>B03</td>\n      <td>513</td>\n      <td>HEPG2-01_1_B03_s1.jpeg</td>\n    </tr>\n    <tr>\n      <th>1</th>\n      <td>HEPG2-01_1_B04</td>\n      <td>HEPG2-01</td>\n      <td>1</td>\n      <td>B04</td>\n      <td>840</td>\n      <td>HEPG2-01_1_B04_s1.jpeg</td>\n    </tr>\n    <tr>\n      <th>2</th>\n      <td>HEPG2-01_1_B05</td>\n      <td>HEPG2-01</td>\n      <td>1</td>\n      <td>B05</td>\n      <td>1020</td>\n      <td>HEPG2-01_1_B05_s1.jpeg</td>\n    </tr>\n    <tr>\n      <th>3</th>\n      <td>HEPG2-01_1_B06</td>\n      <td>HEPG2-01</td>\n      <td>1</td>\n      <td>B06</td>\n      <td>254</td>\n      <td>HEPG2-01_1_B06_s1.jpeg</td>\n    </tr>\n    <tr>\n      <th>4</th>\n      <td>HEPG2-01_1_B07</td>\n      <td>HEPG2-01</td>\n      <td>1</td>\n      <td>B07</td>\n      <td>144</td>\n      <td>HEPG2-01_1_B07_s1.jpeg</td>\n    </tr>\n  </tbody>\n</table>\n</div>"
     },
     "metadata": {},
     "execution_count": 51
    }
   ],
   "source": [
    "parsed_df.head()"
   ]
  },
  {
   "cell_type": "code",
   "execution_count": 52,
   "metadata": {},
   "outputs": [
    {
     "output_type": "execute_result",
     "data": {
      "text/plain": "          well_id experiment  plate well                filename  sirna_id\n0  HEPG2-08_1_B03   HEPG2-08      1  B03  HEPG2-08_1_B03_s1.jpeg       855\n2  HEPG2-08_1_B04   HEPG2-08      1  B04  HEPG2-08_1_B04_s1.jpeg       710\n4  HEPG2-08_1_B05   HEPG2-08      1  B05  HEPG2-08_1_B05_s1.jpeg       836\n6  HEPG2-08_1_B06   HEPG2-08      1  B06  HEPG2-08_1_B06_s1.jpeg       249\n8  HEPG2-08_1_B07   HEPG2-08      1  B07  HEPG2-08_1_B07_s1.jpeg       878",
      "text/html": "<div>\n<style scoped>\n    .dataframe tbody tr th:only-of-type {\n        vertical-align: middle;\n    }\n\n    .dataframe tbody tr th {\n        vertical-align: top;\n    }\n\n    .dataframe thead th {\n        text-align: right;\n    }\n</style>\n<table border=\"1\" class=\"dataframe\">\n  <thead>\n    <tr style=\"text-align: right;\">\n      <th></th>\n      <th>well_id</th>\n      <th>experiment</th>\n      <th>plate</th>\n      <th>well</th>\n      <th>filename</th>\n      <th>sirna_id</th>\n    </tr>\n  </thead>\n  <tbody>\n    <tr>\n      <th>0</th>\n      <td>HEPG2-08_1_B03</td>\n      <td>HEPG2-08</td>\n      <td>1</td>\n      <td>B03</td>\n      <td>HEPG2-08_1_B03_s1.jpeg</td>\n      <td>855</td>\n    </tr>\n    <tr>\n      <th>2</th>\n      <td>HEPG2-08_1_B04</td>\n      <td>HEPG2-08</td>\n      <td>1</td>\n      <td>B04</td>\n      <td>HEPG2-08_1_B04_s1.jpeg</td>\n      <td>710</td>\n    </tr>\n    <tr>\n      <th>4</th>\n      <td>HEPG2-08_1_B05</td>\n      <td>HEPG2-08</td>\n      <td>1</td>\n      <td>B05</td>\n      <td>HEPG2-08_1_B05_s1.jpeg</td>\n      <td>836</td>\n    </tr>\n    <tr>\n      <th>6</th>\n      <td>HEPG2-08_1_B06</td>\n      <td>HEPG2-08</td>\n      <td>1</td>\n      <td>B06</td>\n      <td>HEPG2-08_1_B06_s1.jpeg</td>\n      <td>249</td>\n    </tr>\n    <tr>\n      <th>8</th>\n      <td>HEPG2-08_1_B07</td>\n      <td>HEPG2-08</td>\n      <td>1</td>\n      <td>B07</td>\n      <td>HEPG2-08_1_B07_s1.jpeg</td>\n      <td>878</td>\n    </tr>\n  </tbody>\n</table>\n</div>"
     },
     "metadata": {},
     "execution_count": 52
    }
   ],
   "source": [
    "parsed_test_df.head()"
   ]
  },
  {
   "cell_type": "code",
   "execution_count": 53,
   "metadata": {},
   "outputs": [
    {
     "output_type": "execute_result",
     "data": {
      "text/plain": "            site_id         well_id cell_type dataset experiment  plate well  \\\n2  HEPG2-08_1_B03_1  HEPG2-08_1_B03     HEPG2    test   HEPG2-08      1  B03   \n3  HEPG2-08_1_B03_2  HEPG2-08_1_B03     HEPG2    test   HEPG2-08      1  B03   \n\n   site  well_type   sirna  sirna_id  \n2     1  treatment  s21721       855  \n3     2  treatment  s21721       855  ",
      "text/html": "<div>\n<style scoped>\n    .dataframe tbody tr th:only-of-type {\n        vertical-align: middle;\n    }\n\n    .dataframe tbody tr th {\n        vertical-align: top;\n    }\n\n    .dataframe thead th {\n        text-align: right;\n    }\n</style>\n<table border=\"1\" class=\"dataframe\">\n  <thead>\n    <tr style=\"text-align: right;\">\n      <th></th>\n      <th>site_id</th>\n      <th>well_id</th>\n      <th>cell_type</th>\n      <th>dataset</th>\n      <th>experiment</th>\n      <th>plate</th>\n      <th>well</th>\n      <th>site</th>\n      <th>well_type</th>\n      <th>sirna</th>\n      <th>sirna_id</th>\n    </tr>\n  </thead>\n  <tbody>\n    <tr>\n      <th>2</th>\n      <td>HEPG2-08_1_B03_1</td>\n      <td>HEPG2-08_1_B03</td>\n      <td>HEPG2</td>\n      <td>test</td>\n      <td>HEPG2-08</td>\n      <td>1</td>\n      <td>B03</td>\n      <td>1</td>\n      <td>treatment</td>\n      <td>s21721</td>\n      <td>855</td>\n    </tr>\n    <tr>\n      <th>3</th>\n      <td>HEPG2-08_1_B03_2</td>\n      <td>HEPG2-08_1_B03</td>\n      <td>HEPG2</td>\n      <td>test</td>\n      <td>HEPG2-08</td>\n      <td>1</td>\n      <td>B03</td>\n      <td>2</td>\n      <td>treatment</td>\n      <td>s21721</td>\n      <td>855</td>\n    </tr>\n  </tbody>\n</table>\n</div>"
     },
     "metadata": {},
     "execution_count": 53
    }
   ],
   "source": [
    "test_df[(test_df.sirna_id == 855) & (test_df.experiment == 'HEPG2-08')]"
   ]
  },
  {
   "cell_type": "code",
   "execution_count": 54,
   "metadata": {},
   "outputs": [],
   "source": [
    "# parsed_df.to_csv('data_files/train.csv')\n",
    "# parsed_test_df.to_csv('data_files/test.csv')"
   ]
  },
  {
   "cell_type": "markdown",
   "metadata": {},
   "source": [
    "# Check some images with the same labels"
   ]
  },
  {
   "cell_type": "code",
   "execution_count": 86,
   "metadata": {},
   "outputs": [
    {
     "output_type": "execute_result",
     "data": {
      "text/plain": "              id_code experiment  plate well  sirna                filename\n8599   HUVEC-01_4_B21   HUVEC-01      4  B21     18  HUVEC-01_4_B21_s1.jpeg\n9916   HUVEC-02_4_M16   HUVEC-02      4  M16     18  HUVEC-02_4_M16_s1.jpeg\n10997  HUVEC-03_4_L07   HUVEC-03      4  L07     18  HUVEC-03_4_L07_s1.jpeg\n12177  HUVEC-04_4_O19   HUVEC-04      4  O19     18  HUVEC-04_4_O19_s1.jpeg\n13209  HUVEC-05_4_L03   HUVEC-05      4  L03     18  HUVEC-05_4_L03_s1.jpeg\n14174  HUVEC-06_4_D19   HUVEC-06      4  D19     18  HUVEC-06_4_D19_s1.jpeg\n14752  HUVEC-07_2_E21   HUVEC-07      2  E21     18  HUVEC-07_2_E21_s1.jpeg\n16385  HUVEC-08_4_D15   HUVEC-08      4  D15     18  HUVEC-08_4_D15_s1.jpeg\n17299  HUVEC-09_3_H21   HUVEC-09      3  H21     18  HUVEC-09_3_H21_s1.jpeg\n18332  HUVEC-10_3_D23   HUVEC-10      3  D23     18  HUVEC-10_3_D23_s1.jpeg",
      "text/html": "<div>\n<style scoped>\n    .dataframe tbody tr th:only-of-type {\n        vertical-align: middle;\n    }\n\n    .dataframe tbody tr th {\n        vertical-align: top;\n    }\n\n    .dataframe thead th {\n        text-align: right;\n    }\n</style>\n<table border=\"1\" class=\"dataframe\">\n  <thead>\n    <tr style=\"text-align: right;\">\n      <th></th>\n      <th>id_code</th>\n      <th>experiment</th>\n      <th>plate</th>\n      <th>well</th>\n      <th>sirna</th>\n      <th>filename</th>\n    </tr>\n  </thead>\n  <tbody>\n    <tr>\n      <th>8599</th>\n      <td>HUVEC-01_4_B21</td>\n      <td>HUVEC-01</td>\n      <td>4</td>\n      <td>B21</td>\n      <td>18</td>\n      <td>HUVEC-01_4_B21_s1.jpeg</td>\n    </tr>\n    <tr>\n      <th>9916</th>\n      <td>HUVEC-02_4_M16</td>\n      <td>HUVEC-02</td>\n      <td>4</td>\n      <td>M16</td>\n      <td>18</td>\n      <td>HUVEC-02_4_M16_s1.jpeg</td>\n    </tr>\n    <tr>\n      <th>10997</th>\n      <td>HUVEC-03_4_L07</td>\n      <td>HUVEC-03</td>\n      <td>4</td>\n      <td>L07</td>\n      <td>18</td>\n      <td>HUVEC-03_4_L07_s1.jpeg</td>\n    </tr>\n    <tr>\n      <th>12177</th>\n      <td>HUVEC-04_4_O19</td>\n      <td>HUVEC-04</td>\n      <td>4</td>\n      <td>O19</td>\n      <td>18</td>\n      <td>HUVEC-04_4_O19_s1.jpeg</td>\n    </tr>\n    <tr>\n      <th>13209</th>\n      <td>HUVEC-05_4_L03</td>\n      <td>HUVEC-05</td>\n      <td>4</td>\n      <td>L03</td>\n      <td>18</td>\n      <td>HUVEC-05_4_L03_s1.jpeg</td>\n    </tr>\n    <tr>\n      <th>14174</th>\n      <td>HUVEC-06_4_D19</td>\n      <td>HUVEC-06</td>\n      <td>4</td>\n      <td>D19</td>\n      <td>18</td>\n      <td>HUVEC-06_4_D19_s1.jpeg</td>\n    </tr>\n    <tr>\n      <th>14752</th>\n      <td>HUVEC-07_2_E21</td>\n      <td>HUVEC-07</td>\n      <td>2</td>\n      <td>E21</td>\n      <td>18</td>\n      <td>HUVEC-07_2_E21_s1.jpeg</td>\n    </tr>\n    <tr>\n      <th>16385</th>\n      <td>HUVEC-08_4_D15</td>\n      <td>HUVEC-08</td>\n      <td>4</td>\n      <td>D15</td>\n      <td>18</td>\n      <td>HUVEC-08_4_D15_s1.jpeg</td>\n    </tr>\n    <tr>\n      <th>17299</th>\n      <td>HUVEC-09_3_H21</td>\n      <td>HUVEC-09</td>\n      <td>3</td>\n      <td>H21</td>\n      <td>18</td>\n      <td>HUVEC-09_3_H21_s1.jpeg</td>\n    </tr>\n    <tr>\n      <th>18332</th>\n      <td>HUVEC-10_3_D23</td>\n      <td>HUVEC-10</td>\n      <td>3</td>\n      <td>D23</td>\n      <td>18</td>\n      <td>HUVEC-10_3_D23_s1.jpeg</td>\n    </tr>\n  </tbody>\n</table>\n</div>"
     },
     "metadata": {},
     "execution_count": 86
    }
   ],
   "source": [
    "view_df = parsed_df[(parsed_df.sirna == 18) & (parsed_df.experiment.str.contains('HUVEC'))].iloc[:10].copy()\n",
    "view_df"
   ]
  },
  {
   "cell_type": "code",
   "execution_count": 87,
   "metadata": {},
   "outputs": [],
   "source": [
    "view_df['filepath'] = 'data_files/train/' + view_df.filename"
   ]
  },
  {
   "cell_type": "code",
   "execution_count": 88,
   "metadata": {},
   "outputs": [
    {
     "output_type": "execute_result",
     "data": {
      "image/jpeg": "[encoded data removed]",
      "text/plain": "<IPython.core.display.Image object>"
     },
     "metadata": {},
     "execution_count": 88
    }
   ],
   "source": [
    "Image(view_df.filepath.iloc[0])"
   ]
  },
  {
   "cell_type": "code",
   "execution_count": 89,
   "metadata": {},
   "outputs": [
    {
     "output_type": "execute_result",
     "data": {
      "image/jpeg": "[encoded data removed]",
      "text/plain": "<IPython.core.display.Image object>"
     },
     "metadata": {},
     "execution_count": 89
    }
   ],
   "source": [
    "Image(view_df.filepath.iloc[1])"
   ]
  },
  {
   "cell_type": "code",
   "execution_count": 90,
   "metadata": {},
   "outputs": [
    {
     "output_type": "execute_result",
     "data": {
      "image/jpeg": "[encoded data removed]",
      "text/plain": "<IPython.core.display.Image object>"
     },
     "metadata": {},
     "execution_count": 90
    }
   ],
   "source": [
    "Image(view_df.filepath.iloc[2])"
   ]
  },
  {
   "cell_type": "code",
   "execution_count": 91,
   "metadata": {},
   "outputs": [
    {
     "output_type": "execute_result",
     "data": {
      "image/jpeg": "[encoded data removed]",
      "text/plain": "<IPython.core.display.Image object>"
     },
     "metadata": {},
     "execution_count": 91
    }
   ],
   "source": [
    "Image(view_df.filepath.iloc[3])"
   ]
  },
  {
   "cell_type": "code",
   "execution_count": 92,
   "metadata": {},
   "outputs": [
    {
     "output_type": "execute_result",
     "data": {
      "image/jpeg": "[encoded data removed]",
      "text/plain": "<IPython.core.display.Image object>"
     },
     "metadata": {},
     "execution_count": 92
    }
   ],
   "source": [
    "Image(view_df.filepath.iloc[4])"
   ]
  },
  {
   "cell_type": "code",
   "execution_count": 93,
   "metadata": {},
   "outputs": [
    {
     "output_type": "execute_result",
     "data": {
      "image/jpeg": "[encoded data removed]",
      "text/plain": "<IPython.core.display.Image object>"
     },
     "metadata": {},
     "execution_count": 93
    }
   ],
   "source": [
    "Image(view_df.filepath.iloc[5])"
   ]
  },
  {
   "cell_type": "code",
   "execution_count": 94,
   "metadata": {},
   "outputs": [
    {
     "output_type": "execute_result",
     "data": {
      "image/jpeg": "[encoded data removed]",
      "text/plain": "<IPython.core.display.Image object>"
     },
     "metadata": {},
     "execution_count": 94
    }
   ],
   "source": [
    "Image(view_df.filepath.iloc[-1])"
   ]
  },
  {
   "cell_type": "code",
   "execution_count": 95,
   "metadata": {},
   "outputs": [
    {
     "output_type": "execute_result",
     "data": {
      "image/jpeg": "[encoded data removed]",
      "text/plain": "<IPython.core.display.Image object>"
     },
     "metadata": {},
     "execution_count": 95
    }
   ],
   "source": [
    "Image(view_df.filepath.iloc[-2])"
   ]
  }
 ],
 "metadata": {
  "language_info": {
   "codemirror_mode": {
    "name": "ipython",
    "version": 3
   },
   "file_extension": ".py",
   "mimetype": "text/x-python",
   "name": "python",
   "nbconvert_exporter": "python",
   "pygments_lexer": "ipython3",
   "version": "3.8.2-final"
  },
  "orig_nbformat": 2,
  "kernelspec": {
   "name": "python38264bit0c31753cb4904f759510df829f98c315",
   "display_name": "Python 3.8.2 64-bit"
  }
 },
 "nbformat": 4,
 "nbformat_minor": 2
}