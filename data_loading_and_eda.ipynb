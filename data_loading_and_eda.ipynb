{
 "cells": [
  {
   "cell_type": "markdown",
   "metadata": {},
   "source": [
    "# Setup"
   ]
  },
  {
   "cell_type": "markdown",
   "metadata": {},
   "source": [
    "## Import packages"
   ]
  },
  {
   "cell_type": "code",
   "execution_count": 274,
   "metadata": {},
   "outputs": [],
   "source": [
    "import pandas as pd\n",
    "import numpy as np\n",
    "import json \n",
    "import sys\n",
    "import os"
   ]
  },
  {
   "cell_type": "markdown",
   "metadata": {},
   "source": [
    "### Supporting packages"
   ]
  },
  {
   "cell_type": "code",
   "execution_count": null,
   "metadata": {},
   "outputs": [],
   "source": []
  },
  {
   "cell_type": "markdown",
   "metadata": {},
   "source": [
    "## Version check"
   ]
  },
  {
   "cell_type": "code",
   "execution_count": 275,
   "metadata": {},
   "outputs": [
    {
     "output_type": "stream",
     "name": "stdout",
     "text": "Python: 3.8.2 (default, Apr 27 2020, 15:53:34) \n[GCC 9.3.0]\npandas: 1.0.3\nNumPy: 1.18.3\n"
    }
   ],
   "source": [
    "print('Python: {}'.format(sys.version))\n",
    "print('pandas: {}'.format(pd.__version__))\n",
    "print('NumPy: {}'.format(np.__version__))"
   ]
  },
  {
   "cell_type": "markdown",
   "metadata": {},
   "source": [
    "# Import and check data"
   ]
  },
  {
   "cell_type": "code",
   "execution_count": 276,
   "metadata": {},
   "outputs": [
    {
     "output_type": "execute_result",
     "data": {
      "text/plain": "            site_id         well_id cell_type dataset experiment  plate well  \\\n0  HEPG2-08_1_B02_1  HEPG2-08_1_B02     HEPG2    test   HEPG2-08      1  B02   \n1  HEPG2-08_1_B02_2  HEPG2-08_1_B02     HEPG2    test   HEPG2-08      1  B02   \n2  HEPG2-08_1_B03_1  HEPG2-08_1_B03     HEPG2    test   HEPG2-08      1  B03   \n3  HEPG2-08_1_B03_2  HEPG2-08_1_B03     HEPG2    test   HEPG2-08      1  B03   \n4  HEPG2-08_1_B04_1  HEPG2-08_1_B04     HEPG2    test   HEPG2-08      1  B04   \n5  HEPG2-08_1_B04_2  HEPG2-08_1_B04     HEPG2    test   HEPG2-08      1  B04   \n6  HEPG2-08_1_B05_1  HEPG2-08_1_B05     HEPG2    test   HEPG2-08      1  B05   \n7  HEPG2-08_1_B05_2  HEPG2-08_1_B05     HEPG2    test   HEPG2-08      1  B05   \n8  HEPG2-08_1_B06_1  HEPG2-08_1_B06     HEPG2    test   HEPG2-08      1  B06   \n9  HEPG2-08_1_B06_2  HEPG2-08_1_B06     HEPG2    test   HEPG2-08      1  B06   \n\n   site         well_type   sirna  sirna_id  \n0     1  negative_control   EMPTY      1138  \n1     2  negative_control   EMPTY      1138  \n2     1         treatment  s21721       855  \n3     2         treatment  s21721       855  \n4     1         treatment  s20894       710  \n5     2         treatment  s20894       710  \n6     1         treatment  s19827       836  \n7     2         treatment  s19827       836  \n8     1         treatment  s19792       249  \n9     2         treatment  s19792       249  ",
      "text/html": "<div>\n<style scoped>\n    .dataframe tbody tr th:only-of-type {\n        vertical-align: middle;\n    }\n\n    .dataframe tbody tr th {\n        vertical-align: top;\n    }\n\n    .dataframe thead th {\n        text-align: right;\n    }\n</style>\n<table border=\"1\" class=\"dataframe\">\n  <thead>\n    <tr style=\"text-align: right;\">\n      <th></th>\n      <th>site_id</th>\n      <th>well_id</th>\n      <th>cell_type</th>\n      <th>dataset</th>\n      <th>experiment</th>\n      <th>plate</th>\n      <th>well</th>\n      <th>site</th>\n      <th>well_type</th>\n      <th>sirna</th>\n      <th>sirna_id</th>\n    </tr>\n  </thead>\n  <tbody>\n    <tr>\n      <th>0</th>\n      <td>HEPG2-08_1_B02_1</td>\n      <td>HEPG2-08_1_B02</td>\n      <td>HEPG2</td>\n      <td>test</td>\n      <td>HEPG2-08</td>\n      <td>1</td>\n      <td>B02</td>\n      <td>1</td>\n      <td>negative_control</td>\n      <td>EMPTY</td>\n      <td>1138</td>\n    </tr>\n    <tr>\n      <th>1</th>\n      <td>HEPG2-08_1_B02_2</td>\n      <td>HEPG2-08_1_B02</td>\n      <td>HEPG2</td>\n      <td>test</td>\n      <td>HEPG2-08</td>\n      <td>1</td>\n      <td>B02</td>\n      <td>2</td>\n      <td>negative_control</td>\n      <td>EMPTY</td>\n      <td>1138</td>\n    </tr>\n    <tr>\n      <th>2</th>\n      <td>HEPG2-08_1_B03_1</td>\n      <td>HEPG2-08_1_B03</td>\n      <td>HEPG2</td>\n      <td>test</td>\n      <td>HEPG2-08</td>\n      <td>1</td>\n      <td>B03</td>\n      <td>1</td>\n      <td>treatment</td>\n      <td>s21721</td>\n      <td>855</td>\n    </tr>\n    <tr>\n      <th>3</th>\n      <td>HEPG2-08_1_B03_2</td>\n      <td>HEPG2-08_1_B03</td>\n      <td>HEPG2</td>\n      <td>test</td>\n      <td>HEPG2-08</td>\n      <td>1</td>\n      <td>B03</td>\n      <td>2</td>\n      <td>treatment</td>\n      <td>s21721</td>\n      <td>855</td>\n    </tr>\n    <tr>\n      <th>4</th>\n      <td>HEPG2-08_1_B04_1</td>\n      <td>HEPG2-08_1_B04</td>\n      <td>HEPG2</td>\n      <td>test</td>\n      <td>HEPG2-08</td>\n      <td>1</td>\n      <td>B04</td>\n      <td>1</td>\n      <td>treatment</td>\n      <td>s20894</td>\n      <td>710</td>\n    </tr>\n    <tr>\n      <th>5</th>\n      <td>HEPG2-08_1_B04_2</td>\n      <td>HEPG2-08_1_B04</td>\n      <td>HEPG2</td>\n      <td>test</td>\n      <td>HEPG2-08</td>\n      <td>1</td>\n      <td>B04</td>\n      <td>2</td>\n      <td>treatment</td>\n      <td>s20894</td>\n      <td>710</td>\n    </tr>\n    <tr>\n      <th>6</th>\n      <td>HEPG2-08_1_B05_1</td>\n      <td>HEPG2-08_1_B05</td>\n      <td>HEPG2</td>\n      <td>test</td>\n      <td>HEPG2-08</td>\n      <td>1</td>\n      <td>B05</td>\n      <td>1</td>\n      <td>treatment</td>\n      <td>s19827</td>\n      <td>836</td>\n    </tr>\n    <tr>\n      <th>7</th>\n      <td>HEPG2-08_1_B05_2</td>\n      <td>HEPG2-08_1_B05</td>\n      <td>HEPG2</td>\n      <td>test</td>\n      <td>HEPG2-08</td>\n      <td>1</td>\n      <td>B05</td>\n      <td>2</td>\n      <td>treatment</td>\n      <td>s19827</td>\n      <td>836</td>\n    </tr>\n    <tr>\n      <th>8</th>\n      <td>HEPG2-08_1_B06_1</td>\n      <td>HEPG2-08_1_B06</td>\n      <td>HEPG2</td>\n      <td>test</td>\n      <td>HEPG2-08</td>\n      <td>1</td>\n      <td>B06</td>\n      <td>1</td>\n      <td>treatment</td>\n      <td>s19792</td>\n      <td>249</td>\n    </tr>\n    <tr>\n      <th>9</th>\n      <td>HEPG2-08_1_B06_2</td>\n      <td>HEPG2-08_1_B06</td>\n      <td>HEPG2</td>\n      <td>test</td>\n      <td>HEPG2-08</td>\n      <td>1</td>\n      <td>B06</td>\n      <td>2</td>\n      <td>treatment</td>\n      <td>s19792</td>\n      <td>249</td>\n    </tr>\n  </tbody>\n</table>\n</div>"
     },
     "metadata": {},
     "execution_count": 276
    }
   ],
   "source": [
    "full_metadata_path = 'rxrx1/rxrx1.csv'\n",
    "full_meta_df = pd.read_csv(full_metadata_path)\n",
    "full_meta_df.head(n=10)"
   ]
  },
  {
   "cell_type": "code",
   "execution_count": 277,
   "metadata": {},
   "outputs": [
    {
     "output_type": "execute_result",
     "data": {
      "text/plain": "                site_id        well_id cell_type dataset experiment  plate  \\\n125500  U2OS-03_4_O19_1  U2OS-03_4_O19      U2OS   train    U2OS-03      4   \n125501  U2OS-03_4_O19_2  U2OS-03_4_O19      U2OS   train    U2OS-03      4   \n125502  U2OS-03_4_O20_1  U2OS-03_4_O20      U2OS   train    U2OS-03      4   \n125503  U2OS-03_4_O20_2  U2OS-03_4_O20      U2OS   train    U2OS-03      4   \n125504  U2OS-03_4_O21_1  U2OS-03_4_O21      U2OS   train    U2OS-03      4   \n125505  U2OS-03_4_O21_2  U2OS-03_4_O21      U2OS   train    U2OS-03      4   \n125506  U2OS-03_4_O22_1  U2OS-03_4_O22      U2OS   train    U2OS-03      4   \n125507  U2OS-03_4_O22_2  U2OS-03_4_O22      U2OS   train    U2OS-03      4   \n125508  U2OS-03_4_O23_1  U2OS-03_4_O23      U2OS   train    U2OS-03      4   \n125509  U2OS-03_4_O23_2  U2OS-03_4_O23      U2OS   train    U2OS-03      4   \n\n       well  site  well_type    sirna  sirna_id  \n125500  O19     1  treatment  s223106       103  \n125501  O19     2  treatment  s223106       103  \n125502  O20     1  treatment  s223144       202  \n125503  O20     2  treatment  s223144       202  \n125504  O21     1  treatment   s20367       824  \n125505  O21     2  treatment   s20367       824  \n125506  O22     1  treatment  s195079       328  \n125507  O22     2  treatment  s195079       328  \n125508  O23     1  treatment   s21454       509  \n125509  O23     2  treatment   s21454       509  ",
      "text/html": "<div>\n<style scoped>\n    .dataframe tbody tr th:only-of-type {\n        vertical-align: middle;\n    }\n\n    .dataframe tbody tr th {\n        vertical-align: top;\n    }\n\n    .dataframe thead th {\n        text-align: right;\n    }\n</style>\n<table border=\"1\" class=\"dataframe\">\n  <thead>\n    <tr style=\"text-align: right;\">\n      <th></th>\n      <th>site_id</th>\n      <th>well_id</th>\n      <th>cell_type</th>\n      <th>dataset</th>\n      <th>experiment</th>\n      <th>plate</th>\n      <th>well</th>\n      <th>site</th>\n      <th>well_type</th>\n      <th>sirna</th>\n      <th>sirna_id</th>\n    </tr>\n  </thead>\n  <tbody>\n    <tr>\n      <th>125500</th>\n      <td>U2OS-03_4_O19_1</td>\n      <td>U2OS-03_4_O19</td>\n      <td>U2OS</td>\n      <td>train</td>\n      <td>U2OS-03</td>\n      <td>4</td>\n      <td>O19</td>\n      <td>1</td>\n      <td>treatment</td>\n      <td>s223106</td>\n      <td>103</td>\n    </tr>\n    <tr>\n      <th>125501</th>\n      <td>U2OS-03_4_O19_2</td>\n      <td>U2OS-03_4_O19</td>\n      <td>U2OS</td>\n      <td>train</td>\n      <td>U2OS-03</td>\n      <td>4</td>\n      <td>O19</td>\n      <td>2</td>\n      <td>treatment</td>\n      <td>s223106</td>\n      <td>103</td>\n    </tr>\n    <tr>\n      <th>125502</th>\n      <td>U2OS-03_4_O20_1</td>\n      <td>U2OS-03_4_O20</td>\n      <td>U2OS</td>\n      <td>train</td>\n      <td>U2OS-03</td>\n      <td>4</td>\n      <td>O20</td>\n      <td>1</td>\n      <td>treatment</td>\n      <td>s223144</td>\n      <td>202</td>\n    </tr>\n    <tr>\n      <th>125503</th>\n      <td>U2OS-03_4_O20_2</td>\n      <td>U2OS-03_4_O20</td>\n      <td>U2OS</td>\n      <td>train</td>\n      <td>U2OS-03</td>\n      <td>4</td>\n      <td>O20</td>\n      <td>2</td>\n      <td>treatment</td>\n      <td>s223144</td>\n      <td>202</td>\n    </tr>\n    <tr>\n      <th>125504</th>\n      <td>U2OS-03_4_O21_1</td>\n      <td>U2OS-03_4_O21</td>\n      <td>U2OS</td>\n      <td>train</td>\n      <td>U2OS-03</td>\n      <td>4</td>\n      <td>O21</td>\n      <td>1</td>\n      <td>treatment</td>\n      <td>s20367</td>\n      <td>824</td>\n    </tr>\n    <tr>\n      <th>125505</th>\n      <td>U2OS-03_4_O21_2</td>\n      <td>U2OS-03_4_O21</td>\n      <td>U2OS</td>\n      <td>train</td>\n      <td>U2OS-03</td>\n      <td>4</td>\n      <td>O21</td>\n      <td>2</td>\n      <td>treatment</td>\n      <td>s20367</td>\n      <td>824</td>\n    </tr>\n    <tr>\n      <th>125506</th>\n      <td>U2OS-03_4_O22_1</td>\n      <td>U2OS-03_4_O22</td>\n      <td>U2OS</td>\n      <td>train</td>\n      <td>U2OS-03</td>\n      <td>4</td>\n      <td>O22</td>\n      <td>1</td>\n      <td>treatment</td>\n      <td>s195079</td>\n      <td>328</td>\n    </tr>\n    <tr>\n      <th>125507</th>\n      <td>U2OS-03_4_O22_2</td>\n      <td>U2OS-03_4_O22</td>\n      <td>U2OS</td>\n      <td>train</td>\n      <td>U2OS-03</td>\n      <td>4</td>\n      <td>O22</td>\n      <td>2</td>\n      <td>treatment</td>\n      <td>s195079</td>\n      <td>328</td>\n    </tr>\n    <tr>\n      <th>125508</th>\n      <td>U2OS-03_4_O23_1</td>\n      <td>U2OS-03_4_O23</td>\n      <td>U2OS</td>\n      <td>train</td>\n      <td>U2OS-03</td>\n      <td>4</td>\n      <td>O23</td>\n      <td>1</td>\n      <td>treatment</td>\n      <td>s21454</td>\n      <td>509</td>\n    </tr>\n    <tr>\n      <th>125509</th>\n      <td>U2OS-03_4_O23_2</td>\n      <td>U2OS-03_4_O23</td>\n      <td>U2OS</td>\n      <td>train</td>\n      <td>U2OS-03</td>\n      <td>4</td>\n      <td>O23</td>\n      <td>2</td>\n      <td>treatment</td>\n      <td>s21454</td>\n      <td>509</td>\n    </tr>\n  </tbody>\n</table>\n</div>"
     },
     "metadata": {},
     "execution_count": 277
    }
   ],
   "source": [
    "full_meta_df.tail(n=10)"
   ]
  },
  {
   "cell_type": "code",
   "execution_count": 278,
   "metadata": {},
   "outputs": [
    {
     "output_type": "execute_result",
     "data": {
      "text/plain": "1139"
     },
     "metadata": {},
     "execution_count": 278
    }
   ],
   "source": [
    "len(full_meta_df.sirna.unique())"
   ]
  },
  {
   "cell_type": "code",
   "execution_count": 279,
   "metadata": {},
   "outputs": [
    {
     "output_type": "execute_result",
     "data": {
      "text/plain": "                 site_id         well_id cell_type dataset experiment  plate  \\\n0       HEPG2-08_1_B02_1  HEPG2-08_1_B02     HEPG2    test   HEPG2-08      1   \n1       HEPG2-08_1_B02_2  HEPG2-08_1_B02     HEPG2    test   HEPG2-08      1   \n616     HEPG2-08_2_B02_1  HEPG2-08_2_B02     HEPG2    test   HEPG2-08      2   \n617     HEPG2-08_2_B02_2  HEPG2-08_2_B02     HEPG2    test   HEPG2-08      2   \n1232    HEPG2-08_3_B02_1  HEPG2-08_3_B02     HEPG2    test   HEPG2-08      3   \n...                  ...             ...       ...     ...        ...    ...   \n123663   U2OS-03_2_B02_2   U2OS-03_2_B02      U2OS   train    U2OS-03      2   \n124278   U2OS-03_3_B02_1   U2OS-03_3_B02      U2OS   train    U2OS-03      3   \n124279   U2OS-03_3_B02_2   U2OS-03_3_B02      U2OS   train    U2OS-03      3   \n124894   U2OS-03_4_B02_1   U2OS-03_4_B02      U2OS   train    U2OS-03      4   \n124895   U2OS-03_4_B02_2   U2OS-03_4_B02      U2OS   train    U2OS-03      4   \n\n       well  site         well_type  sirna  sirna_id  \n0       B02     1  negative_control  EMPTY      1138  \n1       B02     2  negative_control  EMPTY      1138  \n616     B02     1  negative_control  EMPTY      1138  \n617     B02     2  negative_control  EMPTY      1138  \n1232    B02     1  negative_control  EMPTY      1138  \n...     ...   ...               ...    ...       ...  \n123663  B02     2  negative_control  EMPTY      1138  \n124278  B02     1  negative_control  EMPTY      1138  \n124279  B02     2  negative_control  EMPTY      1138  \n124894  B02     1  negative_control  EMPTY      1138  \n124895  B02     2  negative_control  EMPTY      1138  \n\n[492 rows x 11 columns]",
      "text/html": "<div>\n<style scoped>\n    .dataframe tbody tr th:only-of-type {\n        vertical-align: middle;\n    }\n\n    .dataframe tbody tr th {\n        vertical-align: top;\n    }\n\n    .dataframe thead th {\n        text-align: right;\n    }\n</style>\n<table border=\"1\" class=\"dataframe\">\n  <thead>\n    <tr style=\"text-align: right;\">\n      <th></th>\n      <th>site_id</th>\n      <th>well_id</th>\n      <th>cell_type</th>\n      <th>dataset</th>\n      <th>experiment</th>\n      <th>plate</th>\n      <th>well</th>\n      <th>site</th>\n      <th>well_type</th>\n      <th>sirna</th>\n      <th>sirna_id</th>\n    </tr>\n  </thead>\n  <tbody>\n    <tr>\n      <th>0</th>\n      <td>HEPG2-08_1_B02_1</td>\n      <td>HEPG2-08_1_B02</td>\n      <td>HEPG2</td>\n      <td>test</td>\n      <td>HEPG2-08</td>\n      <td>1</td>\n      <td>B02</td>\n      <td>1</td>\n      <td>negative_control</td>\n      <td>EMPTY</td>\n      <td>1138</td>\n    </tr>\n    <tr>\n      <th>1</th>\n      <td>HEPG2-08_1_B02_2</td>\n      <td>HEPG2-08_1_B02</td>\n      <td>HEPG2</td>\n      <td>test</td>\n      <td>HEPG2-08</td>\n      <td>1</td>\n      <td>B02</td>\n      <td>2</td>\n      <td>negative_control</td>\n      <td>EMPTY</td>\n      <td>1138</td>\n    </tr>\n    <tr>\n      <th>616</th>\n      <td>HEPG2-08_2_B02_1</td>\n      <td>HEPG2-08_2_B02</td>\n      <td>HEPG2</td>\n      <td>test</td>\n      <td>HEPG2-08</td>\n      <td>2</td>\n      <td>B02</td>\n      <td>1</td>\n      <td>negative_control</td>\n      <td>EMPTY</td>\n      <td>1138</td>\n    </tr>\n    <tr>\n      <th>617</th>\n      <td>HEPG2-08_2_B02_2</td>\n      <td>HEPG2-08_2_B02</td>\n      <td>HEPG2</td>\n      <td>test</td>\n      <td>HEPG2-08</td>\n      <td>2</td>\n      <td>B02</td>\n      <td>2</td>\n      <td>negative_control</td>\n      <td>EMPTY</td>\n      <td>1138</td>\n    </tr>\n    <tr>\n      <th>1232</th>\n      <td>HEPG2-08_3_B02_1</td>\n      <td>HEPG2-08_3_B02</td>\n      <td>HEPG2</td>\n      <td>test</td>\n      <td>HEPG2-08</td>\n      <td>3</td>\n      <td>B02</td>\n      <td>1</td>\n      <td>negative_control</td>\n      <td>EMPTY</td>\n      <td>1138</td>\n    </tr>\n    <tr>\n      <th>...</th>\n      <td>...</td>\n      <td>...</td>\n      <td>...</td>\n      <td>...</td>\n      <td>...</td>\n      <td>...</td>\n      <td>...</td>\n      <td>...</td>\n      <td>...</td>\n      <td>...</td>\n      <td>...</td>\n    </tr>\n    <tr>\n      <th>123663</th>\n      <td>U2OS-03_2_B02_2</td>\n      <td>U2OS-03_2_B02</td>\n      <td>U2OS</td>\n      <td>train</td>\n      <td>U2OS-03</td>\n      <td>2</td>\n      <td>B02</td>\n      <td>2</td>\n      <td>negative_control</td>\n      <td>EMPTY</td>\n      <td>1138</td>\n    </tr>\n    <tr>\n      <th>124278</th>\n      <td>U2OS-03_3_B02_1</td>\n      <td>U2OS-03_3_B02</td>\n      <td>U2OS</td>\n      <td>train</td>\n      <td>U2OS-03</td>\n      <td>3</td>\n      <td>B02</td>\n      <td>1</td>\n      <td>negative_control</td>\n      <td>EMPTY</td>\n      <td>1138</td>\n    </tr>\n    <tr>\n      <th>124279</th>\n      <td>U2OS-03_3_B02_2</td>\n      <td>U2OS-03_3_B02</td>\n      <td>U2OS</td>\n      <td>train</td>\n      <td>U2OS-03</td>\n      <td>3</td>\n      <td>B02</td>\n      <td>2</td>\n      <td>negative_control</td>\n      <td>EMPTY</td>\n      <td>1138</td>\n    </tr>\n    <tr>\n      <th>124894</th>\n      <td>U2OS-03_4_B02_1</td>\n      <td>U2OS-03_4_B02</td>\n      <td>U2OS</td>\n      <td>train</td>\n      <td>U2OS-03</td>\n      <td>4</td>\n      <td>B02</td>\n      <td>1</td>\n      <td>negative_control</td>\n      <td>EMPTY</td>\n      <td>1138</td>\n    </tr>\n    <tr>\n      <th>124895</th>\n      <td>U2OS-03_4_B02_2</td>\n      <td>U2OS-03_4_B02</td>\n      <td>U2OS</td>\n      <td>train</td>\n      <td>U2OS-03</td>\n      <td>4</td>\n      <td>B02</td>\n      <td>2</td>\n      <td>negative_control</td>\n      <td>EMPTY</td>\n      <td>1138</td>\n    </tr>\n  </tbody>\n</table>\n<p>492 rows × 11 columns</p>\n</div>"
     },
     "metadata": {},
     "execution_count": 279
    }
   ],
   "source": [
    "full_meta_df[full_meta_df.sirna_id == 1138]"
   ]
  },
  {
   "cell_type": "code",
   "execution_count": 280,
   "metadata": {},
   "outputs": [
    {
     "output_type": "execute_result",
     "data": {
      "text/plain": "1139"
     },
     "metadata": {},
     "execution_count": 280
    }
   ],
   "source": [
    "len(full_meta_df.sirna_id.unique())"
   ]
  },
  {
   "cell_type": "code",
   "execution_count": 281,
   "metadata": {},
   "outputs": [
    {
     "output_type": "execute_result",
     "data": {
      "text/plain": "3"
     },
     "metadata": {},
     "execution_count": 281
    }
   ],
   "source": [
    "len(full_meta_df.well_type.unique())"
   ]
  },
  {
   "cell_type": "code",
   "execution_count": 282,
   "metadata": {},
   "outputs": [
    {
     "output_type": "execute_result",
     "data": {
      "text/plain": "array(['negative_control', 'treatment', 'positive_control'], dtype=object)"
     },
     "metadata": {},
     "execution_count": 282
    }
   ],
   "source": [
    "full_meta_df.well_type.unique()"
   ]
  },
  {
   "cell_type": "code",
   "execution_count": 283,
   "metadata": {},
   "outputs": [
    {
     "output_type": "execute_result",
     "data": {
      "text/plain": "          id_code experiment  plate well  sirna                filename\n0  HEPG2-01_1_B03   HEPG2-01      1  B03    513  HEPG2-01_1_B03_s1.jpeg\n1  HEPG2-01_1_B04   HEPG2-01      1  B04    840  HEPG2-01_1_B04_s1.jpeg\n2  HEPG2-01_1_B05   HEPG2-01      1  B05   1020  HEPG2-01_1_B05_s1.jpeg\n3  HEPG2-01_1_B06   HEPG2-01      1  B06    254  HEPG2-01_1_B06_s1.jpeg\n4  HEPG2-01_1_B07   HEPG2-01      1  B07    144  HEPG2-01_1_B07_s1.jpeg",
      "text/html": "<div>\n<style scoped>\n    .dataframe tbody tr th:only-of-type {\n        vertical-align: middle;\n    }\n\n    .dataframe tbody tr th {\n        vertical-align: top;\n    }\n\n    .dataframe thead th {\n        text-align: right;\n    }\n</style>\n<table border=\"1\" class=\"dataframe\">\n  <thead>\n    <tr style=\"text-align: right;\">\n      <th></th>\n      <th>id_code</th>\n      <th>experiment</th>\n      <th>plate</th>\n      <th>well</th>\n      <th>sirna</th>\n      <th>filename</th>\n    </tr>\n  </thead>\n  <tbody>\n    <tr>\n      <th>0</th>\n      <td>HEPG2-01_1_B03</td>\n      <td>HEPG2-01</td>\n      <td>1</td>\n      <td>B03</td>\n      <td>513</td>\n      <td>HEPG2-01_1_B03_s1.jpeg</td>\n    </tr>\n    <tr>\n      <th>1</th>\n      <td>HEPG2-01_1_B04</td>\n      <td>HEPG2-01</td>\n      <td>1</td>\n      <td>B04</td>\n      <td>840</td>\n      <td>HEPG2-01_1_B04_s1.jpeg</td>\n    </tr>\n    <tr>\n      <th>2</th>\n      <td>HEPG2-01_1_B05</td>\n      <td>HEPG2-01</td>\n      <td>1</td>\n      <td>B05</td>\n      <td>1020</td>\n      <td>HEPG2-01_1_B05_s1.jpeg</td>\n    </tr>\n    <tr>\n      <th>3</th>\n      <td>HEPG2-01_1_B06</td>\n      <td>HEPG2-01</td>\n      <td>1</td>\n      <td>B06</td>\n      <td>254</td>\n      <td>HEPG2-01_1_B06_s1.jpeg</td>\n    </tr>\n    <tr>\n      <th>4</th>\n      <td>HEPG2-01_1_B07</td>\n      <td>HEPG2-01</td>\n      <td>1</td>\n      <td>B07</td>\n      <td>144</td>\n      <td>HEPG2-01_1_B07_s1.jpeg</td>\n    </tr>\n  </tbody>\n</table>\n</div>"
     },
     "metadata": {},
     "execution_count": 283
    }
   ],
   "source": [
    "parsed_df = pd.read_csv('parsed_data_files/new_train.csv')\n",
    "parsed_df.head()"
   ]
  },
  {
   "cell_type": "code",
   "execution_count": 284,
   "metadata": {},
   "outputs": [
    {
     "output_type": "execute_result",
     "data": {
      "text/plain": "          id_code experiment  plate well                filename\n0  HEPG2-08_1_B03   HEPG2-08      1  B03  HEPG2-08_1_B03_s1.jpeg\n1  HEPG2-08_1_B04   HEPG2-08      1  B04  HEPG2-08_1_B04_s1.jpeg\n2  HEPG2-08_1_B05   HEPG2-08      1  B05  HEPG2-08_1_B05_s1.jpeg\n3  HEPG2-08_1_B06   HEPG2-08      1  B06  HEPG2-08_1_B06_s1.jpeg\n4  HEPG2-08_1_B07   HEPG2-08      1  B07  HEPG2-08_1_B07_s1.jpeg",
      "text/html": "<div>\n<style scoped>\n    .dataframe tbody tr th:only-of-type {\n        vertical-align: middle;\n    }\n\n    .dataframe tbody tr th {\n        vertical-align: top;\n    }\n\n    .dataframe thead th {\n        text-align: right;\n    }\n</style>\n<table border=\"1\" class=\"dataframe\">\n  <thead>\n    <tr style=\"text-align: right;\">\n      <th></th>\n      <th>id_code</th>\n      <th>experiment</th>\n      <th>plate</th>\n      <th>well</th>\n      <th>filename</th>\n    </tr>\n  </thead>\n  <tbody>\n    <tr>\n      <th>0</th>\n      <td>HEPG2-08_1_B03</td>\n      <td>HEPG2-08</td>\n      <td>1</td>\n      <td>B03</td>\n      <td>HEPG2-08_1_B03_s1.jpeg</td>\n    </tr>\n    <tr>\n      <th>1</th>\n      <td>HEPG2-08_1_B04</td>\n      <td>HEPG2-08</td>\n      <td>1</td>\n      <td>B04</td>\n      <td>HEPG2-08_1_B04_s1.jpeg</td>\n    </tr>\n    <tr>\n      <th>2</th>\n      <td>HEPG2-08_1_B05</td>\n      <td>HEPG2-08</td>\n      <td>1</td>\n      <td>B05</td>\n      <td>HEPG2-08_1_B05_s1.jpeg</td>\n    </tr>\n    <tr>\n      <th>3</th>\n      <td>HEPG2-08_1_B06</td>\n      <td>HEPG2-08</td>\n      <td>1</td>\n      <td>B06</td>\n      <td>HEPG2-08_1_B06_s1.jpeg</td>\n    </tr>\n    <tr>\n      <th>4</th>\n      <td>HEPG2-08_1_B07</td>\n      <td>HEPG2-08</td>\n      <td>1</td>\n      <td>B07</td>\n      <td>HEPG2-08_1_B07_s1.jpeg</td>\n    </tr>\n  </tbody>\n</table>\n</div>"
     },
     "metadata": {},
     "execution_count": 284
    }
   ],
   "source": [
    "parsed_test_df = pd.read_csv('parsed_data_files/new_test.csv')\n",
    "parsed_test_df.head()"
   ]
  },
  {
   "cell_type": "markdown",
   "metadata": {},
   "source": [
    "## Filter to keep treatment rows"
   ]
  },
  {
   "cell_type": "code",
   "execution_count": 285,
   "metadata": {},
   "outputs": [],
   "source": [
    "treatments_df = full_meta_df[full_meta_df.well_type == 'treatment'].copy()"
   ]
  },
  {
   "cell_type": "code",
   "execution_count": 286,
   "metadata": {},
   "outputs": [
    {
     "output_type": "execute_result",
     "data": {
      "text/plain": "112824"
     },
     "metadata": {},
     "execution_count": 286
    }
   ],
   "source": [
    "len(treatments_df)"
   ]
  },
  {
   "cell_type": "code",
   "execution_count": 287,
   "metadata": {},
   "outputs": [
    {
     "output_type": "execute_result",
     "data": {
      "text/plain": "1108"
     },
     "metadata": {},
     "execution_count": 287
    }
   ],
   "source": [
    "len(treatments_df.sirna_id.unique()) # check how many treatments total, should be 1108"
   ]
  },
  {
   "cell_type": "markdown",
   "metadata": {},
   "source": [
    "# EDA"
   ]
  },
  {
   "cell_type": "code",
   "execution_count": 288,
   "metadata": {},
   "outputs": [
    {
     "output_type": "execute_result",
     "data": {
      "text/plain": "100"
     },
     "metadata": {},
     "execution_count": 288
    }
   ],
   "source": [
    "len(treatments_df[treatments_df.sirna_id == 888])"
   ]
  },
  {
   "cell_type": "code",
   "execution_count": 289,
   "metadata": {},
   "outputs": [
    {
     "output_type": "execute_result",
     "data": {
      "text/plain": "102"
     },
     "metadata": {},
     "execution_count": 289
    }
   ],
   "source": [
    "len(treatments_df[treatments_df.sirna_id == 999])"
   ]
  },
  {
   "cell_type": "code",
   "execution_count": 290,
   "metadata": {},
   "outputs": [
    {
     "output_type": "execute_result",
     "data": {
      "text/plain": "102"
     },
     "metadata": {},
     "execution_count": 290
    }
   ],
   "source": [
    "len(treatments_df[treatments_df.sirna_id == 111])"
   ]
  },
  {
   "cell_type": "code",
   "execution_count": 291,
   "metadata": {},
   "outputs": [],
   "source": [
    "cell_types = list(treatments_df.cell_type.unique())"
   ]
  },
  {
   "cell_type": "code",
   "execution_count": 292,
   "metadata": {},
   "outputs": [
    {
     "output_type": "execute_result",
     "data": {
      "text/plain": "24358"
     },
     "metadata": {},
     "execution_count": 292
    }
   ],
   "source": [
    "len(treatments_df[treatments_df.cell_type == cell_types[0]])"
   ]
  },
  {
   "cell_type": "code",
   "execution_count": 293,
   "metadata": {},
   "outputs": [
    {
     "output_type": "execute_result",
     "data": {
      "text/plain": "            site_id         well_id cell_type dataset experiment  plate well  \\\n2  HEPG2-08_1_B03_1  HEPG2-08_1_B03     HEPG2    test   HEPG2-08      1  B03   \n3  HEPG2-08_1_B03_2  HEPG2-08_1_B03     HEPG2    test   HEPG2-08      1  B03   \n4  HEPG2-08_1_B04_1  HEPG2-08_1_B04     HEPG2    test   HEPG2-08      1  B04   \n5  HEPG2-08_1_B04_2  HEPG2-08_1_B04     HEPG2    test   HEPG2-08      1  B04   \n6  HEPG2-08_1_B05_1  HEPG2-08_1_B05     HEPG2    test   HEPG2-08      1  B05   \n\n   site  well_type   sirna  sirna_id  \n2     1  treatment  s21721       855  \n3     2  treatment  s21721       855  \n4     1  treatment  s20894       710  \n5     2  treatment  s20894       710  \n6     1  treatment  s19827       836  ",
      "text/html": "<div>\n<style scoped>\n    .dataframe tbody tr th:only-of-type {\n        vertical-align: middle;\n    }\n\n    .dataframe tbody tr th {\n        vertical-align: top;\n    }\n\n    .dataframe thead th {\n        text-align: right;\n    }\n</style>\n<table border=\"1\" class=\"dataframe\">\n  <thead>\n    <tr style=\"text-align: right;\">\n      <th></th>\n      <th>site_id</th>\n      <th>well_id</th>\n      <th>cell_type</th>\n      <th>dataset</th>\n      <th>experiment</th>\n      <th>plate</th>\n      <th>well</th>\n      <th>site</th>\n      <th>well_type</th>\n      <th>sirna</th>\n      <th>sirna_id</th>\n    </tr>\n  </thead>\n  <tbody>\n    <tr>\n      <th>2</th>\n      <td>HEPG2-08_1_B03_1</td>\n      <td>HEPG2-08_1_B03</td>\n      <td>HEPG2</td>\n      <td>test</td>\n      <td>HEPG2-08</td>\n      <td>1</td>\n      <td>B03</td>\n      <td>1</td>\n      <td>treatment</td>\n      <td>s21721</td>\n      <td>855</td>\n    </tr>\n    <tr>\n      <th>3</th>\n      <td>HEPG2-08_1_B03_2</td>\n      <td>HEPG2-08_1_B03</td>\n      <td>HEPG2</td>\n      <td>test</td>\n      <td>HEPG2-08</td>\n      <td>1</td>\n      <td>B03</td>\n      <td>2</td>\n      <td>treatment</td>\n      <td>s21721</td>\n      <td>855</td>\n    </tr>\n    <tr>\n      <th>4</th>\n      <td>HEPG2-08_1_B04_1</td>\n      <td>HEPG2-08_1_B04</td>\n      <td>HEPG2</td>\n      <td>test</td>\n      <td>HEPG2-08</td>\n      <td>1</td>\n      <td>B04</td>\n      <td>1</td>\n      <td>treatment</td>\n      <td>s20894</td>\n      <td>710</td>\n    </tr>\n    <tr>\n      <th>5</th>\n      <td>HEPG2-08_1_B04_2</td>\n      <td>HEPG2-08_1_B04</td>\n      <td>HEPG2</td>\n      <td>test</td>\n      <td>HEPG2-08</td>\n      <td>1</td>\n      <td>B04</td>\n      <td>2</td>\n      <td>treatment</td>\n      <td>s20894</td>\n      <td>710</td>\n    </tr>\n    <tr>\n      <th>6</th>\n      <td>HEPG2-08_1_B05_1</td>\n      <td>HEPG2-08_1_B05</td>\n      <td>HEPG2</td>\n      <td>test</td>\n      <td>HEPG2-08</td>\n      <td>1</td>\n      <td>B05</td>\n      <td>1</td>\n      <td>treatment</td>\n      <td>s19827</td>\n      <td>836</td>\n    </tr>\n  </tbody>\n</table>\n</div>"
     },
     "metadata": {},
     "execution_count": 293
    }
   ],
   "source": [
    "hepg2_df = treatments_df[treatments_df.cell_type == cell_types[0]]\n",
    "hepg2_df.head()"
   ]
  },
  {
   "cell_type": "code",
   "execution_count": 294,
   "metadata": {},
   "outputs": [
    {
     "output_type": "execute_result",
     "data": {
      "text/plain": "                site_id         well_id cell_type dataset experiment  plate  \\\n59072  HEPG2-07_1_B03_1  HEPG2-07_1_B03     HEPG2   train   HEPG2-07      1   \n59073  HEPG2-07_1_B03_2  HEPG2-07_1_B03     HEPG2   train   HEPG2-07      1   \n\n      well  site  well_type   sirna  sirna_id  \n59072  B03     1  treatment  s28299       239  \n59073  B03     2  treatment  s28299       239  ",
      "text/html": "<div>\n<style scoped>\n    .dataframe tbody tr th:only-of-type {\n        vertical-align: middle;\n    }\n\n    .dataframe tbody tr th {\n        vertical-align: top;\n    }\n\n    .dataframe thead th {\n        text-align: right;\n    }\n</style>\n<table border=\"1\" class=\"dataframe\">\n  <thead>\n    <tr style=\"text-align: right;\">\n      <th></th>\n      <th>site_id</th>\n      <th>well_id</th>\n      <th>cell_type</th>\n      <th>dataset</th>\n      <th>experiment</th>\n      <th>plate</th>\n      <th>well</th>\n      <th>site</th>\n      <th>well_type</th>\n      <th>sirna</th>\n      <th>sirna_id</th>\n    </tr>\n  </thead>\n  <tbody>\n    <tr>\n      <th>59072</th>\n      <td>HEPG2-07_1_B03_1</td>\n      <td>HEPG2-07_1_B03</td>\n      <td>HEPG2</td>\n      <td>train</td>\n      <td>HEPG2-07</td>\n      <td>1</td>\n      <td>B03</td>\n      <td>1</td>\n      <td>treatment</td>\n      <td>s28299</td>\n      <td>239</td>\n    </tr>\n    <tr>\n      <th>59073</th>\n      <td>HEPG2-07_1_B03_2</td>\n      <td>HEPG2-07_1_B03</td>\n      <td>HEPG2</td>\n      <td>train</td>\n      <td>HEPG2-07</td>\n      <td>1</td>\n      <td>B03</td>\n      <td>2</td>\n      <td>treatment</td>\n      <td>s28299</td>\n      <td>239</td>\n    </tr>\n  </tbody>\n</table>\n</div>"
     },
     "metadata": {},
     "execution_count": 294
    }
   ],
   "source": [
    "hepg2_df[(hepg2_df.well == 'B03') & (hepg2_df.experiment == 'HEPG2-07') & (hepg2_df.sirna_id == 239)]"
   ]
  },
  {
   "cell_type": "code",
   "execution_count": 295,
   "metadata": {},
   "outputs": [
    {
     "output_type": "execute_result",
     "data": {
      "text/plain": "              id_code experiment  plate well  sirna                filename\n6644   HEPG2-07_1_B03   HEPG2-07      1  B03    239  HEPG2-07_1_B03_s1.jpeg\n43159  HEPG2-07_1_B03   HEPG2-07      1  B03    239  HEPG2-07_1_B03_s2.jpeg",
      "text/html": "<div>\n<style scoped>\n    .dataframe tbody tr th:only-of-type {\n        vertical-align: middle;\n    }\n\n    .dataframe tbody tr th {\n        vertical-align: top;\n    }\n\n    .dataframe thead th {\n        text-align: right;\n    }\n</style>\n<table border=\"1\" class=\"dataframe\">\n  <thead>\n    <tr style=\"text-align: right;\">\n      <th></th>\n      <th>id_code</th>\n      <th>experiment</th>\n      <th>plate</th>\n      <th>well</th>\n      <th>sirna</th>\n      <th>filename</th>\n    </tr>\n  </thead>\n  <tbody>\n    <tr>\n      <th>6644</th>\n      <td>HEPG2-07_1_B03</td>\n      <td>HEPG2-07</td>\n      <td>1</td>\n      <td>B03</td>\n      <td>239</td>\n      <td>HEPG2-07_1_B03_s1.jpeg</td>\n    </tr>\n    <tr>\n      <th>43159</th>\n      <td>HEPG2-07_1_B03</td>\n      <td>HEPG2-07</td>\n      <td>1</td>\n      <td>B03</td>\n      <td>239</td>\n      <td>HEPG2-07_1_B03_s2.jpeg</td>\n    </tr>\n  </tbody>\n</table>\n</div>"
     },
     "metadata": {},
     "execution_count": 295
    }
   ],
   "source": [
    "parsed_df[(parsed_df.experiment == 'HEPG2-07') & (parsed_df.sirna == 239)]"
   ]
  },
  {
   "cell_type": "code",
   "execution_count": 296,
   "metadata": {},
   "outputs": [
    {
     "output_type": "execute_result",
     "data": {
      "text/plain": "33"
     },
     "metadata": {},
     "execution_count": 296
    }
   ],
   "source": [
    "len(parsed_df.experiment.unique())"
   ]
  },
  {
   "cell_type": "code",
   "execution_count": 297,
   "metadata": {},
   "outputs": [
    {
     "output_type": "execute_result",
     "data": {
      "text/plain": "73030"
     },
     "metadata": {},
     "execution_count": 297
    }
   ],
   "source": [
    "len(parsed_df)"
   ]
  },
  {
   "cell_type": "code",
   "execution_count": 298,
   "metadata": {},
   "outputs": [],
   "source": [
    "train_df = treatments_df[treatments_df.dataset == 'train'].copy()\n",
    "test_df = treatments_df[treatments_df.dataset == 'test'].copy()"
   ]
  },
  {
   "cell_type": "code",
   "execution_count": 299,
   "metadata": {},
   "outputs": [
    {
     "output_type": "execute_result",
     "data": {
      "text/plain": "39794"
     },
     "metadata": {},
     "execution_count": 299
    }
   ],
   "source": [
    "len(test_df)"
   ]
  },
  {
   "cell_type": "code",
   "execution_count": 300,
   "metadata": {},
   "outputs": [
    {
     "output_type": "execute_result",
     "data": {
      "text/plain": "73030"
     },
     "metadata": {},
     "execution_count": 300
    }
   ],
   "source": [
    "len(train_df)"
   ]
  },
  {
   "cell_type": "code",
   "execution_count": 301,
   "metadata": {},
   "outputs": [
    {
     "output_type": "execute_result",
     "data": {
      "text/plain": "39794"
     },
     "metadata": {},
     "execution_count": 301
    }
   ],
   "source": [
    "parsed_test_df = pd.read_csv('parsed_data_files/new_test.csv')\n",
    "len(parsed_test_df)"
   ]
  },
  {
   "cell_type": "code",
   "execution_count": 302,
   "metadata": {},
   "outputs": [
    {
     "output_type": "stream",
     "name": "stdout",
     "text": "/home/specc/Documents/school_files/458_deep_learning/458_final_project\n['test', 'parsed_data_files', 'data_loading_and_eda.ipynb', 'notes.md', 'train', 'data_files', 'rxrx1', '254482_535150_bundle_archive.zip', 'rxrx1-utils', 'rxrx1.zip', 'recursion-2019-load-resize-and-save-images.ipynb']\n"
    }
   ],
   "source": [
    "print(os.getcwd())\n",
    "print(os.listdir())"
   ]
  },
  {
   "cell_type": "code",
   "execution_count": 303,
   "metadata": {},
   "outputs": [
    {
     "output_type": "execute_result",
     "data": {
      "text/plain": "                site_id         well_id cell_type dataset experiment  plate  \\\n44288  HEPG2-01_1_B03_1  HEPG2-01_1_B03     HEPG2   train   HEPG2-01      1   \n44289  HEPG2-01_1_B03_2  HEPG2-01_1_B03     HEPG2   train   HEPG2-01      1   \n44290  HEPG2-01_1_B04_1  HEPG2-01_1_B04     HEPG2   train   HEPG2-01      1   \n44291  HEPG2-01_1_B04_2  HEPG2-01_1_B04     HEPG2   train   HEPG2-01      1   \n44292  HEPG2-01_1_B05_1  HEPG2-01_1_B05     HEPG2   train   HEPG2-01      1   \n\n      well  site  well_type   sirna  sirna_id  \n44288  B03     1  treatment  s28745       513  \n44289  B03     2  treatment  s28745       513  \n44290  B04     1  treatment  s28710       840  \n44291  B04     2  treatment  s28710       840  \n44292  B05     1  treatment  s28834      1020  ",
      "text/html": "<div>\n<style scoped>\n    .dataframe tbody tr th:only-of-type {\n        vertical-align: middle;\n    }\n\n    .dataframe tbody tr th {\n        vertical-align: top;\n    }\n\n    .dataframe thead th {\n        text-align: right;\n    }\n</style>\n<table border=\"1\" class=\"dataframe\">\n  <thead>\n    <tr style=\"text-align: right;\">\n      <th></th>\n      <th>site_id</th>\n      <th>well_id</th>\n      <th>cell_type</th>\n      <th>dataset</th>\n      <th>experiment</th>\n      <th>plate</th>\n      <th>well</th>\n      <th>site</th>\n      <th>well_type</th>\n      <th>sirna</th>\n      <th>sirna_id</th>\n    </tr>\n  </thead>\n  <tbody>\n    <tr>\n      <th>44288</th>\n      <td>HEPG2-01_1_B03_1</td>\n      <td>HEPG2-01_1_B03</td>\n      <td>HEPG2</td>\n      <td>train</td>\n      <td>HEPG2-01</td>\n      <td>1</td>\n      <td>B03</td>\n      <td>1</td>\n      <td>treatment</td>\n      <td>s28745</td>\n      <td>513</td>\n    </tr>\n    <tr>\n      <th>44289</th>\n      <td>HEPG2-01_1_B03_2</td>\n      <td>HEPG2-01_1_B03</td>\n      <td>HEPG2</td>\n      <td>train</td>\n      <td>HEPG2-01</td>\n      <td>1</td>\n      <td>B03</td>\n      <td>2</td>\n      <td>treatment</td>\n      <td>s28745</td>\n      <td>513</td>\n    </tr>\n    <tr>\n      <th>44290</th>\n      <td>HEPG2-01_1_B04_1</td>\n      <td>HEPG2-01_1_B04</td>\n      <td>HEPG2</td>\n      <td>train</td>\n      <td>HEPG2-01</td>\n      <td>1</td>\n      <td>B04</td>\n      <td>1</td>\n      <td>treatment</td>\n      <td>s28710</td>\n      <td>840</td>\n    </tr>\n    <tr>\n      <th>44291</th>\n      <td>HEPG2-01_1_B04_2</td>\n      <td>HEPG2-01_1_B04</td>\n      <td>HEPG2</td>\n      <td>train</td>\n      <td>HEPG2-01</td>\n      <td>1</td>\n      <td>B04</td>\n      <td>2</td>\n      <td>treatment</td>\n      <td>s28710</td>\n      <td>840</td>\n    </tr>\n    <tr>\n      <th>44292</th>\n      <td>HEPG2-01_1_B05_1</td>\n      <td>HEPG2-01_1_B05</td>\n      <td>HEPG2</td>\n      <td>train</td>\n      <td>HEPG2-01</td>\n      <td>1</td>\n      <td>B05</td>\n      <td>1</td>\n      <td>treatment</td>\n      <td>s28834</td>\n      <td>1020</td>\n    </tr>\n  </tbody>\n</table>\n</div>"
     },
     "metadata": {},
     "execution_count": 303
    }
   ],
   "source": [
    "train_df.head()"
   ]
  },
  {
   "cell_type": "code",
   "execution_count": 304,
   "metadata": {},
   "outputs": [
    {
     "output_type": "execute_result",
     "data": {
      "text/plain": "            site_id         well_id cell_type dataset experiment  plate well  \\\n2  HEPG2-08_1_B03_1  HEPG2-08_1_B03     HEPG2    test   HEPG2-08      1  B03   \n3  HEPG2-08_1_B03_2  HEPG2-08_1_B03     HEPG2    test   HEPG2-08      1  B03   \n4  HEPG2-08_1_B04_1  HEPG2-08_1_B04     HEPG2    test   HEPG2-08      1  B04   \n5  HEPG2-08_1_B04_2  HEPG2-08_1_B04     HEPG2    test   HEPG2-08      1  B04   \n6  HEPG2-08_1_B05_1  HEPG2-08_1_B05     HEPG2    test   HEPG2-08      1  B05   \n\n   site  well_type   sirna  sirna_id  \n2     1  treatment  s21721       855  \n3     2  treatment  s21721       855  \n4     1  treatment  s20894       710  \n5     2  treatment  s20894       710  \n6     1  treatment  s19827       836  ",
      "text/html": "<div>\n<style scoped>\n    .dataframe tbody tr th:only-of-type {\n        vertical-align: middle;\n    }\n\n    .dataframe tbody tr th {\n        vertical-align: top;\n    }\n\n    .dataframe thead th {\n        text-align: right;\n    }\n</style>\n<table border=\"1\" class=\"dataframe\">\n  <thead>\n    <tr style=\"text-align: right;\">\n      <th></th>\n      <th>site_id</th>\n      <th>well_id</th>\n      <th>cell_type</th>\n      <th>dataset</th>\n      <th>experiment</th>\n      <th>plate</th>\n      <th>well</th>\n      <th>site</th>\n      <th>well_type</th>\n      <th>sirna</th>\n      <th>sirna_id</th>\n    </tr>\n  </thead>\n  <tbody>\n    <tr>\n      <th>2</th>\n      <td>HEPG2-08_1_B03_1</td>\n      <td>HEPG2-08_1_B03</td>\n      <td>HEPG2</td>\n      <td>test</td>\n      <td>HEPG2-08</td>\n      <td>1</td>\n      <td>B03</td>\n      <td>1</td>\n      <td>treatment</td>\n      <td>s21721</td>\n      <td>855</td>\n    </tr>\n    <tr>\n      <th>3</th>\n      <td>HEPG2-08_1_B03_2</td>\n      <td>HEPG2-08_1_B03</td>\n      <td>HEPG2</td>\n      <td>test</td>\n      <td>HEPG2-08</td>\n      <td>1</td>\n      <td>B03</td>\n      <td>2</td>\n      <td>treatment</td>\n      <td>s21721</td>\n      <td>855</td>\n    </tr>\n    <tr>\n      <th>4</th>\n      <td>HEPG2-08_1_B04_1</td>\n      <td>HEPG2-08_1_B04</td>\n      <td>HEPG2</td>\n      <td>test</td>\n      <td>HEPG2-08</td>\n      <td>1</td>\n      <td>B04</td>\n      <td>1</td>\n      <td>treatment</td>\n      <td>s20894</td>\n      <td>710</td>\n    </tr>\n    <tr>\n      <th>5</th>\n      <td>HEPG2-08_1_B04_2</td>\n      <td>HEPG2-08_1_B04</td>\n      <td>HEPG2</td>\n      <td>test</td>\n      <td>HEPG2-08</td>\n      <td>1</td>\n      <td>B04</td>\n      <td>2</td>\n      <td>treatment</td>\n      <td>s20894</td>\n      <td>710</td>\n    </tr>\n    <tr>\n      <th>6</th>\n      <td>HEPG2-08_1_B05_1</td>\n      <td>HEPG2-08_1_B05</td>\n      <td>HEPG2</td>\n      <td>test</td>\n      <td>HEPG2-08</td>\n      <td>1</td>\n      <td>B05</td>\n      <td>1</td>\n      <td>treatment</td>\n      <td>s19827</td>\n      <td>836</td>\n    </tr>\n  </tbody>\n</table>\n</div>"
     },
     "metadata": {},
     "execution_count": 304
    }
   ],
   "source": [
    "test_df.head()"
   ]
  },
  {
   "cell_type": "code",
   "execution_count": 305,
   "metadata": {},
   "outputs": [
    {
     "output_type": "execute_result",
     "data": {
      "text/plain": "              id_code experiment  plate well  sirna                filename\n0      HEPG2-01_1_B03   HEPG2-01      1  B03    513  HEPG2-01_1_B03_s1.jpeg\n36515  HEPG2-01_1_B03   HEPG2-01      1  B03    513  HEPG2-01_1_B03_s2.jpeg",
      "text/html": "<div>\n<style scoped>\n    .dataframe tbody tr th:only-of-type {\n        vertical-align: middle;\n    }\n\n    .dataframe tbody tr th {\n        vertical-align: top;\n    }\n\n    .dataframe thead th {\n        text-align: right;\n    }\n</style>\n<table border=\"1\" class=\"dataframe\">\n  <thead>\n    <tr style=\"text-align: right;\">\n      <th></th>\n      <th>id_code</th>\n      <th>experiment</th>\n      <th>plate</th>\n      <th>well</th>\n      <th>sirna</th>\n      <th>filename</th>\n    </tr>\n  </thead>\n  <tbody>\n    <tr>\n      <th>0</th>\n      <td>HEPG2-01_1_B03</td>\n      <td>HEPG2-01</td>\n      <td>1</td>\n      <td>B03</td>\n      <td>513</td>\n      <td>HEPG2-01_1_B03_s1.jpeg</td>\n    </tr>\n    <tr>\n      <th>36515</th>\n      <td>HEPG2-01_1_B03</td>\n      <td>HEPG2-01</td>\n      <td>1</td>\n      <td>B03</td>\n      <td>513</td>\n      <td>HEPG2-01_1_B03_s2.jpeg</td>\n    </tr>\n  </tbody>\n</table>\n</div>"
     },
     "metadata": {},
     "execution_count": 305
    }
   ],
   "source": [
    "parsed_df[(parsed_df.sirna == 513) & (parsed_df.experiment == 'HEPG2-01')]"
   ]
  },
  {
   "cell_type": "code",
   "execution_count": 306,
   "metadata": {},
   "outputs": [
    {
     "output_type": "execute_result",
     "data": {
      "text/plain": "          id_code experiment  plate well                filename\n0  HEPG2-08_1_B03   HEPG2-08      1  B03  HEPG2-08_1_B03_s1.jpeg\n1  HEPG2-08_1_B04   HEPG2-08      1  B04  HEPG2-08_1_B04_s1.jpeg\n2  HEPG2-08_1_B05   HEPG2-08      1  B05  HEPG2-08_1_B05_s1.jpeg\n3  HEPG2-08_1_B06   HEPG2-08      1  B06  HEPG2-08_1_B06_s1.jpeg\n4  HEPG2-08_1_B07   HEPG2-08      1  B07  HEPG2-08_1_B07_s1.jpeg",
      "text/html": "<div>\n<style scoped>\n    .dataframe tbody tr th:only-of-type {\n        vertical-align: middle;\n    }\n\n    .dataframe tbody tr th {\n        vertical-align: top;\n    }\n\n    .dataframe thead th {\n        text-align: right;\n    }\n</style>\n<table border=\"1\" class=\"dataframe\">\n  <thead>\n    <tr style=\"text-align: right;\">\n      <th></th>\n      <th>id_code</th>\n      <th>experiment</th>\n      <th>plate</th>\n      <th>well</th>\n      <th>filename</th>\n    </tr>\n  </thead>\n  <tbody>\n    <tr>\n      <th>0</th>\n      <td>HEPG2-08_1_B03</td>\n      <td>HEPG2-08</td>\n      <td>1</td>\n      <td>B03</td>\n      <td>HEPG2-08_1_B03_s1.jpeg</td>\n    </tr>\n    <tr>\n      <th>1</th>\n      <td>HEPG2-08_1_B04</td>\n      <td>HEPG2-08</td>\n      <td>1</td>\n      <td>B04</td>\n      <td>HEPG2-08_1_B04_s1.jpeg</td>\n    </tr>\n    <tr>\n      <th>2</th>\n      <td>HEPG2-08_1_B05</td>\n      <td>HEPG2-08</td>\n      <td>1</td>\n      <td>B05</td>\n      <td>HEPG2-08_1_B05_s1.jpeg</td>\n    </tr>\n    <tr>\n      <th>3</th>\n      <td>HEPG2-08_1_B06</td>\n      <td>HEPG2-08</td>\n      <td>1</td>\n      <td>B06</td>\n      <td>HEPG2-08_1_B06_s1.jpeg</td>\n    </tr>\n    <tr>\n      <th>4</th>\n      <td>HEPG2-08_1_B07</td>\n      <td>HEPG2-08</td>\n      <td>1</td>\n      <td>B07</td>\n      <td>HEPG2-08_1_B07_s1.jpeg</td>\n    </tr>\n  </tbody>\n</table>\n</div>"
     },
     "metadata": {},
     "execution_count": 306
    }
   ],
   "source": [
    "parsed_test_df.head()"
   ]
  },
  {
   "cell_type": "code",
   "execution_count": 307,
   "metadata": {},
   "outputs": [
    {
     "output_type": "execute_result",
     "data": {
      "text/plain": "True"
     },
     "metadata": {},
     "execution_count": 307
    }
   ],
   "source": [
    "len(parsed_test_df) == len(test_df)"
   ]
  },
  {
   "cell_type": "code",
   "execution_count": 308,
   "metadata": {},
   "outputs": [
    {
     "output_type": "execute_result",
     "data": {
      "text/plain": "39794"
     },
     "metadata": {},
     "execution_count": 308
    }
   ],
   "source": [
    "len(parsed_test_df)"
   ]
  },
  {
   "cell_type": "code",
   "execution_count": 309,
   "metadata": {},
   "outputs": [
    {
     "output_type": "execute_result",
     "data": {
      "text/plain": "39794"
     },
     "metadata": {},
     "execution_count": 309
    }
   ],
   "source": [
    "len(test_df)"
   ]
  },
  {
   "cell_type": "code",
   "execution_count": 310,
   "metadata": {},
   "outputs": [],
   "source": [
    "parsed_test_df.rename(columns = {'id_code': 'well_id'}, inplace = True)"
   ]
  },
  {
   "cell_type": "code",
   "execution_count": 311,
   "metadata": {},
   "outputs": [],
   "source": [
    "parsed_test_df = parsed_test_df.merge(test_df, on = ['well_id', 'experiment', 'well', 'plate'], how = 'left')"
   ]
  },
  {
   "cell_type": "code",
   "execution_count": 312,
   "metadata": {},
   "outputs": [
    {
     "output_type": "execute_result",
     "data": {
      "text/plain": "Index(['well_id', 'experiment', 'plate', 'well', 'filename', 'site_id',\n       'cell_type', 'dataset', 'site', 'well_type', 'sirna', 'sirna_id'],\n      dtype='object')"
     },
     "metadata": {},
     "execution_count": 312
    }
   ],
   "source": [
    "parsed_test_df.columns"
   ]
  },
  {
   "cell_type": "code",
   "execution_count": 313,
   "metadata": {},
   "outputs": [
    {
     "output_type": "execute_result",
     "data": {
      "text/plain": "79588"
     },
     "metadata": {},
     "execution_count": 313
    }
   ],
   "source": [
    "len(parsed_test_df)"
   ]
  },
  {
   "cell_type": "code",
   "execution_count": 322,
   "metadata": {},
   "outputs": [],
   "source": [
    "parsed_test_df = parsed_test_df.drop(columns = ['site_id', 'dataset', 'well_type', 'site']).drop_duplicates()"
   ]
  },
  {
   "cell_type": "code",
   "execution_count": 325,
   "metadata": {},
   "outputs": [],
   "source": [
    "parsed_test_df['site'] = 0"
   ]
  },
  {
   "cell_type": "code",
   "execution_count": 326,
   "metadata": {},
   "outputs": [],
   "source": [
    "def assign_site(str_input):\n",
    "    if 's1' in str_input:\n",
    "        return 1\n",
    "    elif 's2' in str_input:\n",
    "        return 2"
   ]
  },
  {
   "cell_type": "code",
   "execution_count": 323,
   "metadata": {},
   "outputs": [
    {
     "output_type": "execute_result",
     "data": {
      "text/plain": "              well_id experiment  plate well                filename  \\\n0      HEPG2-08_1_B03   HEPG2-08      1  B03  HEPG2-08_1_B03_s1.jpeg   \n2      HEPG2-08_1_B04   HEPG2-08      1  B04  HEPG2-08_1_B04_s1.jpeg   \n4      HEPG2-08_1_B05   HEPG2-08      1  B05  HEPG2-08_1_B05_s1.jpeg   \n6      HEPG2-08_1_B06   HEPG2-08      1  B06  HEPG2-08_1_B06_s1.jpeg   \n8      HEPG2-08_1_B07   HEPG2-08      1  B07  HEPG2-08_1_B07_s1.jpeg   \n...               ...        ...    ...  ...                     ...   \n79578   U2OS-05_4_O19    U2OS-05      4  O19   U2OS-05_4_O19_s2.jpeg   \n79580   U2OS-05_4_O20    U2OS-05      4  O20   U2OS-05_4_O20_s2.jpeg   \n79582   U2OS-05_4_O21    U2OS-05      4  O21   U2OS-05_4_O21_s2.jpeg   \n79584   U2OS-05_4_O22    U2OS-05      4  O22   U2OS-05_4_O22_s2.jpeg   \n79586   U2OS-05_4_O23    U2OS-05      4  O23   U2OS-05_4_O23_s2.jpeg   \n\n      cell_type   sirna  sirna_id  \n0         HEPG2  s21721       855  \n2         HEPG2  s20894       710  \n4         HEPG2  s19827       836  \n6         HEPG2  s19792       249  \n8         HEPG2  s19935       878  \n...         ...     ...       ...  \n79578      U2OS  s19163       643  \n79580      U2OS  s19139       777  \n79582      U2OS  s18196       375  \n79584      U2OS  s18694       394  \n79586      U2OS  s19103        65  \n\n[39794 rows x 8 columns]",
      "text/html": "<div>\n<style scoped>\n    .dataframe tbody tr th:only-of-type {\n        vertical-align: middle;\n    }\n\n    .dataframe tbody tr th {\n        vertical-align: top;\n    }\n\n    .dataframe thead th {\n        text-align: right;\n    }\n</style>\n<table border=\"1\" class=\"dataframe\">\n  <thead>\n    <tr style=\"text-align: right;\">\n      <th></th>\n      <th>well_id</th>\n      <th>experiment</th>\n      <th>plate</th>\n      <th>well</th>\n      <th>filename</th>\n      <th>cell_type</th>\n      <th>sirna</th>\n      <th>sirna_id</th>\n    </tr>\n  </thead>\n  <tbody>\n    <tr>\n      <th>0</th>\n      <td>HEPG2-08_1_B03</td>\n      <td>HEPG2-08</td>\n      <td>1</td>\n      <td>B03</td>\n      <td>HEPG2-08_1_B03_s1.jpeg</td>\n      <td>HEPG2</td>\n      <td>s21721</td>\n      <td>855</td>\n    </tr>\n    <tr>\n      <th>2</th>\n      <td>HEPG2-08_1_B04</td>\n      <td>HEPG2-08</td>\n      <td>1</td>\n      <td>B04</td>\n      <td>HEPG2-08_1_B04_s1.jpeg</td>\n      <td>HEPG2</td>\n      <td>s20894</td>\n      <td>710</td>\n    </tr>\n    <tr>\n      <th>4</th>\n      <td>HEPG2-08_1_B05</td>\n      <td>HEPG2-08</td>\n      <td>1</td>\n      <td>B05</td>\n      <td>HEPG2-08_1_B05_s1.jpeg</td>\n      <td>HEPG2</td>\n      <td>s19827</td>\n      <td>836</td>\n    </tr>\n    <tr>\n      <th>6</th>\n      <td>HEPG2-08_1_B06</td>\n      <td>HEPG2-08</td>\n      <td>1</td>\n      <td>B06</td>\n      <td>HEPG2-08_1_B06_s1.jpeg</td>\n      <td>HEPG2</td>\n      <td>s19792</td>\n      <td>249</td>\n    </tr>\n    <tr>\n      <th>8</th>\n      <td>HEPG2-08_1_B07</td>\n      <td>HEPG2-08</td>\n      <td>1</td>\n      <td>B07</td>\n      <td>HEPG2-08_1_B07_s1.jpeg</td>\n      <td>HEPG2</td>\n      <td>s19935</td>\n      <td>878</td>\n    </tr>\n    <tr>\n      <th>...</th>\n      <td>...</td>\n      <td>...</td>\n      <td>...</td>\n      <td>...</td>\n      <td>...</td>\n      <td>...</td>\n      <td>...</td>\n      <td>...</td>\n    </tr>\n    <tr>\n      <th>79578</th>\n      <td>U2OS-05_4_O19</td>\n      <td>U2OS-05</td>\n      <td>4</td>\n      <td>O19</td>\n      <td>U2OS-05_4_O19_s2.jpeg</td>\n      <td>U2OS</td>\n      <td>s19163</td>\n      <td>643</td>\n    </tr>\n    <tr>\n      <th>79580</th>\n      <td>U2OS-05_4_O20</td>\n      <td>U2OS-05</td>\n      <td>4</td>\n      <td>O20</td>\n      <td>U2OS-05_4_O20_s2.jpeg</td>\n      <td>U2OS</td>\n      <td>s19139</td>\n      <td>777</td>\n    </tr>\n    <tr>\n      <th>79582</th>\n      <td>U2OS-05_4_O21</td>\n      <td>U2OS-05</td>\n      <td>4</td>\n      <td>O21</td>\n      <td>U2OS-05_4_O21_s2.jpeg</td>\n      <td>U2OS</td>\n      <td>s18196</td>\n      <td>375</td>\n    </tr>\n    <tr>\n      <th>79584</th>\n      <td>U2OS-05_4_O22</td>\n      <td>U2OS-05</td>\n      <td>4</td>\n      <td>O22</td>\n      <td>U2OS-05_4_O22_s2.jpeg</td>\n      <td>U2OS</td>\n      <td>s18694</td>\n      <td>394</td>\n    </tr>\n    <tr>\n      <th>79586</th>\n      <td>U2OS-05_4_O23</td>\n      <td>U2OS-05</td>\n      <td>4</td>\n      <td>O23</td>\n      <td>U2OS-05_4_O23_s2.jpeg</td>\n      <td>U2OS</td>\n      <td>s19103</td>\n      <td>65</td>\n    </tr>\n  </tbody>\n</table>\n<p>39794 rows × 8 columns</p>\n</div>"
     },
     "metadata": {},
     "execution_count": 323
    }
   ],
   "source": [
    "parsed_test_df"
   ]
  },
  {
   "cell_type": "code",
   "execution_count": 327,
   "metadata": {},
   "outputs": [],
   "source": [
    "parsed_test_df['site'] = parsed_test_df.filename.apply(assign_site)"
   ]
  },
  {
   "cell_type": "code",
   "execution_count": 328,
   "metadata": {},
   "outputs": [
    {
     "output_type": "execute_result",
     "data": {
      "text/plain": "39794"
     },
     "metadata": {},
     "execution_count": 328
    }
   ],
   "source": [
    "len(parsed_test_df)"
   ]
  },
  {
   "cell_type": "code",
   "execution_count": 332,
   "metadata": {},
   "outputs": [
    {
     "output_type": "execute_result",
     "data": {
      "text/plain": "              well_id experiment  plate well                filename  \\\n0      HEPG2-08_1_B03   HEPG2-08      1  B03  HEPG2-08_1_B03_s1.jpeg   \n39794  HEPG2-08_1_B03   HEPG2-08      1  B03  HEPG2-08_1_B03_s2.jpeg   \n\n      cell_type   sirna  sirna_id  site  \n0         HEPG2  s21721       855     1  \n39794     HEPG2  s21721       855     2  ",
      "text/html": "<div>\n<style scoped>\n    .dataframe tbody tr th:only-of-type {\n        vertical-align: middle;\n    }\n\n    .dataframe tbody tr th {\n        vertical-align: top;\n    }\n\n    .dataframe thead th {\n        text-align: right;\n    }\n</style>\n<table border=\"1\" class=\"dataframe\">\n  <thead>\n    <tr style=\"text-align: right;\">\n      <th></th>\n      <th>well_id</th>\n      <th>experiment</th>\n      <th>plate</th>\n      <th>well</th>\n      <th>filename</th>\n      <th>cell_type</th>\n      <th>sirna</th>\n      <th>sirna_id</th>\n      <th>site</th>\n    </tr>\n  </thead>\n  <tbody>\n    <tr>\n      <th>0</th>\n      <td>HEPG2-08_1_B03</td>\n      <td>HEPG2-08</td>\n      <td>1</td>\n      <td>B03</td>\n      <td>HEPG2-08_1_B03_s1.jpeg</td>\n      <td>HEPG2</td>\n      <td>s21721</td>\n      <td>855</td>\n      <td>1</td>\n    </tr>\n    <tr>\n      <th>39794</th>\n      <td>HEPG2-08_1_B03</td>\n      <td>HEPG2-08</td>\n      <td>1</td>\n      <td>B03</td>\n      <td>HEPG2-08_1_B03_s2.jpeg</td>\n      <td>HEPG2</td>\n      <td>s21721</td>\n      <td>855</td>\n      <td>2</td>\n    </tr>\n  </tbody>\n</table>\n</div>"
     },
     "metadata": {},
     "execution_count": 332
    }
   ],
   "source": [
    "parsed_test_df[(parsed_test_df.sirna_id == 855) & (parsed_test_df.experiment == 'HEPG2-08')]"
   ]
  },
  {
   "cell_type": "code",
   "execution_count": 338,
   "metadata": {},
   "outputs": [],
   "source": [
    "parsed_test_df = parsed_test_df.drop(columns = ['cell_type', 'sirna', 'site'])"
   ]
  },
  {
   "cell_type": "code",
   "execution_count": 335,
   "metadata": {},
   "outputs": [
    {
     "output_type": "execute_result",
     "data": {
      "text/plain": "          id_code experiment  plate well  sirna                filename\n0  HEPG2-01_1_B03   HEPG2-01      1  B03    513  HEPG2-01_1_B03_s1.jpeg\n1  HEPG2-01_1_B04   HEPG2-01      1  B04    840  HEPG2-01_1_B04_s1.jpeg\n2  HEPG2-01_1_B05   HEPG2-01      1  B05   1020  HEPG2-01_1_B05_s1.jpeg\n3  HEPG2-01_1_B06   HEPG2-01      1  B06    254  HEPG2-01_1_B06_s1.jpeg\n4  HEPG2-01_1_B07   HEPG2-01      1  B07    144  HEPG2-01_1_B07_s1.jpeg",
      "text/html": "<div>\n<style scoped>\n    .dataframe tbody tr th:only-of-type {\n        vertical-align: middle;\n    }\n\n    .dataframe tbody tr th {\n        vertical-align: top;\n    }\n\n    .dataframe thead th {\n        text-align: right;\n    }\n</style>\n<table border=\"1\" class=\"dataframe\">\n  <thead>\n    <tr style=\"text-align: right;\">\n      <th></th>\n      <th>id_code</th>\n      <th>experiment</th>\n      <th>plate</th>\n      <th>well</th>\n      <th>sirna</th>\n      <th>filename</th>\n    </tr>\n  </thead>\n  <tbody>\n    <tr>\n      <th>0</th>\n      <td>HEPG2-01_1_B03</td>\n      <td>HEPG2-01</td>\n      <td>1</td>\n      <td>B03</td>\n      <td>513</td>\n      <td>HEPG2-01_1_B03_s1.jpeg</td>\n    </tr>\n    <tr>\n      <th>1</th>\n      <td>HEPG2-01_1_B04</td>\n      <td>HEPG2-01</td>\n      <td>1</td>\n      <td>B04</td>\n      <td>840</td>\n      <td>HEPG2-01_1_B04_s1.jpeg</td>\n    </tr>\n    <tr>\n      <th>2</th>\n      <td>HEPG2-01_1_B05</td>\n      <td>HEPG2-01</td>\n      <td>1</td>\n      <td>B05</td>\n      <td>1020</td>\n      <td>HEPG2-01_1_B05_s1.jpeg</td>\n    </tr>\n    <tr>\n      <th>3</th>\n      <td>HEPG2-01_1_B06</td>\n      <td>HEPG2-01</td>\n      <td>1</td>\n      <td>B06</td>\n      <td>254</td>\n      <td>HEPG2-01_1_B06_s1.jpeg</td>\n    </tr>\n    <tr>\n      <th>4</th>\n      <td>HEPG2-01_1_B07</td>\n      <td>HEPG2-01</td>\n      <td>1</td>\n      <td>B07</td>\n      <td>144</td>\n      <td>HEPG2-01_1_B07_s1.jpeg</td>\n    </tr>\n  </tbody>\n</table>\n</div>"
     },
     "metadata": {},
     "execution_count": 335
    }
   ],
   "source": [
    "parsed_df.head()"
   ]
  },
  {
   "cell_type": "code",
   "execution_count": 339,
   "metadata": {},
   "outputs": [
    {
     "output_type": "execute_result",
     "data": {
      "text/plain": "          well_id experiment  plate well                filename  sirna_id\n0  HEPG2-08_1_B03   HEPG2-08      1  B03  HEPG2-08_1_B03_s1.jpeg       855\n2  HEPG2-08_1_B04   HEPG2-08      1  B04  HEPG2-08_1_B04_s1.jpeg       710\n4  HEPG2-08_1_B05   HEPG2-08      1  B05  HEPG2-08_1_B05_s1.jpeg       836\n6  HEPG2-08_1_B06   HEPG2-08      1  B06  HEPG2-08_1_B06_s1.jpeg       249\n8  HEPG2-08_1_B07   HEPG2-08      1  B07  HEPG2-08_1_B07_s1.jpeg       878",
      "text/html": "<div>\n<style scoped>\n    .dataframe tbody tr th:only-of-type {\n        vertical-align: middle;\n    }\n\n    .dataframe tbody tr th {\n        vertical-align: top;\n    }\n\n    .dataframe thead th {\n        text-align: right;\n    }\n</style>\n<table border=\"1\" class=\"dataframe\">\n  <thead>\n    <tr style=\"text-align: right;\">\n      <th></th>\n      <th>well_id</th>\n      <th>experiment</th>\n      <th>plate</th>\n      <th>well</th>\n      <th>filename</th>\n      <th>sirna_id</th>\n    </tr>\n  </thead>\n  <tbody>\n    <tr>\n      <th>0</th>\n      <td>HEPG2-08_1_B03</td>\n      <td>HEPG2-08</td>\n      <td>1</td>\n      <td>B03</td>\n      <td>HEPG2-08_1_B03_s1.jpeg</td>\n      <td>855</td>\n    </tr>\n    <tr>\n      <th>2</th>\n      <td>HEPG2-08_1_B04</td>\n      <td>HEPG2-08</td>\n      <td>1</td>\n      <td>B04</td>\n      <td>HEPG2-08_1_B04_s1.jpeg</td>\n      <td>710</td>\n    </tr>\n    <tr>\n      <th>4</th>\n      <td>HEPG2-08_1_B05</td>\n      <td>HEPG2-08</td>\n      <td>1</td>\n      <td>B05</td>\n      <td>HEPG2-08_1_B05_s1.jpeg</td>\n      <td>836</td>\n    </tr>\n    <tr>\n      <th>6</th>\n      <td>HEPG2-08_1_B06</td>\n      <td>HEPG2-08</td>\n      <td>1</td>\n      <td>B06</td>\n      <td>HEPG2-08_1_B06_s1.jpeg</td>\n      <td>249</td>\n    </tr>\n    <tr>\n      <th>8</th>\n      <td>HEPG2-08_1_B07</td>\n      <td>HEPG2-08</td>\n      <td>1</td>\n      <td>B07</td>\n      <td>HEPG2-08_1_B07_s1.jpeg</td>\n      <td>878</td>\n    </tr>\n  </tbody>\n</table>\n</div>"
     },
     "metadata": {},
     "execution_count": 339
    }
   ],
   "source": [
    "parsed_test_df.head()"
   ]
  },
  {
   "cell_type": "code",
   "execution_count": 317,
   "metadata": {},
   "outputs": [
    {
     "output_type": "execute_result",
     "data": {
      "text/plain": "            site_id         well_id cell_type dataset experiment  plate well  \\\n2  HEPG2-08_1_B03_1  HEPG2-08_1_B03     HEPG2    test   HEPG2-08      1  B03   \n3  HEPG2-08_1_B03_2  HEPG2-08_1_B03     HEPG2    test   HEPG2-08      1  B03   \n\n   site  well_type   sirna  sirna_id  \n2     1  treatment  s21721       855  \n3     2  treatment  s21721       855  ",
      "text/html": "<div>\n<style scoped>\n    .dataframe tbody tr th:only-of-type {\n        vertical-align: middle;\n    }\n\n    .dataframe tbody tr th {\n        vertical-align: top;\n    }\n\n    .dataframe thead th {\n        text-align: right;\n    }\n</style>\n<table border=\"1\" class=\"dataframe\">\n  <thead>\n    <tr style=\"text-align: right;\">\n      <th></th>\n      <th>site_id</th>\n      <th>well_id</th>\n      <th>cell_type</th>\n      <th>dataset</th>\n      <th>experiment</th>\n      <th>plate</th>\n      <th>well</th>\n      <th>site</th>\n      <th>well_type</th>\n      <th>sirna</th>\n      <th>sirna_id</th>\n    </tr>\n  </thead>\n  <tbody>\n    <tr>\n      <th>2</th>\n      <td>HEPG2-08_1_B03_1</td>\n      <td>HEPG2-08_1_B03</td>\n      <td>HEPG2</td>\n      <td>test</td>\n      <td>HEPG2-08</td>\n      <td>1</td>\n      <td>B03</td>\n      <td>1</td>\n      <td>treatment</td>\n      <td>s21721</td>\n      <td>855</td>\n    </tr>\n    <tr>\n      <th>3</th>\n      <td>HEPG2-08_1_B03_2</td>\n      <td>HEPG2-08_1_B03</td>\n      <td>HEPG2</td>\n      <td>test</td>\n      <td>HEPG2-08</td>\n      <td>1</td>\n      <td>B03</td>\n      <td>2</td>\n      <td>treatment</td>\n      <td>s21721</td>\n      <td>855</td>\n    </tr>\n  </tbody>\n</table>\n</div>"
     },
     "metadata": {},
     "execution_count": 317
    }
   ],
   "source": [
    "test_df[(test_df.sirna_id == 855) & (test_df.experiment == 'HEPG2-08')]"
   ]
  },
  {
   "cell_type": "code",
   "execution_count": 342,
   "metadata": {},
   "outputs": [],
   "source": [
    "parsed_df.to_pickle('data_files/train.pkl')\n",
    "parsed_test_df.to_pickle('data_files/test.pkl')"
   ]
  }
 ],
 "metadata": {
  "language_info": {
   "codemirror_mode": {
    "name": "ipython",
    "version": 3
   },
   "file_extension": ".py",
   "mimetype": "text/x-python",
   "name": "python",
   "nbconvert_exporter": "python",
   "pygments_lexer": "ipython3",
   "version": "3.8.2-final"
  },
  "orig_nbformat": 2,
  "kernelspec": {
   "name": "python38264bit0c31753cb4904f759510df829f98c315",
   "display_name": "Python 3.8.2 64-bit"
  }
 },
 "nbformat": 4,
 "nbformat_minor": 2
}